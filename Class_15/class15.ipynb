{
 "cells": [
  {
   "cell_type": "markdown",
   "metadata": {},
   "source": [
    "## Callable function \n"
   ]
  },
  {
   "cell_type": "code",
   "execution_count": 2,
   "metadata": {},
   "outputs": [
    {
     "name": "stdout",
     "output_type": "stream",
     "text": [
      "<class 'type'>\n"
     ]
    }
   ],
   "source": [
    "class sampleCLass:\n",
    "    def method(self):\n",
    "        print(\"You called method!\")\n",
    "\n",
    "print(type(sampleCLass))"
   ]
  },
  {
   "cell_type": "code",
   "execution_count": 3,
   "metadata": {},
   "outputs": [
    {
     "data": {
      "text/plain": [
       "['__abstractmethods__',\n",
       " '__annotations__',\n",
       " '__base__',\n",
       " '__bases__',\n",
       " '__basicsize__',\n",
       " '__call__',\n",
       " '__class__',\n",
       " '__delattr__',\n",
       " '__dict__',\n",
       " '__dictoffset__',\n",
       " '__dir__',\n",
       " '__doc__',\n",
       " '__eq__',\n",
       " '__flags__',\n",
       " '__format__',\n",
       " '__ge__',\n",
       " '__getattribute__',\n",
       " '__getstate__',\n",
       " '__gt__',\n",
       " '__hash__',\n",
       " '__init__',\n",
       " '__init_subclass__',\n",
       " '__instancecheck__',\n",
       " '__itemsize__',\n",
       " '__le__',\n",
       " '__lt__',\n",
       " '__module__',\n",
       " '__mro__',\n",
       " '__name__',\n",
       " '__ne__',\n",
       " '__new__',\n",
       " '__or__',\n",
       " '__prepare__',\n",
       " '__qualname__',\n",
       " '__reduce__',\n",
       " '__reduce_ex__',\n",
       " '__repr__',\n",
       " '__ror__',\n",
       " '__setattr__',\n",
       " '__sizeof__',\n",
       " '__str__',\n",
       " '__subclasscheck__',\n",
       " '__subclasses__',\n",
       " '__subclasshook__',\n",
       " '__text_signature__',\n",
       " '__type_params__',\n",
       " '__weakrefoffset__',\n",
       " 'mro']"
      ]
     },
     "execution_count": 3,
     "metadata": {},
     "output_type": "execute_result"
    }
   ],
   "source": [
    "dir(type) # type is also an object it means in object we have callable method which is given below __call__"
   ]
  },
  {
   "cell_type": "code",
   "execution_count": 4,
   "metadata": {},
   "outputs": [
    {
     "data": {
      "text/plain": [
       "True"
      ]
     },
     "execution_count": 4,
     "metadata": {},
     "output_type": "execute_result"
    }
   ],
   "source": [
    "class NonCallable:\n",
    "    def __call__(self):  \n",
    "        raise TypeError(\"not really callable\")\n",
    "    \n",
    "instance : NonCallable = NonCallable()\n",
    "callable(instance)\n",
    "# True means it's a callable function. "
   ]
  },
  {
   "cell_type": "code",
   "execution_count": 6,
   "metadata": {},
   "outputs": [
    {
     "data": {
      "text/plain": [
       "4"
      ]
     },
     "execution_count": 6,
     "metadata": {},
     "output_type": "execute_result"
    }
   ],
   "source": [
    "from typing import Any\n",
    "\n",
    "\n",
    "class PowerFactory():\n",
    "    def __init__(self, exponent = 2) -> None:\n",
    "        self.exponent = exponent\n",
    "    def __call__(self, base):   \n",
    "        return base**self.exponent  # self.exponent is 2 and base is an argument of callable function.\n",
    "    \n",
    "a : PowerFactory = PowerFactory()  # when we made instance / method \n",
    "a.exponent  # 2\n",
    "a(2)  # 2 will be multiply by base and in base we passed 2. "
   ]
  },
  {
   "cell_type": "code",
   "execution_count": 11,
   "metadata": {},
   "outputs": [
    {
     "name": "stdout",
     "output_type": "stream",
     "text": [
      "[12]\n",
      "12.0\n",
      "[12, 13]\n",
      "12.5\n",
      "[12, 13, 11]\n",
      "12.0\n"
     ]
    },
    {
     "data": {
      "text/plain": [
       "[12, 13, 11]"
      ]
     },
     "execution_count": 11,
     "metadata": {},
     "output_type": "execute_result"
    }
   ],
   "source": [
    "class CumulativeAverage:\n",
    "    def __init__(self):\n",
    "        self.data = []   # we made attribute of self.data = [] means we made empty array \n",
    "\n",
    "    def __call__(self, new_value):\n",
    "        self.data.append(new_value)\n",
    "        print(self.data) # after each append it will show the updated data \n",
    "        return sum(self.data) / len(self.data)\n",
    "\n",
    "stream_average = CumulativeAverage() # made instance first init ka constructor call hoga then callable call hoga \n",
    "# round bracket open close means we pass value in callable function. meaning this 12 is now in data (empty array me chala jae ga 12)\n",
    "print(stream_average(12))   # data = (12) (12/1)  1 is len. meaning sum data / len data. len is length.\n",
    "print(stream_average(13))   # data = (12,13) (12+13/2) now length is 2 cuz we passed 12 & 13 \n",
    "print(stream_average(11))   # data = (12,13,11) (12+13+11/3)\n",
    "\n",
    "stream_average.data\n",
    "\n",
    "\n"
   ]
  },
  {
   "cell_type": "code",
   "execution_count": 25,
   "metadata": {},
   "outputs": [
    {
     "data": {
      "text/plain": [
       "{0: 1, 1: 1, 2: 2, 3: 6, 4: 24, 5: 120}"
      ]
     },
     "execution_count": 25,
     "metadata": {},
     "output_type": "execute_result"
    }
   ],
   "source": [
    "class Factorial:\n",
    "    def __init__(self):\n",
    "        self.cache = {0:1, 1:1}\n",
    "    def __call__(self, number):\n",
    "        if number not in self.cache:\n",
    "            self.cache[number] = number * self(number-1)\n",
    "        return self.cache[number]\n",
    "        \n",
    "    \n",
    "factorial_of = Factorial()   # instance / method / object\n",
    "\n",
    "factorial_of(4) # 4 will go to callable function so 4 isn't already present so it will add it \n",
    "factorial_of(5)  # aise koi bh calculation jo pehle se nahowe ho ye usko exccecute krega \n",
    "factorial_of.cache  # it will show default vlaue \n",
    "    "
   ]
  },
  {
   "cell_type": "code",
   "execution_count": 30,
   "metadata": {},
   "outputs": [],
   "source": [
    "# create personal package which we import from paic gegnai.py file\n",
    "from piaic.genai import ExcecutionTimer"
   ]
  },
  {
   "cell_type": "code",
   "execution_count": 32,
   "metadata": {},
   "outputs": [
    {
     "name": "stdout",
     "output_type": "stream",
     "text": [
      "square_numbers() took  0.007300 ms\n"
     ]
    },
    {
     "data": {
      "text/plain": [
       "[0, 1, 4, 9, 16, 25, 36, 49, 64, 81]"
      ]
     },
     "execution_count": 32,
     "metadata": {},
     "output_type": "execute_result"
    }
   ],
   "source": [
    "@ExcecutionTimer  # we used this as a decorator / package beore any function we use this as a timer package \n",
    "def square_numbers(numbers):\n",
    "    return[number ** 2 for number in numbers]\n",
    "\n",
    "square_numbers(list(range(10)))"
   ]
  },
  {
   "cell_type": "markdown",
   "metadata": {},
   "source": [
    "## How can we create python package for public users?\n",
    "* https://www.turing.com/kb/how-to-create-pypi-packages"
   ]
  },
  {
   "cell_type": "code",
   "execution_count": 35,
   "metadata": {},
   "outputs": [
    {
     "name": "stdout",
     "output_type": "stream",
     "text": [
      "0800\n",
      "0283-128471\n"
     ]
    }
   ],
   "source": [
    "from xml.etree.ElementTree import PI\n",
    "\n",
    "\n",
    "class Piaic():\n",
    "    def __init__(self) -> None:\n",
    "        #self.name                             public\n",
    "        self.piaic_helpline : str = \"0800\" # \n",
    "        #self._name                             protected\n",
    "        self._total_expense : int = 6000000 # protection applied by ._\n",
    "        # __ = dundder\n",
    "        #self.__name                             private\n",
    "        self.__test_announcement : str = \"5 Nov 2023\" # private applied by .__ double underscore\n",
    "\n",
    "\n",
    "isfhan : Piaic = Piaic()\n",
    "\n",
    "print(isfhan.piaic_helpline)  # we can access it and also can change it\n",
    "isfhan.piaic_helpline = \"0283-128471\" # we can change it\n",
    "print(isfhan.piaic_helpline)\n"
   ]
  },
  {
   "cell_type": "code",
   "execution_count": 36,
   "metadata": {},
   "outputs": [
    {
     "ename": "AttributeError",
     "evalue": "'Piaic' object has no attribute 'test_announcement'",
     "output_type": "error",
     "traceback": [
      "\u001b[1;31m---------------------------------------------------------------------------\u001b[0m",
      "\u001b[1;31mAttributeError\u001b[0m                            Traceback (most recent call last)",
      "Cell \u001b[1;32mIn[36], line 1\u001b[0m\n\u001b[1;32m----> 1\u001b[0m \u001b[43misfhan\u001b[49m\u001b[38;5;241;43m.\u001b[39;49m\u001b[43mtest_announcement\u001b[49m\n",
      "\u001b[1;31mAttributeError\u001b[0m: 'Piaic' object has no attribute 'test_announcement'"
     ]
    }
   ],
   "source": [
    "isfhan.test_announcement # we can't access test_accouncement attribute cuz it's private"
   ]
  },
  {
   "cell_type": "code",
   "execution_count": 37,
   "metadata": {},
   "outputs": [
    {
     "ename": "AttributeError",
     "evalue": "'Piaic' object has no attribute 'total_expense'",
     "output_type": "error",
     "traceback": [
      "\u001b[1;31m---------------------------------------------------------------------------\u001b[0m",
      "\u001b[1;31mAttributeError\u001b[0m                            Traceback (most recent call last)",
      "Cell \u001b[1;32mIn[37], line 1\u001b[0m\n\u001b[1;32m----> 1\u001b[0m \u001b[43misfhan\u001b[49m\u001b[38;5;241;43m.\u001b[39;49m\u001b[43mtotal_expense\u001b[49m\n",
      "\u001b[1;31mAttributeError\u001b[0m: 'Piaic' object has no attribute 'total_expense'"
     ]
    }
   ],
   "source": [
    "isfhan.total_expense"
   ]
  },
  {
   "cell_type": "code",
   "execution_count": 40,
   "metadata": {},
   "outputs": [
    {
     "ename": "AttributeError",
     "evalue": "'Piaic' object has no attribute '__test_announcement'",
     "output_type": "error",
     "traceback": [
      "\u001b[1;31m---------------------------------------------------------------------------\u001b[0m",
      "\u001b[1;31mAttributeError\u001b[0m                            Traceback (most recent call last)",
      "Cell \u001b[1;32mIn[40], line 1\u001b[0m\n\u001b[1;32m----> 1\u001b[0m \u001b[43misfhan\u001b[49m\u001b[38;5;241;43m.\u001b[39;49m\u001b[43m__test_announcement\u001b[49m \u001b[38;5;66;03m# kamzoori hai ke bata dia \u001b[39;00m\n",
      "\u001b[1;31mAttributeError\u001b[0m: 'Piaic' object has no attribute '__test_announcement'"
     ]
    }
   ],
   "source": [
    "isfhan.__test_announcement "
   ]
  },
  {
   "cell_type": "code",
   "execution_count": 39,
   "metadata": {},
   "outputs": [
    {
     "data": {
      "text/plain": [
       "6000000"
      ]
     },
     "execution_count": 39,
     "metadata": {},
     "output_type": "execute_result"
    }
   ],
   "source": [
    "isfhan._total_expense"
   ]
  },
  {
   "cell_type": "code",
   "execution_count": 41,
   "metadata": {},
   "outputs": [
    {
     "data": {
      "text/plain": [
       "'5 Nov 2023'"
      ]
     },
     "execution_count": 41,
     "metadata": {},
     "output_type": "execute_result"
    }
   ],
   "source": [
    "isfhan._Piaic__test_announcement     # kamzoori hai ke bata dia "
   ]
  },
  {
   "cell_type": "markdown",
   "metadata": {},
   "source": [
    "# Encapsulation :-\n",
    "* kuch methods / attributes ko hum private, public kr dete hai taake user hamare system ke through access kre na ke apne tareeqo se tu aise system ke lie we perform encapsulation."
   ]
  },
  {
   "cell_type": "code",
   "execution_count": 51,
   "metadata": {},
   "outputs": [
    {
     "ename": "AttributeError",
     "evalue": "'StudentLogic' object has no attribute '__password'",
     "output_type": "error",
     "traceback": [
      "\u001b[1;31m---------------------------------------------------------------------------\u001b[0m",
      "\u001b[1;31mAttributeError\u001b[0m                            Traceback (most recent call last)",
      "Cell \u001b[1;32mIn[51], line 26\u001b[0m\n\u001b[0;32m     24\u001b[0m \u001b[38;5;66;03m# now pass class student_login to object under the name qasim\u001b[39;00m\n\u001b[0;32m     25\u001b[0m qasim : StudentLogic \u001b[38;5;241m=\u001b[39m StudentLogic() \u001b[38;5;66;03m# object create\u001b[39;00m\n\u001b[1;32m---> 26\u001b[0m \u001b[43mqasim\u001b[49m\u001b[38;5;241;43m.\u001b[39;49m\u001b[43m__password\u001b[49m \u001b[38;5;66;03m# password is private that's why it didn't show.\u001b[39;00m\n",
      "\u001b[1;31mAttributeError\u001b[0m: 'StudentLogic' object has no attribute '__password'"
     ]
    }
   ],
   "source": [
    "class StudentLogic():\n",
    "    def __init__(self) -> None:\n",
    "        self.__username : str = \"Qasim\"  # private attribute\n",
    "        self.__password : str = \"1234\"   # private attribute\n",
    "    \n",
    "    def __dbconnectivity(self, user: str, password: str): \n",
    "        #print(\"Successfully Connect.\")\n",
    "        if user == self.__username and password == self.__password:  # we access username and password into child class private attributes can acces in child class\n",
    "            return \"Valid User\"\n",
    "        else:\n",
    "            return \"Invalid User\"\n",
    "        \n",
    "    def update_password(self, new_password: str): # public\n",
    "        self.__password = new_password\n",
    "        print(\"Password Updated Successfully\")\n",
    "\n",
    "    def student_login(self, user: str, pass1: str):\n",
    "        message : str = self.__dbconnectivity(user, pass1)  # connectivity ko messgae me pass krrhe oor message ko display krrhe so dbconnectivity me jo kuch bh hoga woh hume display ho jae ga message ke through\n",
    "        print(message)\n",
    "\n",
    "    def display_information(self): # public \n",
    "        print(f\"Username: {self.__username} and password {self.__password}\") # show us private information\n",
    "\n",
    "# now pass class student_login to object under the name qasim\n",
    "qasim : StudentLogic = StudentLogic() # object create\n",
    "qasim.__password # password is private that's why it didn't show."
   ]
  },
  {
   "cell_type": "code",
   "execution_count": 53,
   "metadata": {},
   "outputs": [
    {
     "name": "stdout",
     "output_type": "stream",
     "text": [
      "Username: Qasim and password 1234\n",
      "Valid User\n"
     ]
    }
   ],
   "source": [
    "qasim.display_information()\n",
    "qasim.student_login(\"Qasim\", \"1234\")"
   ]
  },
  {
   "cell_type": "code",
   "execution_count": 52,
   "metadata": {},
   "outputs": [
    {
     "name": "stdout",
     "output_type": "stream",
     "text": [
      "Invalid User\n"
     ]
    }
   ],
   "source": [
    "qasim.student_login(\"Qkkkasim\", \"123skjah4\")"
   ]
  },
  {
   "cell_type": "code",
   "execution_count": 55,
   "metadata": {},
   "outputs": [
    {
     "name": "stdout",
     "output_type": "stream",
     "text": [
      "Password Updated Successfully\n",
      "Username: Qasim and password ijkl\n"
     ]
    }
   ],
   "source": [
    "qasim.update_password(\"ijkl\")\n",
    "qasim.display_information() # password has been updated."
   ]
  },
  {
   "cell_type": "markdown",
   "metadata": {},
   "source": [
    "## __str\n"
   ]
  },
  {
   "cell_type": "code",
   "execution_count": 56,
   "metadata": {},
   "outputs": [
    {
     "name": "stdout",
     "output_type": "stream",
     "text": [
      "<__main__.Teacher object at 0x000001B2CC9A8470>\n"
     ]
    }
   ],
   "source": [
    "class Teacher():\n",
    "    def __init__(self,name) -> None:\n",
    "        self.name : str = name\n",
    "\n",
    "sir_zia : Teacher = Teacher(\"sir zia\")\n",
    "\n",
    "print(sir_zia) # it's showing us position "
   ]
  },
  {
   "cell_type": "code",
   "execution_count": 57,
   "metadata": {},
   "outputs": [
    {
     "name": "stdout",
     "output_type": "stream",
     "text": [
      "Teacher name is sir zia\n"
     ]
    }
   ],
   "source": [
    "class Teacher():\n",
    "    def __init__(self,name) -> None:\n",
    "        self.name : str = name\n",
    " \n",
    "    def __str__(self) -> str:   # pass your name in __str form this it will be user targeted.\n",
    "        return f\"Teacher name is {self.name}\"  \n",
    "\n",
    "sir_zia : Teacher = Teacher(\"sir zia\")\n",
    "\n",
    "print(sir_zia)"
   ]
  },
  {
   "cell_type": "markdown",
   "metadata": {},
   "source": [
    "## Abstract Class\n"
   ]
  },
  {
   "cell_type": "code",
   "execution_count": 58,
   "metadata": {},
   "outputs": [
    {
     "ename": "TypeError",
     "evalue": "Can't instantiate abstract class Animal without an implementation for abstract method '__init__'",
     "output_type": "error",
     "traceback": [
      "\u001b[1;31m---------------------------------------------------------------------------\u001b[0m",
      "\u001b[1;31mTypeError\u001b[0m                                 Traceback (most recent call last)",
      "Cell \u001b[1;32mIn[58], line 15\u001b[0m\n\u001b[0;32m      9\u001b[0m         \u001b[38;5;28msuper\u001b[39m()\u001b[38;5;241m.\u001b[39m\u001b[38;5;21m__init__\u001b[39m()\n\u001b[0;32m     10\u001b[0m         \u001b[38;5;28mself\u001b[39m\u001b[38;5;241m.\u001b[39mliving_thing : \u001b[38;5;28mbool\u001b[39m \u001b[38;5;241m=\u001b[39m \u001b[38;5;28;01mTrue\u001b[39;00m\n\u001b[1;32m---> 15\u001b[0m isfahan : Animal \u001b[38;5;241m=\u001b[39m \u001b[43mAnimal\u001b[49m\u001b[43m(\u001b[49m\u001b[43m)\u001b[49m \n",
      "\u001b[1;31mTypeError\u001b[0m: Can't instantiate abstract class Animal without an implementation for abstract method '__init__'"
     ]
    }
   ],
   "source": [
    "# ABC meaning abstract base class abstract class ko hum child class ke through access kr sakte hai \n",
    "from abc import ABC, abstractmethod\n",
    "\n",
    "from traitlets import Bool\n",
    "\n",
    "class Animal(ABC):\n",
    "    @abstractmethod\n",
    "    def __init__(self) -> None:\n",
    "        super().__init__()\n",
    "        self.living_thing : bool = True\n",
    "        \n",
    "isfahan : Animal = Animal()   # we cann't made direct object in abstract class"
   ]
  },
  {
   "cell_type": "code",
   "execution_count": 63,
   "metadata": {},
   "outputs": [
    {
     "name": "stdout",
     "output_type": "stream",
     "text": [
      "True\n"
     ]
    }
   ],
   "source": [
    "from abc import ABC, abstractmethod\n",
    "\n",
    "\n",
    "class Animal(ABC):\n",
    "    @abstractmethod\n",
    "    def __init__(self) -> None:\n",
    "        super().__init__()\n",
    "        self.living_thing : bool = True\n",
    "\n",
    "class Cat(Animal):\n",
    "    def __init__(self) -> None:  # here we overright it, other wise it won't perform \n",
    "        super().__init__()   \n",
    "isfahan : Cat = Cat()\n",
    "print(isfahan.living_thing)"
   ]
  },
  {
   "cell_type": "code",
   "execution_count": 64,
   "metadata": {},
   "outputs": [
    {
     "ename": "TypeError",
     "evalue": "Can't instantiate abstract class Cat without an implementation for abstract method 'eat'",
     "output_type": "error",
     "traceback": [
      "\u001b[1;31m---------------------------------------------------------------------------\u001b[0m",
      "\u001b[1;31mTypeError\u001b[0m                                 Traceback (most recent call last)",
      "Cell \u001b[1;32mIn[64], line 23\u001b[0m\n\u001b[0;32m     16\u001b[0m     \u001b[38;5;28;01mdef\u001b[39;00m \u001b[38;5;21m__init__\u001b[39m(\u001b[38;5;28mself\u001b[39m) \u001b[38;5;241m-\u001b[39m\u001b[38;5;241m>\u001b[39m \u001b[38;5;28;01mNone\u001b[39;00m:\n\u001b[0;32m     17\u001b[0m         \u001b[38;5;28msuper\u001b[39m()\u001b[38;5;241m.\u001b[39m\u001b[38;5;21m__init__\u001b[39m()\n\u001b[1;32m---> 23\u001b[0m isfahan : Cat \u001b[38;5;241m=\u001b[39m \u001b[43mCat\u001b[49m\u001b[43m(\u001b[49m\u001b[43m)\u001b[49m\n\u001b[0;32m     26\u001b[0m \u001b[38;5;28mprint\u001b[39m(isfahan\u001b[38;5;241m.\u001b[39mliving_thing)\n",
      "\u001b[1;31mTypeError\u001b[0m: Can't instantiate abstract class Cat without an implementation for abstract method 'eat'"
     ]
    }
   ],
   "source": [
    "from abc import ABC, abstractmethod\n",
    "\n",
    "\n",
    "class Animal(ABC):\n",
    "    @abstractmethod\n",
    "    def __init__(self) -> None:\n",
    "        super().__init__()\n",
    "        self.living_thing : bool = True\n",
    "\n",
    "    @abstractmethod\n",
    "    def eat(self,food:str):\n",
    "        ...   # when we don't write method signature we use three dots ...\n",
    "        \n",
    "\n",
    "class Cat(Animal):\n",
    "    def __init__(self) -> None:\n",
    "        super().__init__()\n",
    "\n",
    "        # error cuz we didn't overright eact method\n",
    "    \n",
    "\n",
    "    \n",
    "\n",
    "isfahan : Cat = Cat()\n",
    "\n",
    "\n",
    "print(isfahan.living_thing)"
   ]
  },
  {
   "cell_type": "code",
   "execution_count": 72,
   "metadata": {},
   "outputs": [
    {
     "name": "stdout",
     "output_type": "stream",
     "text": [
      "True\n"
     ]
    }
   ],
   "source": [
    "from abc import ABC, abstractmethod\n",
    "\n",
    "\n",
    "class Animal(ABC):\n",
    "    @abstractmethod\n",
    "    def __init__(self) -> None:\n",
    "        super().__init__()\n",
    "        self.living_thing : bool = True\n",
    "\n",
    "    @abstractmethod\n",
    "    def eat(self,food:str):\n",
    "        ...    # it won't work cuz we didn't pass signature.\n",
    "        \n",
    "\n",
    "class Cat(Animal):\n",
    "    def __init__(self) -> None:\n",
    "        super().__init__()# parent\n",
    "\n",
    "    def eat(self, food: str):\n",
    "        return f\"Cat is eating {food}\"\n",
    "\n",
    "isfahan : Cat = Cat()\n",
    "\n",
    "\n",
    "print(isfahan.living_thing)"
   ]
  },
  {
   "cell_type": "code",
   "execution_count": 81,
   "metadata": {},
   "outputs": [
    {
     "name": "stdout",
     "output_type": "stream",
     "text": [
      "True\n"
     ]
    }
   ],
   "source": [
    "from abc import ABC, abstractmethod\n",
    "\n",
    "\n",
    "class Animal(ABC):\n",
    "    @abstractmethod\n",
    "    def __init__(self) -> None:\n",
    "        super().__init__()\n",
    "        self.living_thing : bool = True\n",
    "\n",
    "    @abstractmethod\n",
    "    def eat(self,food:str):\n",
    "        ...\n",
    "        \n",
    "\n",
    "class Cat(Animal):\n",
    "    def __init__(self) -> None:\n",
    "        super().__init__()# parent\n",
    "\n",
    "    def eat(self, food: str):\n",
    "        return f\"Cat is eating {food}\"\n",
    "\n",
    "    \n",
    "\n",
    "    \n",
    "\n",
    "isfahan : Cat = Cat()\n",
    "\n",
    "\n",
    "print(isfahan.living_thing)"
   ]
  },
  {
   "cell_type": "code",
   "execution_count": 74,
   "metadata": {},
   "outputs": [
    {
     "name": "stdout",
     "output_type": "stream",
     "text": [
      "Cat is eating Mouse\n"
     ]
    }
   ],
   "source": [
    "print(isfahan.eat(\"Mouse\"))  # in eact method we are passing value"
   ]
  },
  {
   "cell_type": "markdown",
   "metadata": {},
   "source": [
    "## Duck Typing\n",
    "* https://ioflood.com/blog/duck-typing/"
   ]
  },
  {
   "cell_type": "code",
   "execution_count": 82,
   "metadata": {},
   "outputs": [
    {
     "name": "stdout",
     "output_type": "stream",
     "text": [
      "Quack!\n",
      "I'm Quacking Like a Duck!\n"
     ]
    }
   ],
   "source": [
    "class Duck:\n",
    "    def quack(self)->str:\n",
    "        return 'Quack!'\n",
    "\n",
    "class Person:\n",
    "    def quack(self)->str:\n",
    "        return 'I\\'m Quacking Like a Duck!'\n",
    "\n",
    "def in_the_forest(malard):\n",
    "    print(malard.quack())\n",
    "\n",
    "donald : Duck = Duck()\n",
    "john : Person = Person()\n",
    "in_the_forest(donald)\n",
    "in_the_forest(john)\n",
    "\n",
    "# Output:\n",
    "# 'Quack!'\n",
    "# 'I'm Quacking Like a Duck!'"
   ]
  }
 ],
 "metadata": {
  "kernelspec": {
   "display_name": "python12",
   "language": "python",
   "name": "python3"
  },
  "language_info": {
   "codemirror_mode": {
    "name": "ipython",
    "version": 3
   },
   "file_extension": ".py",
   "mimetype": "text/x-python",
   "name": "python",
   "nbconvert_exporter": "python",
   "pygments_lexer": "ipython3",
   "version": "3.12.4"
  }
 },
 "nbformat": 4,
 "nbformat_minor": 2
}
