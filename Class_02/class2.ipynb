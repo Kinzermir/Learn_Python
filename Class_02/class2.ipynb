{
 "cells": [
  {
   "cell_type": "markdown",
   "metadata": {},
   "source": [
    "# String Data Type in Python.\n"
   ]
  },
  {
   "cell_type": "code",
   "execution_count": 1,
   "metadata": {},
   "outputs": [
    {
     "name": "stdout",
     "output_type": "stream",
     "text": [
      "Hello, World!\n"
     ]
    }
   ],
   "source": [
    "print(\"Hello, World!\")"
   ]
  },
  {
   "cell_type": "code",
   "execution_count": 10,
   "metadata": {},
   "outputs": [
    {
     "name": "stdout",
     "output_type": "stream",
     "text": [
      "<class 'str'>\n",
      "Hello\n"
     ]
    }
   ],
   "source": [
    "# boundries\n",
    "# 'string text', \"string text\", '''string text''', \"\"\"string text\"\"\"\n",
    "name : str = 'Hello'\n",
    "print(type(name))\n",
    "print(name)"
   ]
  },
  {
   "cell_type": "code",
   "execution_count": 11,
   "metadata": {},
   "outputs": [
    {
     "name": "stdout",
     "output_type": "stream",
     "text": [
      "My name \"Kinzer Rahman Mir\" \n",
      " Father name\n"
     ]
    }
   ],
   "source": [
    "message : str = 'My name \"Kinzer Rahman Mir\" \\n Father name'\n",
    "print(message)  # outside single quote oor inside double qoutes use krne hai "
   ]
  },
  {
   "cell_type": "code",
   "execution_count": 12,
   "metadata": {},
   "outputs": [
    {
     "name": "stdout",
     "output_type": "stream",
     "text": [
      "Piaic Student Card \n",
      " father's Name \n"
     ]
    }
   ],
   "source": [
    "# convert any special character into simple charater, use / before special charater\n",
    "message : str = 'Piaic Student Card \\n father\\'s Name '\n",
    "print(message)"
   ]
  },
  {
   "cell_type": "code",
   "execution_count": 13,
   "metadata": {},
   "outputs": [
    {
     "data": {
      "text/plain": [
       "'abc'"
      ]
     },
     "execution_count": 13,
     "metadata": {},
     "output_type": "execute_result"
    }
   ],
   "source": [
    "\"a\" + \"b\" + \"c\"  # called concatination"
   ]
  },
  {
   "cell_type": "code",
   "execution_count": 14,
   "metadata": {},
   "outputs": [
    {
     "data": {
      "text/plain": [
       "'a7'"
      ]
     },
     "execution_count": 14,
     "metadata": {},
     "output_type": "execute_result"
    }
   ],
   "source": [
    "\"a\" + str(7)  # from this 7 will convert to string mtlb ap () parameters me 7 pass krrhe oor function ke paramaters ko str assign krrhe"
   ]
  },
  {
   "cell_type": "markdown",
   "metadata": {},
   "source": [
    "Type casting problem"
   ]
  },
  {
   "cell_type": "code",
   "execution_count": 22,
   "metadata": {},
   "outputs": [
    {
     "ename": "TypeError",
     "evalue": "can only concatenate str (not \"int\") to str",
     "output_type": "error",
     "traceback": [
      "\u001b[1;31m---------------------------------------------------------------------------\u001b[0m",
      "\u001b[1;31mTypeError\u001b[0m                                 Traceback (most recent call last)",
      "Cell \u001b[1;32mIn[22], line 5\u001b[0m\n\u001b[0;32m      3\u001b[0m education : \u001b[38;5;28mstr\u001b[39m \u001b[38;5;241m=\u001b[39m \u001b[38;5;124m\"\u001b[39m\u001b[38;5;124mMasters\u001b[39m\u001b[38;5;124m\"\u001b[39m\n\u001b[0;32m      4\u001b[0m age : \u001b[38;5;28mint\u001b[39m \u001b[38;5;241m=\u001b[39m \u001b[38;5;241m30\u001b[39m\n\u001b[1;32m----> 5\u001b[0m card : \u001b[38;5;28mstr\u001b[39m \u001b[38;5;241m=\u001b[39m \u001b[38;5;124;43m\"\u001b[39;49m\u001b[38;5;124;43mPiaic Student Card \u001b[39;49m\u001b[38;5;130;43;01m\\n\u001b[39;49;00m\u001b[38;5;124;43m Student Name: \u001b[39;49m\u001b[38;5;124;43m\"\u001b[39;49m\u001b[43m \u001b[49m\u001b[38;5;241;43m+\u001b[39;49m\u001b[43m \u001b[49m\u001b[43mname\u001b[49m\u001b[43m \u001b[49m\u001b[38;5;241;43m+\u001b[39;49m\u001b[43m \u001b[49m\u001b[38;5;124;43m\"\u001b[39;49m\u001b[38;5;130;43;01m\\n\u001b[39;49;00m\u001b[38;5;124;43mAge\u001b[39;49m\u001b[38;5;124;43m\"\u001b[39;49m\u001b[43m \u001b[49m\u001b[38;5;241;43m+\u001b[39;49m\u001b[43m \u001b[49m\u001b[43mage\u001b[49m\n\u001b[0;32m      6\u001b[0m \u001b[38;5;28mprint\u001b[39m(card)\n",
      "\u001b[1;31mTypeError\u001b[0m: can only concatenate str (not \"int\") to str"
     ]
    }
   ],
   "source": [
    "name : str = \"John\"\n",
    "fname : str = \"Doe\"\n",
    "education : str = \"Masters\"\n",
    "age : int = 30    \n",
    "card : str = \"Piaic Student Card \\n Student Name: \" + name + \"\\nAge\" + age # it will give you erro bec age type is integer and the name type is string so confilt occur, comparison must be str with str and int with str \n",
    "print(card)"
   ]
  },
  {
   "cell_type": "code",
   "execution_count": 31,
   "metadata": {},
   "outputs": [
    {
     "name": "stdout",
     "output_type": "stream",
     "text": [
      "Piaic Student Card\n",
      "Student Name: John\n",
      "Age:30\n",
      "Education:Masters\n"
     ]
    }
   ],
   "source": [
    "# \\n for next line and \\ it's used to write a code in next line, but in result you will get a code in one line \n",
    "name : str = \"John\"\n",
    "fname : str = \"Doe\"\n",
    "education : str = \"Masters\"\n",
    "age : int = 30     \n",
    "card : str = \"Piaic Student Card\\nStudent Name: \" + name +\\\n",
    "\"\\nAge:\" + str(age) + \"\\n\" + \\\n",
    "\"Education:\" + education  # it will give you erro bec age type is integer and the name type is string so confilt occur, comparison must be str with str and int with str\n",
    "\n",
    "\n",
    "print(card)"
   ]
  },
  {
   "cell_type": "markdown",
   "metadata": {},
   "source": [
    "# \\ Used for Line continue"
   ]
  },
  {
   "cell_type": "code",
   "execution_count": 28,
   "metadata": {},
   "outputs": [
    {
     "name": "stdout",
     "output_type": "stream",
     "text": [
      "23\n"
     ]
    }
   ],
   "source": [
    "print (5 + \\\n",
    "       7 + \\\n",
    "       11)   # if i want to continue in next line to organized, without disrupting code you can follow this method "
   ]
  },
  {
   "cell_type": "markdown",
   "metadata": {},
   "source": [
    "Define multiline strings \"\"\" or '''"
   ]
  },
  {
   "cell_type": "code",
   "execution_count": 33,
   "metadata": {},
   "outputs": [
    {
     "name": "stdout",
     "output_type": "stream",
     "text": [
      "    \n",
      "Piaic Student Card\n",
      "Student Name :John\n",
      "Education : Masters\n",
      "Age : 30\n",
      "Father Name : Doe \n",
      "Total : 6\n",
      "\n"
     ]
    }
   ],
   "source": [
    "# below we mentioned f called f string, here good point is we donn't have to change the type of age into str menas we don't have to face the type casting problem\n",
    "# f string power is that you can pass any variable such as name we have mentioned and we can pass any numerical function such as Total, mentioned below.\n",
    "name : str = \"John\"\n",
    "fname : str = \"Doe\"\n",
    "education : str = \"Masters\"\n",
    "age : int = 30      # ''' or \"\"\"\"\n",
    "card : str = f\"\"\"    \n",
    "Piaic Student Card\n",
    "Student Name :{name}\n",
    "Education : {education}\n",
    "Age : {age}\n",
    "Father Name : {fname} \n",
    "Total : {1+2+3}\n",
    "\"\"\"\n",
    "\n",
    "print(card)"
   ]
  },
  {
   "cell_type": "code",
   "execution_count": null,
   "metadata": {},
   "outputs": [],
   "source": [
    "name : str = \"John\"\n",
    "fname : str = \"Doe\"\n",
    "education : str = \"Masters\"\n",
    "age : int = 30      # `` this will show you error.\n",
    "card : str = f`    \n",
    "Piaic Student Card\n",
    "Student Name :{name}\n",
    "Education : {education}\n",
    "Age : {age}\n",
    "Father Name : {fname} \n",
    "`\n",
    "\n",
    "print(card)"
   ]
  },
  {
   "cell_type": "markdown",
   "metadata": {},
   "source": [
    "F-string and Jinja-string\n"
   ]
  },
  {
   "cell_type": "code",
   "execution_count": 36,
   "metadata": {},
   "outputs": [
    {
     "data": {
      "text/plain": [
       "'student name : John'"
      ]
     },
     "execution_count": 36,
     "metadata": {},
     "output_type": "execute_result"
    }
   ],
   "source": [
    "# F-string style\n",
    "f\"\"\"student name : {name}\"\"\""
   ]
  },
  {
   "cell_type": "code",
   "execution_count": null,
   "metadata": {},
   "outputs": [],
   "source": [
    "# Jinja style\n",
    "f\"\"\"student name : {{name}}\"\"\""
   ]
  },
  {
   "cell_type": "code",
   "execution_count": 41,
   "metadata": {},
   "outputs": [
    {
     "name": "stdout",
     "output_type": "stream",
     "text": [
      "Kinzer mir\n",
      "kinzer mir\n"
     ]
    }
   ],
   "source": [
    "name : str = \"KinZer Mir\"\n",
    "print(name.capitalize())\n",
    "print(name.casefold()) \n"
   ]
  },
  {
   "cell_type": "markdown",
   "metadata": {},
   "source": [
    "Methods of string"
   ]
  },
  {
   "cell_type": "code",
   "execution_count": 46,
   "metadata": {},
   "outputs": [
    {
     "data": {
      "text/plain": [
       "['__add__',\n",
       " '__class__',\n",
       " '__contains__',\n",
       " '__delattr__',\n",
       " '__dir__',\n",
       " '__doc__',\n",
       " '__eq__',\n",
       " '__format__',\n",
       " '__ge__',\n",
       " '__getattribute__',\n",
       " '__getitem__',\n",
       " '__getnewargs__',\n",
       " '__getstate__',\n",
       " '__gt__',\n",
       " '__hash__',\n",
       " '__init__',\n",
       " '__init_subclass__',\n",
       " '__iter__',\n",
       " '__le__',\n",
       " '__len__',\n",
       " '__lt__',\n",
       " '__mod__',\n",
       " '__mul__',\n",
       " '__ne__',\n",
       " '__new__',\n",
       " '__reduce__',\n",
       " '__reduce_ex__',\n",
       " '__repr__',\n",
       " '__rmod__',\n",
       " '__rmul__',\n",
       " '__setattr__',\n",
       " '__sizeof__',\n",
       " '__str__',\n",
       " '__subclasshook__',\n",
       " 'capitalize',\n",
       " 'casefold',\n",
       " 'center',\n",
       " 'count',\n",
       " 'encode',\n",
       " 'endswith',\n",
       " 'expandtabs',\n",
       " 'find',\n",
       " 'format',\n",
       " 'format_map',\n",
       " 'index',\n",
       " 'isalnum',\n",
       " 'isalpha',\n",
       " 'isascii',\n",
       " 'isdecimal',\n",
       " 'isdigit',\n",
       " 'isidentifier',\n",
       " 'islower',\n",
       " 'isnumeric',\n",
       " 'isprintable',\n",
       " 'isspace',\n",
       " 'istitle',\n",
       " 'isupper',\n",
       " 'join',\n",
       " 'ljust',\n",
       " 'lower',\n",
       " 'lstrip',\n",
       " 'maketrans',\n",
       " 'partition',\n",
       " 'removeprefix',\n",
       " 'removesuffix',\n",
       " 'replace',\n",
       " 'rfind',\n",
       " 'rindex',\n",
       " 'rjust',\n",
       " 'rpartition',\n",
       " 'rsplit',\n",
       " 'rstrip',\n",
       " 'split',\n",
       " 'splitlines',\n",
       " 'startswith',\n",
       " 'strip',\n",
       " 'swapcase',\n",
       " 'title',\n",
       " 'translate',\n",
       " 'upper',\n",
       " 'zfill']"
      ]
     },
     "execution_count": 46,
     "metadata": {},
     "output_type": "execute_result"
    }
   ],
   "source": [
    "dir(str)"
   ]
  },
  {
   "cell_type": "code",
   "execution_count": 43,
   "metadata": {},
   "outputs": [
    {
     "data": {
      "text/plain": [
       "'pakistan value a = 8 and value b = 7'"
      ]
     },
     "execution_count": 43,
     "metadata": {},
     "output_type": "execute_result"
    }
   ],
   "source": [
    "# .format\n",
    "a = 8 \n",
    "b = 7\n",
    "# {} place hoder\n",
    "#                    0                1         0,1\n",
    "\"pakistan value a = {} and value b = {}\".format(a,b)"
   ]
  },
  {
   "cell_type": "markdown",
   "metadata": {},
   "source": [
    "error "
   ]
  },
  {
   "cell_type": "code",
   "execution_count": 48,
   "metadata": {},
   "outputs": [
    {
     "name": "stdout",
     "output_type": "stream",
     "text": [
      "    \n",
      "Piaic Student Card\n",
      "Student Name :Doe\n",
      "Education : John\n",
      "Age : Masters\n",
      "Father Name : 30\n",
      "\n"
     ]
    }
   ],
   "source": [
    "# .filter  \n",
    "name : str = \"John\"\n",
    "fname : str = \"Doe\"\n",
    "education : str = \"Masters\"\n",
    "age : int = 30      # ''' or \"\"\"\"\n",
    "card : str = \"\"\"    \n",
    "Piaic Student Card\n",
    "Student Name :{}\n",
    "Education : {}\n",
    "Age : {}\n",
    "Father Name : {}\n",
    "\"\"\".format(fname, name , education, age)\n",
    "# in above example the fault is sequence which i gave and the sequence which i get in result is totaly opposite.\n",
    "print(card)"
   ]
  },
  {
   "cell_type": "code",
   "execution_count": 49,
   "metadata": {},
   "outputs": [
    {
     "name": "stdout",
     "output_type": "stream",
     "text": [
      "    \n",
      "Piaic Student Card\n",
      "Student Name :Doe\n",
      "Education : Masters\n",
      "Age : 30\n",
      "Father Name : John\n",
      "\n"
     ]
    }
   ],
   "source": [
    "# .filter  \n",
    "name : str = \"John\"\n",
    "fname : str = \"Doe\"\n",
    "education : str = \"Masters\"\n",
    "age : int = 30      # ''' or \"\"\"\"\n",
    "card : str = \"\"\"    \n",
    "Piaic Student Card\n",
    "Student Name :{0}\n",
    "Education : {2}\n",
    "Age : {3}\n",
    "Father Name : {1}\n",
    "\"\"\".format(fname, name , education, age)\n",
    "#           1       0       2       3 \n",
    "# for sequential coding i positioned indexing.\n",
    "print(card)"
   ]
  },
  {
   "cell_type": "code",
   "execution_count": 50,
   "metadata": {},
   "outputs": [
    {
     "name": "stdout",
     "output_type": "stream",
     "text": [
      "    \n",
      "Piaic Student Card\n",
      "Student Name :John\n",
      "Education : Masters\n",
      "Age : 30\n",
      "Father Name : Doe\n",
      "\n"
     ]
    }
   ],
   "source": [
    "# .filter  \n",
    "name : str = \"John\"\n",
    "fname : str = \"Doe\"\n",
    "education : str = \"Masters\"\n",
    "age : int = 30      # ''' or \"\"\"\"\n",
    "card : str = \"\"\"    \n",
    "Piaic Student Card\n",
    "Student Name :{b}\n",
    "Education : {c}\n",
    "Age : {d}\n",
    "Father Name : {a}\n",
    "\"\"\".format(a = fname, b= name , c= education, d= age)\n",
    "print(card)"
   ]
  },
  {
   "cell_type": "markdown",
   "metadata": {},
   "source": [
    " Exploring string methods and attribute\n",
    "pre-defined functions we have used\n",
    "* print\n",
    "* id\n",
    "* type\n",
    "* dir"
   ]
  },
  {
   "cell_type": "code",
   "execution_count": 51,
   "metadata": {},
   "outputs": [
    {
     "name": "stdout",
     "output_type": "stream",
     "text": [
      "['capitalize', 'casefold', 'center', 'count', 'encode', 'endswith', 'expandtabs', 'find', 'format', 'index', 'isalnum', 'isalpha', 'isascii', 'isdecimal', 'isdigit', 'isidentifier', 'islower', 'isnumeric', 'isprintable', 'isspace', 'istitle', 'isupper', 'join', 'ljust', 'lower', 'lstrip', 'maketrans', 'partition', 'removeprefix', 'removesuffix', 'replace', 'rfind', 'rindex', 'rjust', 'rpartition', 'rsplit', 'rstrip', 'split', 'splitlines', 'startswith', 'strip', 'swapcase', 'title', 'translate', 'upper', 'zfill']\n",
      "46\n"
     ]
    }
   ],
   "source": [
    "a : list[str] = [i for i in dir(str) if \"_\" not in i]\n",
    "print(a)   # showing string methods\n",
    "print(len(a)) # showing it's length"
   ]
  },
  {
   "cell_type": "code",
   "execution_count": 53,
   "metadata": {},
   "outputs": [
    {
     "name": "stdout",
     "output_type": "stream",
     "text": [
      "hanry\n",
      "Hanry\n"
     ]
    }
   ],
   "source": [
    "name : str = \"Hanry\"\n",
    "# variable_name.method()\n",
    "print(name.lower())\n",
    "print(name)"
   ]
  },
  {
   "cell_type": "code",
   "execution_count": 54,
   "metadata": {},
   "outputs": [
    {
     "data": {
      "text/plain": [
       "'Hanry           '"
      ]
     },
     "metadata": {},
     "output_type": "display_data"
    },
    {
     "data": {
      "text/plain": [
       "'              Hanry           '"
      ]
     },
     "metadata": {},
     "output_type": "display_data"
    }
   ],
   "source": [
    "name : str = \"              Hanry           \"\n",
    "# variable_name.method()\n",
    "# remove left side space\n",
    "display(name.lstrip())\n",
    "display(name)"
   ]
  },
  {
   "cell_type": "code",
   "execution_count": 57,
   "metadata": {},
   "outputs": [
    {
     "data": {
      "text/plain": [
       "'              Hanry'"
      ]
     },
     "metadata": {},
     "output_type": "display_data"
    },
    {
     "data": {
      "text/plain": [
       "'              Hanry           '"
      ]
     },
     "metadata": {},
     "output_type": "display_data"
    }
   ],
   "source": [
    "name : str = \"              Hanry           \"\n",
    "# variable_name.method()\n",
    "# remove right side space\n",
    "display(name.rstrip())\n",
    "display(name)"
   ]
  },
  {
   "cell_type": "code",
   "execution_count": 65,
   "metadata": {},
   "outputs": [
    {
     "data": {
      "text/plain": [
       "' Hanry Martin '"
      ]
     },
     "metadata": {},
     "output_type": "display_data"
    },
    {
     "data": {
      "text/plain": [
       "'Hanry Martin'"
      ]
     },
     "metadata": {},
     "output_type": "display_data"
    }
   ],
   "source": [
    "import re  \n",
    "# rejex impor rejex to avoid spaces\n",
    "name : str = \"              Hanry     Martin          \"\n",
    "\n",
    "name1 : str = re.sub(\" {2,100}\",\" \",name)  # 2 ya 100 tak agr space hu tu single space krdo name me\n",
    "name2 : str = re.sub(\" {2,100}\",\" \",name).strip() # to avoid spaces fromm both sides.\n",
    "display(name1)\n",
    "display(name2)\n"
   ]
  },
  {
   "cell_type": "code",
   "execution_count": 66,
   "metadata": {},
   "outputs": [
    {
     "name": "stdout",
     "output_type": "stream",
     "text": [
      "Hanry Peter\n",
      "hanry peter\n"
     ]
    }
   ],
   "source": [
    "name : str = \"hanry peter\"\n",
    "# it will captial the first word of each word.\n",
    "print(name.title())\n",
    "print(name)"
   ]
  },
  {
   "cell_type": "code",
   "execution_count": 70,
   "metadata": {},
   "outputs": [
    {
     "name": "stdout",
     "output_type": "stream",
     "text": [
      "Namepeter\n",
      "Namepete\n"
     ]
    }
   ],
   "source": [
    "print(\"Name:\\bpeter\")\n",
    "# remove the backspace letter\n",
    "print(\"Name:\\bpeter\\b\")"
   ]
  },
  {
   "cell_type": "code",
   "execution_count": 71,
   "metadata": {},
   "outputs": [
    {
     "data": {
      "text/plain": [
       "'daraz.con'"
      ]
     },
     "execution_count": 71,
     "metadata": {},
     "output_type": "execute_result"
    }
   ],
   "source": [
    "url : str = \"https://daraz.con\"\n",
    "url.removeprefix(\"https://\")  # for remove from start "
   ]
  },
  {
   "cell_type": "code",
   "execution_count": 72,
   "metadata": {},
   "outputs": [
    {
     "name": "stdout",
     "output_type": "stream",
     "text": [
      "Peter Son\n"
     ]
    }
   ],
   "source": [
    "my_name = \"peter son\"\n",
    "print(my_name.title())"
   ]
  }
 ],
 "metadata": {
  "kernelspec": {
   "display_name": "python12",
   "language": "python",
   "name": "python3"
  },
  "language_info": {
   "codemirror_mode": {
    "name": "ipython",
    "version": 3
   },
   "file_extension": ".py",
   "mimetype": "text/x-python",
   "name": "python",
   "nbconvert_exporter": "python",
   "pygments_lexer": "ipython3",
   "version": "3.12.4"
  }
 },
 "nbformat": 4,
 "nbformat_minor": 2
}
