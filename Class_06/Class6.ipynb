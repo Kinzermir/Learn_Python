{
 "cells": [
  {
   "cell_type": "markdown",
   "id": "53407dea-109b-4aa2-8478-1ad22f825e14",
   "metadata": {},
   "source": [
    "# If-else-elif\n",
    "```\n",
    "if logic:    ( logic is comparison operator )\n",
    "    True_block\n",
    "    else:\n",
    "    False_block\n",
    "```\n",
    "# Comprehensive Style\n",
    "```\n",
    "True_block if logic else False_block\n",
    "true block if logic se pehle aa jaega\n",
    "```\n",
    "* if-else\n",
    "* if-elif-else"
   ]
  },
  {
   "cell_type": "code",
   "execution_count": 2,
   "id": "d8ec2f81-7678-478d-a5d3-d3605d94bacd",
   "metadata": {},
   "outputs": [
    {
     "name": "stdout",
     "output_type": "stream",
     "text": [
      "Pakistan Zindabad\n"
     ]
    }
   ],
   "source": [
    "if True :    \n",
    "    print(\"Pakistan Zindabad\")\n",
    "else :\n",
    "    print(\"Hello world\")"
   ]
  },
  {
   "cell_type": "code",
   "execution_count": 4,
   "id": "03aed369-9775-43c9-bbfa-c5357a7f8af7",
   "metadata": {},
   "outputs": [
    {
     "name": "stdout",
     "output_type": "stream",
     "text": [
      "Hello world\n"
     ]
    }
   ],
   "source": [
    "if False :   # if condition false then print Pakistan Zindabad and if true then print Hello world\n",
    "    print(\"Pakistan Zindabad\")\n",
    "else :\n",
    "    print(\"Hello world\")"
   ]
  },
  {
   "cell_type": "code",
   "execution_count": 12,
   "id": "d065a3c9-3a0f-489a-a63e-404fc9fd766d",
   "metadata": {},
   "outputs": [
    {
     "name": "stdout",
     "output_type": "stream",
     "text": [
      "Pakistan Zindabad\n",
      "hello\n",
      "world\n"
     ]
    }
   ],
   "source": [
    "if True :\n",
    "    print(\"Pakistan Zindabad\")\n",
    "\n",
    "print(\"hello\")\n",
    "print(\"world\")"
   ]
  },
  {
   "cell_type": "code",
   "execution_count": 10,
   "id": "85ccad9f-76b0-4690-9383-da573a3aa48a",
   "metadata": {},
   "outputs": [
    {
     "name": "stdout",
     "output_type": "stream",
     "text": [
      "hello\n",
      "world\n"
     ]
    }
   ],
   "source": [
    "if False :\n",
    "    print(\"Pakistan Zindabad\")\n",
    "\n",
    "print(\"hello\")\n",
    "print(\"world\")"
   ]
  },
  {
   "cell_type": "markdown",
   "id": "b4ed4326-4f15-497b-ad5b-4b50b7f12984",
   "metadata": {},
   "source": [
    "## Now apply comprehensive style"
   ]
  },
  {
   "cell_type": "code",
   "execution_count": 7,
   "id": "43990cd7-14e2-4b9b-ba14-e174d68a2eb6",
   "metadata": {},
   "outputs": [
    {
     "name": "stdout",
     "output_type": "stream",
     "text": [
      "Hello world\n"
     ]
    }
   ],
   "source": [
    "# True_block if logic else False_block (structure)\n",
    "#    True_block               Logic          False_block\n",
    "print(\"Pakistan Zindabad\") if False else print(\"Hello world\")"
   ]
  },
  {
   "cell_type": "code",
   "execution_count": 8,
   "id": "d95fda56-74ca-45b7-94a9-d2ff6fea8344",
   "metadata": {},
   "outputs": [
    {
     "name": "stdout",
     "output_type": "stream",
     "text": [
      "Pakistan Zindabad\n"
     ]
    }
   ],
   "source": [
    "#    True_block               Logic          False_block\n",
    "print(\"Pakistan Zindabad\") if True else print(\"Hello world\")"
   ]
  },
  {
   "cell_type": "markdown",
   "id": "5371803f-d299-4bcd-8b0f-39f4e790838c",
   "metadata": {},
   "source": [
    "# Comparison Operator\n",
    "* ==\n",
    "* `>=`\n",
    "* <=\n",
    "* !=\n",
    "## logic\n",
    "* and\n",
    "* or\n",
    "* not"
   ]
  },
  {
   "cell_type": "code",
   "execution_count": 13,
   "id": "2d3acb87-6f78-465b-90ca-a6785b4bed28",
   "metadata": {},
   "outputs": [
    {
     "name": "stdout",
     "output_type": "stream",
     "text": [
      "True_Block\n"
     ]
    }
   ],
   "source": [
    "# only 1 logic will run\n",
    "if True :\n",
    "    print(\"True_Block\")\n",
    "elif False :\n",
    "    print(\"elif_1\")\n",
    "elif False :\n",
    "    print(\"elif_2\")\n",
    "elif False :\n",
    "    print(\"elif_3\")\n",
    "else :\n",
    "    print(\"Pakistan\")"
   ]
  },
  {
   "cell_type": "code",
   "execution_count": 16,
   "id": "ae1f43c1-877a-4d8b-a50c-baadfdaa2faa",
   "metadata": {},
   "outputs": [
    {
     "name": "stdout",
     "output_type": "stream",
     "text": [
      "elif_1\n"
     ]
    }
   ],
   "source": [
    "# only 1 logic will run\n",
    "# if condition true it will print elit_1\n",
    "if False :\n",
    "    print(\"True_Block\")\n",
    "elif True :\n",
    "    print(\"elif_1\")\n",
    "elif True :\n",
    "    print(\"elif_2\")\n",
    "elif False :\n",
    "    print(\"elif_3\")\n",
    "else :\n",
    "    print(\"Pakistan\")"
   ]
  },
  {
   "cell_type": "code",
   "execution_count": 19,
   "id": "b8a34304-e575-45a1-9c04-b7901e2f5668",
   "metadata": {},
   "outputs": [
    {
     "name": "stdout",
     "output_type": "stream",
     "text": [
      "Pakistan\n",
      "Good\n"
     ]
    }
   ],
   "source": [
    "# only 1 logic will run\n",
    "# if all conditions are false, the else block will execute, and then it will exit the if condition and print Good\n",
    "if False :\n",
    "    print(\"True_Block\")\n",
    "elif False :\n",
    "    print(\"elif_1\")\n",
    "elif False :\n",
    "    print(\"elif_2\")\n",
    "elif False :\n",
    "    print(\"elif_3\")\n",
    "else :\n",
    "    print(\"Pakistan\")\n",
    "\n",
    "print(\"Good\")"
   ]
  },
  {
   "cell_type": "code",
   "execution_count": 31,
   "id": "d6cb6397-808f-4938-baac-7e3e3a14f33a",
   "metadata": {},
   "outputs": [
    {
     "name": "stdout",
     "output_type": "stream",
     "text": [
      "Dear student your percentage is 88.0 now your calculated grade is :\t A+ \n"
     ]
    }
   ],
   "source": [
    "# Union data type is used for multiple types when you assigned.\n",
    "from typing import Union  \n",
    "\n",
    "per : Union[int, float] = 88.0\n",
    "grade : Union[str, None] = None     # grade is variable and declared none bec we need to add value later, in if condition, that's why we declared none and str\n",
    "\n",
    "if True :   # default value jo bh ho ge woh true me aa jae ga oor agr false howe tu elif per 70 pr chale jae ge \n",
    "    grade = \"A+\"\n",
    "elif per >= 70 :\n",
    "    grade = \"A\"\n",
    "elif per >= 60 :\n",
    "    grade = \"B\"\n",
    "elif per >= 50 :\n",
    "    grade = \"C\" \n",
    "elif per >= 33 :\n",
    "    grade = \"E\"\n",
    "else :\n",
    "    grade = \"Fail\"\n",
    "\n",
    "print(f'Dear student your percentage is {per} now your calculated grade is :\\t {grade} ')"
   ]
  },
  {
   "cell_type": "code",
   "execution_count": 34,
   "id": "74584fb5-5ce6-40ea-accc-7030af1ed785",
   "metadata": {},
   "outputs": [
    {
     "name": "stdin",
     "output_type": "stream",
     "text": [
      "Enter you number hello\n"
     ]
    },
    {
     "name": "stdout",
     "output_type": "stream",
     "text": [
      "<class 'str'>\n",
      "hello\n"
     ]
    }
   ],
   "source": [
    "# default type of input is string\n",
    "number = input(\"Enter you number\")\n",
    "print(type (number))\n",
    "print(number)"
   ]
  },
  {
   "cell_type": "code",
   "execution_count": 35,
   "id": "5a5fbf50-432c-4bdf-9ad1-95fd7013e81c",
   "metadata": {},
   "outputs": [
    {
     "name": "stdin",
     "output_type": "stream",
     "text": [
      "Enter your percentage 23\n"
     ]
    },
    {
     "name": "stdout",
     "output_type": "stream",
     "text": [
      "<class 'int'>\n",
      "23\n"
     ]
    }
   ],
   "source": [
    "# here we converted input type into interger\n",
    "number = int(input(\"Enter your percentage\"))\n",
    "print(type (number))\n",
    "print(number)"
   ]
  },
  {
   "cell_type": "code",
   "execution_count": 41,
   "id": "b5c0ab8d-bd66-4ed8-88e5-d96cfd1fad06",
   "metadata": {},
   "outputs": [
    {
     "name": "stdin",
     "output_type": "stream",
     "text": [
      "Enter your percentage: 23\n"
     ]
    },
    {
     "name": "stdout",
     "output_type": "stream",
     "text": [
      "Dear student your percentage is 23 now your calculated grade is : Fail \n"
     ]
    }
   ],
   "source": [
    "from typing import Union  \n",
    "\n",
    "per : Union[int, float] = int(input(\"Enter your percentage:\"))\n",
    "grade : Union[ None] = None     \n",
    "\n",
    "if per >= 80 :   \n",
    "    grade = \"A+\"\n",
    "elif per >= 70 :\n",
    "    grade = \"A\"\n",
    "elif per >= 60 :\n",
    "    grade = \"B\"\n",
    "elif per >= 50 :\n",
    "    grade = \"C\" \n",
    "elif per >= 33 :\n",
    "    grade = \"E\"\n",
    "else :\n",
    "    grade = \"Fail\"\n",
    "\n",
    "print(f'Dear student your percentage is {per} now your calculated grade is : {grade} ')"
   ]
  },
  {
   "cell_type": "markdown",
   "id": "8bf54eb3-dedb-4484-bf4d-ebb34367cec5",
   "metadata": {},
   "source": [
    "## Logical Error :-"
   ]
  },
  {
   "cell_type": "code",
   "execution_count": 42,
   "id": "785a7c61-89fc-419f-baab-4493c5c8f720",
   "metadata": {},
   "outputs": [
    {
     "name": "stdin",
     "output_type": "stream",
     "text": [
      "Enter your percentage: 99\n"
     ]
    },
    {
     "name": "stdout",
     "output_type": "stream",
     "text": [
      "Dear student your percentage is 99 now your calculated grade is : Fail \n"
     ]
    }
   ],
   "source": [
    "from typing import Union  \n",
    "\n",
    "per : Union[int, float] = int(input(\"Enter your percentage:\"))\n",
    "grade : Union[ None] = None     \n",
    "\n",
    "if per >= 0 :    # i give 99 in input which i greate than 0 means conditionis true so it print Fail\n",
    "    grade = \"Fail\"\n",
    "elif per >= 33 :\n",
    "    grade = \"D\"\n",
    "elif per >= 50 :\n",
    "    grade = \"c\"\n",
    "elif per >= 60 :\n",
    "    grade = \"B\" \n",
    "elif per >= 70 :\n",
    "    grade = \"A\"\n",
    "else :\n",
    "    grade = \"A+\"\n",
    "\n",
    "print(f'Dear student your percentage is {per} now your calculated grade is : {grade} ')"
   ]
  },
  {
   "cell_type": "markdown",
   "id": "2226f9a4-4ea4-4659-8bb4-522d69e57554",
   "metadata": {},
   "source": [
    "## Organized coding under the PEMDAS rule"
   ]
  },
  {
   "cell_type": "markdown",
   "id": "5f26be94-61c3-4c46-b323-3d2172cdcb22",
   "metadata": {},
   "source": [
    "## Avoid logical error"
   ]
  },
  {
   "cell_type": "code",
   "execution_count": 54,
   "id": "e9a39f3a-36d7-48da-a4d0-0468c1a8557b",
   "metadata": {},
   "outputs": [
    {
     "name": "stdin",
     "output_type": "stream",
     "text": [
      "Enter your percentage: 33.3\n"
     ]
    },
    {
     "name": "stdout",
     "output_type": "stream",
     "text": [
      "Dear student your percentage is 33.3 now your calculated grade is : D \n"
     ]
    }
   ],
   "source": [
    "from typing import Union  \n",
    "\n",
    "per : Union[int, float] = float(input(\"Enter your percentage:\"))\n",
    "grade : Union[ None] = None     \n",
    "\n",
    "if per >= 0 and per < 33 : # and meaning must be both condition \n",
    "    grade = \"Fail\"\n",
    "elif per >= 33 and per < 50 : \n",
    "    grade = \"D\"\n",
    "elif per >= 50 and per < 60 :\n",
    "    grade = \"c\"\n",
    "elif per >= 60 and per < 70 :\n",
    "    grade = \"B\" \n",
    "elif per >= 70 and per < 80 :\n",
    "    grade = \"A\"\n",
    "elif per >= 80 and per <= 100 :\n",
    "    grade = \"A+\"\n",
    "\n",
    "print(f'Dear student your percentage is {per} now your calculated grade is : {grade} ')"
   ]
  },
  {
   "cell_type": "markdown",
   "id": "f4f4a868-0eb7-4f95-aa64-336284dd887f",
   "metadata": {},
   "source": [
    "## Organized Code under the PEMDAS Rule:\n"
   ]
  },
  {
   "cell_type": "code",
   "execution_count": 52,
   "id": "daf72510-2668-490a-8935-fbff00d55d10",
   "metadata": {},
   "outputs": [
    {
     "name": "stdin",
     "output_type": "stream",
     "text": [
      "Enter your percentage: 79.87\n"
     ]
    },
    {
     "name": "stdout",
     "output_type": "stream",
     "text": [
      "Dear student your percentage is 79.87 now your calculated grade is : A \n"
     ]
    }
   ],
   "source": [
    "from typing import Union  \n",
    "\n",
    "per : Union[int, float] = float(input(\"Enter your percentage:\"))\n",
    "grade : Union[ None] = None     \n",
    "\n",
    "if (per >= 0) and (per < 33) : # and meaning must dono condition poori hone chaye\n",
    "    grade = \"Fail\"\n",
    "elif (per >= 33) and (per < 50) : \n",
    "    grade = \"D\"\n",
    "elif (per >= 50) and (per < 60) :\n",
    "    grade = \"c\"\n",
    "elif (per >= 60) and (per < 70) :\n",
    "    grade = \"B\" \n",
    "elif (per >= 70) and (per < 80) :\n",
    "    grade = \"A\"\n",
    "elif (per >= 80) and (per <= 100) :\n",
    "    grade = \"A+\"\n",
    "\n",
    "print(f'Dear student your percentage is {per} now your calculated grade is : {grade} ')"
   ]
  },
  {
   "cell_type": "markdown",
   "id": "a44a01db-86d1-430f-aae8-7c62d657db29",
   "metadata": {},
   "source": [
    "## Custom Data Type\n"
   ]
  },
  {
   "cell_type": "code",
   "execution_count": 55,
   "id": "8587a876-6aad-4012-a991-98d9532cd8de",
   "metadata": {},
   "outputs": [
    {
     "name": "stdout",
     "output_type": "stream",
     "text": [
      "[1, 2, 3, 4, 54.3, 23.12]\n"
     ]
    }
   ],
   "source": [
    "PerType = Union[int, float]  # this will be your custom data type\n",
    "\n",
    "per : list[PerType] = [1,2,3,4,54.3,23.12]\n",
    "print(per)\n"
   ]
  },
  {
   "cell_type": "code",
   "execution_count": 2,
   "id": "dbdfa355-ef8c-4afc-92c5-5be3719be388",
   "metadata": {},
   "outputs": [
    {
     "name": "stdout",
     "output_type": "stream",
     "text": [
      "[88, 99.3, 50, 54.34, 70]\n",
      "['A+', 'A+', 'c', 'c', 'A']\n"
     ]
    }
   ],
   "source": [
    "percentages : list[str] = [88, 99.3, 50, 54.34, 70]\n",
    "grades : list[str] = []\n",
    "\n",
    "for per in percentages :\n",
    "    grade : str = \"\"   # loca variable\n",
    "\n",
    "    if (per >= 0) and (per < 33) : # and meaning must dono condition poori hone chaye\n",
    "        grade = \"Fail\"\n",
    "    elif (per >= 33) and (per < 50) : \n",
    "        grade = \"D\"\n",
    "    elif (per >= 50) and (per < 60) :\n",
    "        grade = \"c\"\n",
    "    elif (per >= 60) and (per < 70) :\n",
    "        grade = \"B\" \n",
    "    elif (per >= 70) and (per < 80) :\n",
    "        grade = \"A\"\n",
    "    elif (per >= 80) and (per <= 100) :\n",
    "        grade = \"A+\"\n",
    "\n",
    "    grades.append(grade)\n",
    "print(percentages)\n",
    "print(grades)\n",
    "        \n"
   ]
  },
  {
   "cell_type": "code",
   "execution_count": 3,
   "id": "82aac2a5-3191-4ab9-be6d-48f636276815",
   "metadata": {},
   "outputs": [
    {
     "data": {
      "text/plain": [
       "<zip at 0x28c152c25c0>"
      ]
     },
     "execution_count": 3,
     "metadata": {},
     "output_type": "execute_result"
    }
   ],
   "source": [
    "zip(percentages, grades)  # it's telling zip function can't perform directly, you need to perform iteration"
   ]
  },
  {
   "cell_type": "code",
   "execution_count": 4,
   "id": "d3107124-6710-4ca2-9b73-3c569700a9db",
   "metadata": {},
   "outputs": [
    {
     "data": {
      "text/plain": [
       "[(88, 'A+'), (99.3, 'A+'), (50, 'c'), (54.34, 'c'), (70, 'A')]"
      ]
     },
     "execution_count": 4,
     "metadata": {},
     "output_type": "execute_result"
    }
   ],
   "source": [
    "list(zip(percentages, grades))  # list of tuples bana lia. "
   ]
  },
  {
   "cell_type": "code",
   "execution_count": 11,
   "id": "4874abc7-79e9-4ed2-8bb2-0df424b77aba",
   "metadata": {},
   "outputs": [
    {
     "data": {
      "text/plain": [
       "[0, 1, 2, 3, 4]"
      ]
     },
     "execution_count": 11,
     "metadata": {},
     "output_type": "execute_result"
    }
   ],
   "source": [
    "# create roll numbers\n",
    "roll_no : list[int] = list(range(len(percentages)))\n",
    "roll_no"
   ]
  },
  {
   "cell_type": "code",
   "execution_count": 13,
   "id": "93168592-c72f-45e5-a477-306fbde46cdb",
   "metadata": {},
   "outputs": [
    {
     "data": {
      "text/plain": [
       "[(0, 88, 'A+'), (1, 99.3, 'A+'), (2, 50, 'c'), (3, 54.34, 'c'), (4, 70, 'A')]"
      ]
     },
     "execution_count": 13,
     "metadata": {},
     "output_type": "execute_result"
    }
   ],
   "source": [
    "list(zip(roll_no, percentages, grades))"
   ]
  },
  {
   "cell_type": "code",
   "execution_count": 14,
   "id": "e05cac06-d88f-41bf-bbdf-3eff78635662",
   "metadata": {},
   "outputs": [
    {
     "data": {
      "text/plain": [
       "[(0, 88, 'A+'), (1, 99.3, 'A+'), (2, 50, 'c'), (3, 54.34, 'c'), (4, 70, 'A')]"
      ]
     },
     "execution_count": 14,
     "metadata": {},
     "output_type": "execute_result"
    }
   ],
   "source": [
    "# ye hamare pass data base ban gae.\n",
    "data_base = list(zip(roll_no, percentages, grades))\n",
    "data_base"
   ]
  },
  {
   "cell_type": "code",
   "execution_count": 17,
   "id": "aec69d67-b286-45f8-8157-dc34fa3118cb",
   "metadata": {},
   "outputs": [
    {
     "data": {
      "text/plain": [
       "[(0, 88, 'A+'), (1, 99.3, 'A+'), (2, 50, 'c'), (3, 54.34, 'c'), (4, 70, 'A')]"
      ]
     },
     "metadata": {},
     "output_type": "display_data"
    },
    {
     "data": {
      "text/plain": [
       "[(2, 50, 'c'), (3, 54.34, 'c'), (4, 70, 'A'), (0, 88, 'A+'), (1, 99.3, 'A+')]"
      ]
     },
     "execution_count": 17,
     "metadata": {},
     "output_type": "execute_result"
    }
   ],
   "source": [
    "display(data_base)\n",
    "# sorting through indexing need to pass paramater which is key and in key we pass lambda function, in that we access it by 1 index means 50 is on 1 index, so it will start sorting\n",
    "sorted(data_base, key = lambda x:x [1])"
   ]
  },
  {
   "cell_type": "code",
   "execution_count": 18,
   "id": "afb714ca-4aaa-4355-b380-49ce2d8bb353",
   "metadata": {},
   "outputs": [
    {
     "data": {
      "text/plain": [
       "[(1, 99.3, 'A+'), (0, 88, 'A+'), (4, 70, 'A'), (3, 54.34, 'c'), (2, 50, 'c')]"
      ]
     },
     "execution_count": 18,
     "metadata": {},
     "output_type": "execute_result"
    }
   ],
   "source": [
    "# if you want the greate number in top \n",
    "sorted(data_base, key = lambda x:x [1], reverse = True)"
   ]
  },
  {
   "cell_type": "code",
   "execution_count": 20,
   "id": "6bc5e976-238b-410f-b4b1-497269df5e00",
   "metadata": {},
   "outputs": [
    {
     "name": "stdout",
     "output_type": "stream",
     "text": [
      "Audi\n",
      "BMW\n",
      "Mehran\n",
      "Toyata\n"
     ]
    }
   ],
   "source": [
    "cars : list[str] = ['audi', 'bmw', 'mehran', 'toyata']\n",
    "for car in cars :\n",
    "    if car == 'bmw' :\n",
    "        print(car.upper())\n",
    "    else :\n",
    "        print(car.title())"
   ]
  },
  {
   "cell_type": "code",
   "execution_count": 27,
   "id": "1507dce2-3319-485c-b506-494b425bda33",
   "metadata": {},
   "outputs": [
    {
     "data": {
      "text/plain": [
       "False"
      ]
     },
     "execution_count": 27,
     "metadata": {},
     "output_type": "execute_result"
    }
   ],
   "source": [
    "cars : list[str] = ['audi', 'bmw', 'mehran', 'toyata']\n",
    "\n",
    "\"changan\" in cars"
   ]
  },
  {
   "cell_type": "code",
   "execution_count": 21,
   "id": "d1d6d9bc-c600-4726-b006-262ed1eb4a54",
   "metadata": {},
   "outputs": [
    {
     "data": {
      "text/plain": [
       "['Audi', 'BMW', 'Mehran', 'Toyata']"
      ]
     },
     "execution_count": 21,
     "metadata": {},
     "output_type": "execute_result"
    }
   ],
   "source": [
    "# Comprehensive styling.\n",
    "# structre: True_block if logic else False_block\n",
    "cars : list[str] = ['audi', 'bmw', 'mehran', 'toyata']\n",
    "\n",
    "[car.upper() if car == 'bmw' else car.title() for car in cars]"
   ]
  },
  {
   "cell_type": "code",
   "execution_count": null,
   "id": "cb27ee9e-1492-4980-b5b4-252f5f0e932b",
   "metadata": {},
   "outputs": [],
   "source": [
    "car = \"bmw\" # assign operator\n",
    "car == \"bmw\" # comparison operator"
   ]
  },
  {
   "cell_type": "code",
   "execution_count": 23,
   "id": "81f086e0-b190-4b27-9bc6-161263abdaed",
   "metadata": {},
   "outputs": [
    {
     "name": "stdout",
     "output_type": "stream",
     "text": [
      "AUDI\n",
      "BMW\n",
      "TOYATA\n"
     ]
    }
   ],
   "source": [
    "cars : list[str] = ['audi', 'bmw', 'mehran', 'toyata']\n",
    "for car in cars :\n",
    "    if car != 'mehran' :  # negate mehran, meaning mehran ko choor kr \n",
    "        print(car.upper())"
   ]
  },
  {
   "cell_type": "code",
   "execution_count": 24,
   "id": "dcb470a1-8068-40dd-bd39-b920315bf2de",
   "metadata": {},
   "outputs": [
    {
     "name": "stdout",
     "output_type": "stream",
     "text": [
      "AUDI\n",
      "BMW\n",
      "Mehran\n",
      "TOYATA\n"
     ]
    }
   ],
   "source": [
    "cars : list[str] = ['audi', 'bmw', 'mehran', 'toyata']\n",
    "for car in cars :\n",
    "    if car != 'mehran' :  \n",
    "        print(car.upper())\n",
    "    else :\n",
    "        print(car.title())  # mehran comes there \n"
   ]
  },
  {
   "cell_type": "code",
   "execution_count": 29,
   "id": "cb76e9c0-6b6f-4645-aee6-a040233d3413",
   "metadata": {},
   "outputs": [
    {
     "name": "stdout",
     "output_type": "stream",
     "text": [
      "True\n"
     ]
    }
   ],
   "source": [
    "banned_users = ['hanry', 'martin','peter']\n",
    "user = 'mavric'\n",
    "\n",
    "print(user not in banned_users)"
   ]
  },
  {
   "cell_type": "code",
   "execution_count": 30,
   "id": "c7a63dba-a26a-41d6-83ca-3ad39e334806",
   "metadata": {},
   "outputs": [
    {
     "name": "stdout",
     "output_type": "stream",
     "text": [
      "True\n",
      "Mavric, sorry you are not allowed.\n"
     ]
    }
   ],
   "source": [
    "banned_users = ['hanry', 'martin','peter']\n",
    "user = 'mavric'\n",
    "\n",
    "print(user not in banned_users)\n",
    "if user not in banned_users :\n",
    "    print(f'{user.title()}, sorry you are not allowed.')"
   ]
  },
  {
   "cell_type": "code",
   "execution_count": 32,
   "id": "5dd40d3a-53e7-44f6-86c2-c3c7b0010d7c",
   "metadata": {},
   "outputs": [
    {
     "name": "stdout",
     "output_type": "stream",
     "text": [
      "Adding mashrooms\n",
      "Adding extra cheese \n",
      "\n",
      " Making your pizza\n"
     ]
    }
   ],
   "source": [
    "cooking = ['mashroms', 'extra cheese']\n",
    "\n",
    "if 'mashroms' in cooking :\n",
    "    print('Adding mashrooms')\n",
    "\n",
    "if 'butter' in cooking :\n",
    "    print('Adding butter')\n",
    "\n",
    "if 'extra cheese' in cooking :\n",
    "    print(\"Adding extra cheese \")\n",
    "\n",
    "print('\\n Making your pizza')"
   ]
  },
  {
   "cell_type": "code",
   "execution_count": 37,
   "id": "4c67735c-96ec-48c1-aa80-35151a75ef4c",
   "metadata": {},
   "outputs": [
    {
     "name": "stdout",
     "output_type": "stream",
     "text": [
      "Sorry we do not have chicken\n",
      "Adding olives\n",
      "Sorry we do not have butter\n",
      "\n",
      "Making your pizza\n"
     ]
    }
   ],
   "source": [
    "available_toopings = ['mashrooms', 'olives', 'green papers', 'pepperoni']\n",
    "requested_toopings = ['chicken', 'olives', 'butter']\n",
    "\n",
    "for requested_tooping in requested_toopings :\n",
    "    if requested_tooping in available_toopings :\n",
    "        print(f'Adding {requested_tooping}')\n",
    "    else :\n",
    "        print(f'Sorry we do not have {requested_tooping}')\n",
    "\n",
    "print('\\nMaking your pizza')"
   ]
  },
  {
   "cell_type": "code",
   "execution_count": 38,
   "id": "9f6ef63c-6fd7-4de7-bc1a-2e5f22e25df1",
   "metadata": {},
   "outputs": [
    {
     "name": "stdin",
     "output_type": "stream",
     "text": [
      "Enter ',' saperated value for tooping  mas, lshfd,ksj\n"
     ]
    },
    {
     "data": {
      "text/plain": [
       "['mas', ' lshfd', 'ksj']"
      ]
     },
     "execution_count": 38,
     "metadata": {},
     "output_type": "execute_result"
    }
   ],
   "source": [
    "input (\"Enter ',' saperated value for tooping \").split(\",\")\n"
   ]
  },
  {
   "cell_type": "code",
   "execution_count": 46,
   "id": "5dabe6a7-b38a-410b-8aab-671af213fe1f",
   "metadata": {},
   "outputs": [
    {
     "name": "stdin",
     "output_type": "stream",
     "text": [
      "Enter toppings separated by a comma:  mushrooms\n"
     ]
    },
    {
     "name": "stdout",
     "output_type": "stream",
     "text": [
      "Adding mushrooms\n",
      "\n",
      "Making your pizza!\n"
     ]
    }
   ],
   "source": [
    "available_toppings = ['mushrooms', 'olives', 'green peppers', 'pepperoni']\n",
    "\n",
    "# Prompt the user to enter toppings separated by commas\n",
    "requested_toppings = input(\"Enter toppings separated by a comma: \").split(\",\")\n",
    "\n",
    "# Trim any extra spaces from each requested topping\n",
    "requested_toppings = [topping.strip() for topping in requested_toppings]\n",
    "\n",
    "for requested_topping in requested_toppings:\n",
    "    if requested_topping in available_toppings:\n",
    "        print(f'Adding {requested_topping}')\n",
    "    else:\n",
    "        print(f'Sorry, we do not have {requested_topping}')\n",
    "\n",
    "print('\\nMaking your pizza!')\n"
   ]
  },
  {
   "cell_type": "code",
   "execution_count": 49,
   "id": "9aa14a82-531b-43b5-8446-819e501085f8",
   "metadata": {},
   "outputs": [
    {
     "name": "stdin",
     "output_type": "stream",
     "text": [
      "Enter user id \t admin\n",
      "Enter password \t admin\n"
     ]
    },
    {
     "name": "stdout",
     "output_type": "stream",
     "text": [
      "sent opt \n"
     ]
    },
    {
     "name": "stdin",
     "output_type": "stream",
     "text": [
      "Please enter otp 123\n"
     ]
    },
    {
     "name": "stdout",
     "output_type": "stream",
     "text": [
      "Welcome to piaic\n"
     ]
    }
   ],
   "source": [
    "user_name = input(\"Enter user id \\t\")\n",
    "user_password = input(\"Enter password \\t\")\n",
    "\n",
    "if user_name == \"admin\" and user_password == \"admin\":\n",
    "    print(\"sent opt \")\n",
    "    otp : str = input(\"Please enter otp\")\n",
    "    if otp == '123' :\n",
    "        print(\"Welcome to piaic\")\n",
    "else :\n",
    "    print(\"Invalid user or password\")"
   ]
  }
 ],
 "metadata": {
  "kernelspec": {
   "display_name": "Python 3 (ipykernel)",
   "language": "python",
   "name": "python3"
  },
  "language_info": {
   "codemirror_mode": {
    "name": "ipython",
    "version": 3
   },
   "file_extension": ".py",
   "mimetype": "text/x-python",
   "name": "python",
   "nbconvert_exporter": "python",
   "pygments_lexer": "ipython3",
   "version": "3.12.4"
  }
 },
 "nbformat": 4,
 "nbformat_minor": 5
}
