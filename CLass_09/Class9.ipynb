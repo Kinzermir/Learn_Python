{
 "cells": [
  {
   "cell_type": "markdown",
   "id": "83838a1d",
   "metadata": {},
   "source": [
    "# Loop and input from user\n",
    "## Types\n",
    "* for \n",
    "* while\n",
    "* controls\n",
    "    * break\n",
    "    * runtime\n",
    "    * pass\n",
    "# Loops in Python\n",
    "## Types of Loops\n",
    "* For Loop: \n",
    "    * loop working on iterative data type (e.g., list, tuple, string, dictionary, set)\n",
    "\n",
    "* While Loop:\n",
    "    * repeats as long as a condition true\n",
    "\n",
    "* Loop Controls\n",
    "    * break (terminates the loop prematurely)\n",
    "    * continue (Skips the current iteration and continues with the next one)\n",
    "    * pass (does nothing can be passed as a placeholder.)\n",
    "\n",
    "# Input from user\n",
    "* Input function \n",
    "* Input from console function \n"
   ]
  },
  {
   "cell_type": "markdown",
   "id": "c6e9c3ea",
   "metadata": {},
   "source": [
    "### for loop (list) "
   ]
  },
  {
   "cell_type": "code",
   "execution_count": 2,
   "id": "fdf4e012",
   "metadata": {},
   "outputs": [
    {
     "name": "stdout",
     "output_type": "stream",
     "text": [
      "[1, 2, 3, 4, 5]\n"
     ]
    }
   ],
   "source": [
    "l : list[int] = [1,2,3,4,5]\n",
    "print(l) \n",
    "# result is in list form now we apply iteration to extract each element with in operatorb"
   ]
  },
  {
   "cell_type": "code",
   "execution_count": 5,
   "id": "8116fcac",
   "metadata": {},
   "outputs": [
    {
     "name": "stdout",
     "output_type": "stream",
     "text": [
      "currnet number: 1\n",
      "currnet number: 2\n",
      "currnet number: 3\n",
      "currnet number: 4\n",
      "currnet number: 5\n"
     ]
    }
   ],
   "source": [
    "# above result is in list form now we apply iteration to extract each element with in operatorn\n",
    "l : list[int] = [1,2,3,4,5]\n",
    "\n",
    "for l1 in l :\n",
    "    print(f\"currnet number: {l1}\")\n",
    "# the extracted items are  "
   ]
  },
  {
   "cell_type": "markdown",
   "id": "3c9fad5a",
   "metadata": {},
   "source": [
    "### for loop (tuple)"
   ]
  },
  {
   "cell_type": "code",
   "execution_count": 6,
   "id": "63c1b291",
   "metadata": {},
   "outputs": [
    {
     "name": "stdout",
     "output_type": "stream",
     "text": [
      "current number: 1\n",
      "current number: 2\n",
      "current number: 3\n",
      "current number: 4\n",
      "current number: 5\n"
     ]
    }
   ],
   "source": [
    "# iteration \n",
    "l : tuple[int] = (1,2,3,4,5)\n",
    "for l1 in l :\n",
    "    print(f'current number: {l1}')"
   ]
  },
  {
   "cell_type": "markdown",
   "id": "22ec387d",
   "metadata": {},
   "source": [
    "### for loop (sting)"
   ]
  },
  {
   "cell_type": "code",
   "execution_count": 7,
   "id": "8746aa96",
   "metadata": {},
   "outputs": [
    {
     "name": "stdout",
     "output_type": "stream",
     "text": [
      "current character: P\n",
      "current character: a\n",
      "current character: k\n",
      "current character: i\n",
      "current character: s\n",
      "current character: t\n",
      "current character: a\n",
      "current character: n\n"
     ]
    }
   ],
   "source": [
    "# iteration\n",
    "l : str = \"Pakistan\"\n",
    "for l1 in l :\n",
    "    print(f'current character: {l1}')"
   ]
  },
  {
   "cell_type": "code",
   "execution_count": 16,
   "id": "4c639afb",
   "metadata": {},
   "outputs": [
    {
     "name": "stdout",
     "output_type": "stream",
     "text": [
      "name \n",
      "dictionary key name  and value is hanry\n",
      "fname \n",
      "dictionary key fname  and value is mavric\n"
     ]
    }
   ],
   "source": [
    "# iteration perform over keys\n",
    "l : dict[str, str] = {\"name \":\"hanry\", \"fname \": \"mavric\"}\n",
    "for l1 in l :\n",
    "    print(l1)\n",
    "\n",
    "    print(f\"dictionary key {l1} and value is {l[l1]}\") # using this method we can extract key and vlaue."
   ]
  },
  {
   "cell_type": "markdown",
   "id": "ac84bf25",
   "metadata": {},
   "source": [
    "### for loop (set)"
   ]
  },
  {
   "cell_type": "code",
   "execution_count": 19,
   "id": "8fe04a5c",
   "metadata": {},
   "outputs": [
    {
     "name": "stdout",
     "output_type": "stream",
     "text": [
      "1\n",
      "2\n",
      "1\n",
      "4\n",
      "2\n",
      "3\n",
      "1\n"
     ]
    }
   ],
   "source": [
    "# Sets are unordered collections, but you can still iterate over them.\n",
    "l : set[int] = [1,2,1,4,2,3,1]\n",
    "for l1 in l :\n",
    "    print(l1)"
   ]
  },
  {
   "cell_type": "code",
   "execution_count": 21,
   "id": "b070b5fa",
   "metadata": {},
   "outputs": [
    {
     "name": "stdout",
     "output_type": "stream",
     "text": [
      "current number : 1\n",
      "current number : 2\n",
      "current number : 3\n",
      "current number : 4\n"
     ]
    }
   ],
   "source": [
    "# apply list over set to get unique element \n",
    "l : list[set[int]] =  list({1,2,1,4,2,3,1})\n",
    "for l1 in l :\n",
    "    print(f\"current number : {l1}\")\n"
   ]
  },
  {
   "cell_type": "markdown",
   "id": "be9b0fee",
   "metadata": {},
   "source": [
    "## input from user \n",
    "## ways to get data from user\n",
    "    * input function \n",
    "        * default type of input function is string\n",
    "\n",
    "    * sys.argv (for console input in abc.py file)\n",
    "        * default type = str"
   ]
  },
  {
   "cell_type": "code",
   "execution_count": 29,
   "id": "3da49be5",
   "metadata": {},
   "outputs": [
    {
     "name": "stdout",
     "output_type": "stream",
     "text": [
      "<class 'str'>\n",
      "Welcome dear use kinzer\n"
     ]
    }
   ],
   "source": [
    "# we can use input in class.py file and also in jupyter notebook\n",
    "name : str = input(\"what is your name? : \\t\")\n",
    "print(type (name))\n",
    "print(f'Welcome dear use {name}')"
   ]
  },
  {
   "cell_type": "code",
   "execution_count": 30,
   "id": "95db3b9a",
   "metadata": {},
   "outputs": [
    {
     "data": {
      "text/plain": [
       "[('mavric', 'peter', 16), ('hanry', 'john', 18)]"
      ]
     },
     "execution_count": 30,
     "metadata": {},
     "output_type": "execute_result"
    }
   ],
   "source": [
    "name : list[str] = [\"mavric\", \"hanry\"]\n",
    "father_name : list[str] = ['peter', \"john\"]\n",
    "age : list[int] = [16,18]\n",
    "\n",
    "list(zip(name, father_name, age))  # called zipping same index ke value ko aik tuple ma la rha hai and list of tuples are enclosed in"
   ]
  },
  {
   "cell_type": "markdown",
   "id": "2057725b",
   "metadata": {},
   "source": [
    "## while loop\n",
    "```\n",
    "while loop : #True/False\n",
    "    loop_body\n",
    "```"
   ]
  },
  {
   "cell_type": "code",
   "execution_count": null,
   "id": "3e337ce0",
   "metadata": {},
   "outputs": [],
   "source": [
    "flag : bool = True\n",
    "while flag:\n",
    "    print(flag)\n",
    "\n",
    "# if i print this it will continously ptint True, so for control we must have to break the while loop by reserve word \"break\", it control the loop to stop the condition "
   ]
  },
  {
   "cell_type": "markdown",
   "id": "c6963da4",
   "metadata": {},
   "source": [
    "## Loop control"
   ]
  },
  {
   "cell_type": "code",
   "execution_count": 33,
   "id": "b40be15c",
   "metadata": {},
   "outputs": [
    {
     "name": "stdout",
     "output_type": "stream",
     "text": [
      "current numner is 1\n",
      "current numner is 2\n",
      "current numner is 3\n",
      "current numner is 4\n",
      "current numner is 5\n",
      "current numner is 6\n",
      "current numner is 7\n",
      "current numner is 8\n",
      "current numner is 9\n"
     ]
    }
   ],
   "source": [
    "# while loop break\n",
    "flag : bool = True\n",
    "current_number : int = 1\n",
    "\n",
    "while flag :\n",
    "    print(f\"current numner is {current_number}\")\n",
    "    current_number += 1\n",
    "    if  current_number == 10 : # flage false at some point \n",
    "        break\n"
   ]
  },
  {
   "cell_type": "code",
   "execution_count": 43,
   "id": "684a5758",
   "metadata": {},
   "outputs": [
    {
     "name": "stdout",
     "output_type": "stream",
     "text": [
      "current index is 0  and list value is 100\n",
      "current index is 1  and list value is 200\n",
      "current index is 2  and list value is 300\n"
     ]
    }
   ],
   "source": [
    "my_list : list[int] = [100, 200, 300]\n",
    "index : int = 0\n",
    "\n",
    "while index < len(my_list) :\n",
    "    print(f\"current index is {index}  and list value is {my_list[index]}\")  # my_list[index] accesses the element in my_list at the position specified by index.\n",
    "    index += 1"
   ]
  },
  {
   "cell_type": "code",
   "execution_count": 44,
   "id": "4809171e",
   "metadata": {},
   "outputs": [
    {
     "data": {
      "text/plain": [
       "[{'name': 'hanry', 'education': 'bba'}]"
      ]
     },
     "metadata": {},
     "output_type": "display_data"
    }
   ],
   "source": [
    "data : list[dict[str, str]] = []  # initializes an empty list to store dictionaries of user data\n",
    "flag : bool = True\n",
    "\n",
    "while flag:\n",
    "    name : str = input(\"Your good name ? \\t:\")\n",
    "    education : str = input (\"Your education ? \\t:\")\n",
    "\n",
    "    if name in [\"exit\"] or education in [\"exit\"]:  # if name == \"exit\" or education == \"exit\": condition checks if the user wants to exit the loop by typing \"exit\".\n",
    "        flag = False  # if exit entered, flag is set to False and loop the break\n",
    "        break\n",
    "    data.append({\n",
    "        \"name\" : name,\n",
    "        \"education\" : education, \n",
    "    })\n",
    "\n",
    "display(data)"
   ]
  },
  {
   "cell_type": "code",
   "execution_count": 2,
   "id": "ef914131",
   "metadata": {},
   "outputs": [
    {
     "name": "stdout",
     "output_type": "stream",
     "text": [
      "2 X 1 = 2\n"
     ]
    }
   ],
   "source": [
    "# for loop break\n",
    "for i in range(1,11):\n",
    "    print(f\"2 X {i} = {i*2}\")\n",
    "    break\n",
    "# first make sure that your code is working properly or not\n"
   ]
  },
  {
   "cell_type": "code",
   "execution_count": 3,
   "id": "8e7e44bf",
   "metadata": {},
   "outputs": [
    {
     "name": "stdout",
     "output_type": "stream",
     "text": [
      "2 X 1 = 2\n",
      "2 X 2 = 4\n",
      "2 X 3 = 6\n",
      "2 X 4 = 8\n",
      "2 X 5 = 10\n",
      "2 X 6 = 12\n",
      "2 X 7 = 14\n",
      "2 X 8 = 16\n",
      "2 X 9 = 18\n",
      "2 X 10 = 20\n"
     ]
    }
   ],
   "source": [
    "for i in range(1,11):\n",
    "    print(f\"2 X {i} = {i*2}\")\n",
    "    "
   ]
  },
  {
   "cell_type": "code",
   "execution_count": 4,
   "id": "8a72d1ce",
   "metadata": {},
   "outputs": [
    {
     "name": "stdout",
     "output_type": "stream",
     "text": [
      "1\n",
      "2\n",
      "3\n",
      "4\n",
      "6\n",
      "7\n",
      "8\n",
      "9\n",
      "10\n"
     ]
    }
   ],
   "source": [
    "# contiue\n",
    "for i in range(1,11):\n",
    "    if i == 5:\n",
    "        continue   # Skip the iteration when i is 5\n",
    "    print(i) \n",
    "# resulting 5 won't show "
   ]
  },
  {
   "cell_type": "code",
   "execution_count": 5,
   "id": "87933b1a",
   "metadata": {},
   "outputs": [
    {
     "ename": "SyntaxError",
     "evalue": "incomplete input (4217917900.py, line 3)",
     "output_type": "error",
     "traceback": [
      "\u001b[1;36m  Cell \u001b[1;32mIn[5], line 3\u001b[1;36m\u001b[0m\n\u001b[1;33m    \u001b[0m\n\u001b[1;37m    ^\u001b[0m\n\u001b[1;31mSyntaxError\u001b[0m\u001b[1;31m:\u001b[0m incomplete input\n"
     ]
    }
   ],
   "source": [
    "# pass\n",
    "for i in range(1, 10000):\n",
    "# it will give error cuz i haven't written, for some how i want to write logic later, sor for that pass the logic."
   ]
  },
  {
   "cell_type": "code",
   "execution_count": 6,
   "id": "96d81945",
   "metadata": {},
   "outputs": [],
   "source": [
    "for i in range(1,10000):\n",
    "    pass   # see it haven't given error cuz we pass the logic"
   ]
  },
  {
   "cell_type": "code",
   "execution_count": 11,
   "id": "8523eb1f",
   "metadata": {},
   "outputs": [
    {
     "name": "stdout",
     "output_type": "stream",
     "text": [
      "\n",
      " Hello, qasim\n"
     ]
    }
   ],
   "source": [
    "# wrte code in multi lines.\n",
    "prompt = \"\"\"If you share your name. we can persolaize the msg you see\n",
    "what is your first name.\n",
    "\"\"\"\n",
    "name = input(prompt)\n",
    "print(f\"\\n Hello, {name}\")"
   ]
  },
  {
   "cell_type": "code",
   "execution_count": 13,
   "id": "958247bc",
   "metadata": {},
   "outputs": [
    {
     "ename": "TypeError",
     "evalue": "'>=' not supported between instances of 'str' and 'int'",
     "output_type": "error",
     "traceback": [
      "\u001b[1;31m---------------------------------------------------------------------------\u001b[0m",
      "\u001b[1;31mTypeError\u001b[0m                                 Traceback (most recent call last)",
      "Cell \u001b[1;32mIn[13], line 2\u001b[0m\n\u001b[0;32m      1\u001b[0m age : \u001b[38;5;28mstr\u001b[39m \u001b[38;5;241m=\u001b[39m \u001b[38;5;28minput\u001b[39m(\u001b[38;5;124m'\u001b[39m\u001b[38;5;124mEnter your age: \u001b[39m\u001b[38;5;124m'\u001b[39m)\n\u001b[1;32m----> 2\u001b[0m \u001b[43mage\u001b[49m\u001b[43m \u001b[49m\u001b[38;5;241;43m>\u001b[39;49m\u001b[38;5;241;43m=\u001b[39;49m\u001b[43m \u001b[49m\u001b[38;5;241;43m19\u001b[39;49m\n",
      "\u001b[1;31mTypeError\u001b[0m: '>=' not supported between instances of 'str' and 'int'"
     ]
    }
   ],
   "source": [
    "age : str = input('Enter your age: ')\n",
    "age >= 19\n",
    "# error bec input return str type so for that we have to particularly use int"
   ]
  },
  {
   "cell_type": "code",
   "execution_count": 16,
   "id": "db3dffb5",
   "metadata": {},
   "outputs": [
    {
     "data": {
      "text/plain": [
       "False"
      ]
     },
     "execution_count": 16,
     "metadata": {},
     "output_type": "execute_result"
    }
   ],
   "source": [
    "age : int = int(input(\"How do you do \"))\n",
    "age >= 18"
   ]
  },
  {
   "cell_type": "code",
   "execution_count": 18,
   "id": "c5afb4f0",
   "metadata": {},
   "outputs": [
    {
     "data": {
      "text/plain": [
       "[2, 4, 6, 8]"
      ]
     },
     "execution_count": 18,
     "metadata": {},
     "output_type": "execute_result"
    }
   ],
   "source": [
    "data : list[int] = [1,2,3,4,5,6,7,8,9]\n",
    "# extract even numbers\n",
    "[i for i in data if i%2==0]  # jb sirf if condition hu tu if last me ay ga "
   ]
  },
  {
   "cell_type": "code",
   "execution_count": 21,
   "id": "edfec19e",
   "metadata": {},
   "outputs": [
    {
     "data": {
      "text/plain": [
       "[1, 3, 5, 7, 9]"
      ]
     },
     "execution_count": 21,
     "metadata": {},
     "output_type": "execute_result"
    }
   ],
   "source": [
    "data : list[int] = [1,2,3,4,5,6,7,8,9]\n",
    "# extract odd numbers\n",
    "[i for i in data if i%2!=0]  # jb sirf if condition hu tu if last me ay ga "
   ]
  },
  {
   "cell_type": "code",
   "execution_count": 23,
   "id": "932b8f96",
   "metadata": {},
   "outputs": [
    {
     "name": "stdout",
     "output_type": "stream",
     "text": [
      "a\n",
      "a\n",
      "a\n"
     ]
    }
   ],
   "source": [
    "prompt : str = \"\\nTell me something i will repeat it to you\" # it's just a variable\n",
    "prompt += \"\\nEnter quit to send the program \"\n",
    "\n",
    "flag = True \n",
    "\n",
    "while flag :\n",
    "    message = input(prompt)  \n",
    "    if message == 'quit' :\n",
    "        flag = False\n",
    "    else :\n",
    "        print(message)"
   ]
  },
  {
   "cell_type": "code",
   "execution_count": 24,
   "id": "58eb69b2",
   "metadata": {},
   "outputs": [
    {
     "name": "stdout",
     "output_type": "stream",
     "text": [
      "1\n",
      "3\n",
      "5\n",
      "7\n",
      "9\n"
     ]
    }
   ],
   "source": [
    "current_number = 0 \n",
    "while current_number < 10:\n",
    "    current_number += 1\n",
    "    if current_number % 2 == 0: # extract odd numbers by using continue\n",
    "        continue\n",
    "\n",
    "    print(current_number)"
   ]
  },
  {
   "cell_type": "code",
   "execution_count": 25,
   "id": "fefe6701",
   "metadata": {},
   "outputs": [
    {
     "name": "stdout",
     "output_type": "stream",
     "text": [
      "2\n",
      "4\n",
      "6\n",
      "8\n",
      "10\n"
     ]
    }
   ],
   "source": [
    "current_number = 0 \n",
    "while current_number < 10:\n",
    "    current_number += 1\n",
    "    if current_number % 2 != 0: # extract even numbers by using continue\n",
    "        continue\n",
    "\n",
    "    print(current_number)"
   ]
  },
  {
   "cell_type": "code",
   "execution_count": 26,
   "id": "cc5bb41b",
   "metadata": {},
   "outputs": [
    {
     "name": "stdout",
     "output_type": "stream",
     "text": [
      "4\n",
      "3\n",
      "2\n",
      "1\n"
     ]
    }
   ],
   "source": [
    "data : list[int] = [1,2,3,4]\n",
    "while data :\n",
    "    n : int = data.pop()   # it will remove the last element then 2nd last and so on upto the 0. When no element remain it whill break the loop\n",
    "    print(n)"
   ]
  },
  {
   "cell_type": "code",
   "execution_count": 27,
   "id": "04c79716",
   "metadata": {},
   "outputs": [
    {
     "name": "stdout",
     "output_type": "stream",
     "text": [
      "['dog', 'rabbit', 'goldfish']\n"
     ]
    }
   ],
   "source": [
    "pets : list[str] = [\"cat\", \"dog\",\"rabbit\",\"goldfish\"]\n",
    "\n",
    "while \"cat\" in pets:\n",
    "    pets.remove(\"cat\")\n",
    "    \n",
    "print(pets) # cat will remove."
   ]
  }
 ],
 "metadata": {
  "kernelspec": {
   "display_name": "Python 3 (ipykernel)",
   "language": "python",
   "name": "python3"
  },
  "language_info": {
   "codemirror_mode": {
    "name": "ipython",
    "version": 3
   },
   "file_extension": ".py",
   "mimetype": "text/x-python",
   "name": "python",
   "nbconvert_exporter": "python",
   "pygments_lexer": "ipython3",
   "version": "3.12.4"
  }
 },
 "nbformat": 4,
 "nbformat_minor": 5
}
