{
 "cells": [
  {
   "cell_type": "code",
   "execution_count": 1,
   "metadata": {},
   "outputs": [
    {
     "name": "stdout",
     "output_type": "stream",
     "text": [
      "list_b: [1, 2, 3, 4]\n"
     ]
    }
   ],
   "source": [
    "list_a: list[int] = [1, 2, 3] # 4\n",
    "list_b = list_a\n",
    "list_a.append(4)\n",
    "print(\"list_b:\", list_b) # Output: list_b: [1, 2, 3, 4]"
   ]
  },
  {
   "cell_type": "code",
   "execution_count": 2,
   "metadata": {},
   "outputs": [
    {
     "name": "stdout",
     "output_type": "stream",
     "text": [
      "num_b: 5\n"
     ]
    }
   ],
   "source": [
    "num_a:int = 5\n",
    "num_b = num_a\n",
    "num_a += 1\n",
    "print(\"num_b:\", num_b) # Output: num_b: 5"
   ]
  },
  {
   "cell_type": "markdown",
   "metadata": {},
   "source": [
    "## Addressing Changes without Function Calls"
   ]
  },
  {
   "cell_type": "code",
   "execution_count": 2,
   "metadata": {},
   "outputs": [
    {
     "name": "stdout",
     "output_type": "stream",
     "text": [
      "Before modification: 10 140712185969368\n",
      "After modification: 11 140712185969400\n"
     ]
    }
   ],
   "source": [
    "x = 10\n",
    "print(\"Before modification:\", x, id(x))\n",
    "x += 1\n",
    "print(\"After modification:\", x, id(x))"
   ]
  },
  {
   "cell_type": "code",
   "execution_count": 6,
   "metadata": {},
   "outputs": [
    {
     "name": "stdout",
     "output_type": "stream",
     "text": [
      "num 1 value is 6\n"
     ]
    }
   ],
   "source": [
    "def abc(num1: int):\n",
    "    num1 = 6\n",
    "    print(f\"num 1 value is {num1}\")\n",
    "\n",
    "abc(5)\n",
    "# cuz we have passed num1 = 6 "
   ]
  },
  {
   "cell_type": "code",
   "execution_count": 23,
   "metadata": {},
   "outputs": [
    {
     "name": "stdout",
     "output_type": "stream",
     "text": [
      "Initial num1 value is 5 and address is 140712185969208\n",
      "num1 value is 6 and address is 140712185969240\n",
      "original value of a is 5 and address is 140712185969208\n"
     ]
    }
   ],
   "source": [
    "a: int = 5\n",
    "\n",
    "def abc(num1: int):\n",
    "    print(f\"Initial num1 value is {num1} and address is {id(num1)}\")\n",
    "    num1 = 6  # num1 is a copy; 'a' is the original and its copy is 'num1' and it's address will be diff cuz we changes the value. When we reassign it creates object \n",
    "    print(f\"num1 value is {num1} and address is {id(num1)}\")\n",
    "\n",
    "abc(a)\n",
    "\n",
    "# 'a' remains unchanged immutable\n",
    "print(f\"original value of a is {a} and address is {id(a)}\")\n"
   ]
  },
  {
   "cell_type": "code",
   "execution_count": 11,
   "metadata": {},
   "outputs": [
    {
     "name": "stdout",
     "output_type": "stream",
     "text": [
      "num1 value is 200\n",
      "[1, 2, 3, 4, 5, 6]\n"
     ]
    }
   ],
   "source": [
    "a : list[int] = [1,2,3,4,5,6]\n",
    "\n",
    "def abc(num1 : list[int]):\n",
    "    num1 = 200 # pass by value menaing jb value pass krnge tu a will be imutable data type \n",
    "    print(f\"num1 value is {num1}\")\n",
    "\n",
    "abc(a)\n",
    "print(a)"
   ]
  },
  {
   "cell_type": "code",
   "execution_count": 37,
   "metadata": {},
   "outputs": [
    {
     "name": "stdout",
     "output_type": "stream",
     "text": [
      "num1 value is [1, 2, 200] 3144148572864\n",
      "a value is [1, 2, 3, 4, 5, 6] 3144154222080\n"
     ]
    }
   ],
   "source": [
    "a : list[int] = [1,2,3,4,5,6]\n",
    "\n",
    "def abc(num1 : list[int]):\n",
    "    num1 :list[int] = [1,2] # yaha new object ban gya \n",
    "    num1.append(200)  # pass by reference (mutable data type) means a ke nick name se a ko access kia ja rha hai which is num1. mtb a ka reference num1 ho gya \n",
    "    print(f\"num1 value is {num1} {id(num1)}\") \n",
    "\n",
    "abc(a) # pass by reference  \n",
    "print(f\"a value is {a} {id(a)}\")"
   ]
  },
  {
   "cell_type": "markdown",
   "metadata": {},
   "source": [
    "## Run time error "
   ]
  },
  {
   "cell_type": "code",
   "execution_count": 38,
   "metadata": {},
   "outputs": [
    {
     "name": "stdout",
     "output_type": "stream",
     "text": [
      "1.0\n"
     ]
    }
   ],
   "source": [
    "a : int = int(input(\"Enter a number: \\t \"))\n",
    "b : int = int(input(\"Enter another number: \\t \"))\n",
    "print(a/b)\n",
    "# 2/2 = 0"
   ]
  },
  {
   "cell_type": "code",
   "execution_count": 39,
   "metadata": {},
   "outputs": [
    {
     "ename": "ZeroDivisionError",
     "evalue": "division by zero",
     "output_type": "error",
     "traceback": [
      "\u001b[1;31m---------------------------------------------------------------------------\u001b[0m",
      "\u001b[1;31mZeroDivisionError\u001b[0m                         Traceback (most recent call last)",
      "Cell \u001b[1;32mIn[39], line 3\u001b[0m\n\u001b[0;32m      1\u001b[0m a : \u001b[38;5;28mint\u001b[39m \u001b[38;5;241m=\u001b[39m \u001b[38;5;28mint\u001b[39m(\u001b[38;5;28minput\u001b[39m(\u001b[38;5;124m\"\u001b[39m\u001b[38;5;124mEnter a number: \u001b[39m\u001b[38;5;130;01m\\t\u001b[39;00m\u001b[38;5;124m \u001b[39m\u001b[38;5;124m\"\u001b[39m))\n\u001b[0;32m      2\u001b[0m b : \u001b[38;5;28mint\u001b[39m \u001b[38;5;241m=\u001b[39m \u001b[38;5;28mint\u001b[39m(\u001b[38;5;28minput\u001b[39m(\u001b[38;5;124m\"\u001b[39m\u001b[38;5;124mEnter another number: \u001b[39m\u001b[38;5;130;01m\\t\u001b[39;00m\u001b[38;5;124m \u001b[39m\u001b[38;5;124m\"\u001b[39m))\n\u001b[1;32m----> 3\u001b[0m \u001b[38;5;28mprint\u001b[39m(\u001b[43ma\u001b[49m\u001b[38;5;241;43m/\u001b[39;49m\u001b[43mb\u001b[49m)\n\u001b[0;32m      4\u001b[0m \u001b[38;5;66;03m# 2/0 = error\u001b[39;00m\n",
      "\u001b[1;31mZeroDivisionError\u001b[0m: division by zero"
     ]
    }
   ],
   "source": [
    "# called run time error and the error type is zero division error\n",
    "a : int = int(input(\"Enter a number: \\t \"))\n",
    "b : int = int(input(\"Enter another number: \\t \"))\n",
    "print(a/b)\n",
    "# 2/0 = error"
   ]
  },
  {
   "cell_type": "code",
   "execution_count": 40,
   "metadata": {},
   "outputs": [
    {
     "name": "stdout",
     "output_type": "stream",
     "text": [
      "martin\n"
     ]
    }
   ],
   "source": [
    "names : list[str] = [\"zia\", \"qasim\",\"martin\"]\n",
    "indexing : int = int(input(\"Enter number: \\t\"))\n",
    "print(names[indexing])\n",
    "# i give 2 in input at run time and i get martin"
   ]
  },
  {
   "cell_type": "code",
   "execution_count": 41,
   "metadata": {},
   "outputs": [
    {
     "ename": "IndexError",
     "evalue": "list index out of range",
     "output_type": "error",
     "traceback": [
      "\u001b[1;31m---------------------------------------------------------------------------\u001b[0m",
      "\u001b[1;31mIndexError\u001b[0m                                Traceback (most recent call last)",
      "Cell \u001b[1;32mIn[41], line 3\u001b[0m\n\u001b[0;32m      1\u001b[0m names : \u001b[38;5;28mlist\u001b[39m[\u001b[38;5;28mstr\u001b[39m] \u001b[38;5;241m=\u001b[39m [\u001b[38;5;124m\"\u001b[39m\u001b[38;5;124mzia\u001b[39m\u001b[38;5;124m\"\u001b[39m, \u001b[38;5;124m\"\u001b[39m\u001b[38;5;124mqasim\u001b[39m\u001b[38;5;124m\"\u001b[39m,\u001b[38;5;124m\"\u001b[39m\u001b[38;5;124mmartin\u001b[39m\u001b[38;5;124m\"\u001b[39m]\n\u001b[0;32m      2\u001b[0m indexing : \u001b[38;5;28mint\u001b[39m \u001b[38;5;241m=\u001b[39m \u001b[38;5;28mint\u001b[39m(\u001b[38;5;28minput\u001b[39m(\u001b[38;5;124m\"\u001b[39m\u001b[38;5;124mEnter number: \u001b[39m\u001b[38;5;130;01m\\t\u001b[39;00m\u001b[38;5;124m\"\u001b[39m))\n\u001b[1;32m----> 3\u001b[0m \u001b[38;5;28mprint\u001b[39m(\u001b[43mnames\u001b[49m\u001b[43m[\u001b[49m\u001b[43mindexing\u001b[49m\u001b[43m]\u001b[49m)\n\u001b[0;32m      4\u001b[0m \u001b[38;5;66;03m# i give 100 in input at run time and i get martin\u001b[39;00m\n",
      "\u001b[1;31mIndexError\u001b[0m: list index out of range"
     ]
    }
   ],
   "source": [
    "names : list[str] = [\"zia\", \"qasim\",\"martin\"]\n",
    "indexing : int = int(input(\"Enter number: \\t\"))\n",
    "print(names[indexing])\n",
    "# i give 100 in input at run time and i get IndexError"
   ]
  },
  {
   "cell_type": "code",
   "execution_count": 42,
   "metadata": {},
   "outputs": [
    {
     "ename": "TypeError",
     "evalue": "tuple expected at most 1 argument, got 3",
     "output_type": "error",
     "traceback": [
      "\u001b[1;31m---------------------------------------------------------------------------\u001b[0m",
      "\u001b[1;31mTypeError\u001b[0m                                 Traceback (most recent call last)",
      "Cell \u001b[1;32mIn[42], line 1\u001b[0m\n\u001b[1;32m----> 1\u001b[0m data : \u001b[38;5;28;43mtuple\u001b[39;49m\u001b[43m(\u001b[49m\u001b[38;5;28;43mint\u001b[39;49m\u001b[43m,\u001b[49m\u001b[43m \u001b[49m\u001b[38;5;28;43mint\u001b[39;49m\u001b[43m,\u001b[49m\u001b[43m \u001b[49m\u001b[38;5;28;43mint\u001b[39;49m\u001b[43m)\u001b[49m \u001b[38;5;241m=\u001b[39m (\u001b[38;5;241m1\u001b[39m, \u001b[38;5;241m2\u001b[39m, \u001b[38;5;241m3\u001b[39m )\n\u001b[0;32m      2\u001b[0m data[\u001b[38;5;241m0\u001b[39m] \u001b[38;5;241m=\u001b[39m \u001b[38;5;241m200\u001b[39m\n\u001b[0;32m      3\u001b[0m \u001b[38;5;28mprint\u001b[39m(data)\n",
      "\u001b[1;31mTypeError\u001b[0m: tuple expected at most 1 argument, got 3"
     ]
    }
   ],
   "source": [
    "data : tuple(int, int, int) = (1, 2, 3 )\n",
    "data[0] = 200\n",
    "print(data)\n",
    "# TypeError cuz tuple is immutable data type "
   ]
  },
  {
   "cell_type": "code",
   "execution_count": 43,
   "metadata": {},
   "outputs": [
    {
     "ename": "TypeError",
     "evalue": "unsupported operand type(s) for +: 'int' and 'str'",
     "output_type": "error",
     "traceback": [
      "\u001b[1;31m---------------------------------------------------------------------------\u001b[0m",
      "\u001b[1;31mTypeError\u001b[0m                                 Traceback (most recent call last)",
      "Cell \u001b[1;32mIn[43], line 1\u001b[0m\n\u001b[1;32m----> 1\u001b[0m \u001b[38;5;241;43m2\u001b[39;49m\u001b[43m \u001b[49m\u001b[38;5;241;43m+\u001b[39;49m\u001b[43m \u001b[49m\u001b[38;5;124;43m\"\u001b[39;49m\u001b[38;5;124;43m2\u001b[39;49m\u001b[38;5;124;43m\"\u001b[39;49m\n",
      "\u001b[1;31mTypeError\u001b[0m: unsupported operand type(s) for +: 'int' and 'str'"
     ]
    }
   ],
   "source": [
    "2 + \"2\"\n",
    "# TypeError should be same operator on both side    "
   ]
  },
  {
   "cell_type": "code",
   "execution_count": 44,
   "metadata": {},
   "outputs": [
    {
     "ename": "KeyError",
     "evalue": "'father name'",
     "output_type": "error",
     "traceback": [
      "\u001b[1;31m---------------------------------------------------------------------------\u001b[0m",
      "\u001b[1;31mKeyError\u001b[0m                                  Traceback (most recent call last)",
      "Cell \u001b[1;32mIn[44], line 6\u001b[0m\n\u001b[0;32m      1\u001b[0m data : \u001b[38;5;28mdict\u001b[39m[\u001b[38;5;28mstr\u001b[39m,\u001b[38;5;28mstr\u001b[39m] \u001b[38;5;241m=\u001b[39m {\n\u001b[0;32m      2\u001b[0m     \u001b[38;5;124m\"\u001b[39m\u001b[38;5;124mname\u001b[39m\u001b[38;5;124m\"\u001b[39m:\u001b[38;5;124m\"\u001b[39m\u001b[38;5;124mMuhammad Qasim\u001b[39m\u001b[38;5;124m\"\u001b[39m,\n\u001b[0;32m      3\u001b[0m     \u001b[38;5;124m\"\u001b[39m\u001b[38;5;124meducation\u001b[39m\u001b[38;5;124m\"\u001b[39m: \u001b[38;5;124m\"\u001b[39m\u001b[38;5;124mMSDS\u001b[39m\u001b[38;5;124m\"\u001b[39m\n\u001b[0;32m      4\u001b[0m }\n\u001b[1;32m----> 6\u001b[0m \u001b[43mdata\u001b[49m\u001b[43m[\u001b[49m\u001b[38;5;124;43m'\u001b[39;49m\u001b[38;5;124;43mfather name\u001b[39;49m\u001b[38;5;124;43m'\u001b[39;49m\u001b[43m]\u001b[49m\n",
      "\u001b[1;31mKeyError\u001b[0m: 'father name'"
     ]
    }
   ],
   "source": [
    "data : dict[str,str] = {\n",
    "    \"name\":\"Muhammad Qasim\",\n",
    "    \"education\": \"MSDS\"\n",
    "}\n",
    "\n",
    "data['father name']\n",
    "# KeyError key isn't present"
   ]
  },
  {
   "cell_type": "code",
   "execution_count": 46,
   "metadata": {},
   "outputs": [
    {
     "ename": "FileNotFoundError",
     "evalue": "[Errno 2] No such file or directory: 'abc.txt'",
     "output_type": "error",
     "traceback": [
      "\u001b[1;31m---------------------------------------------------------------------------\u001b[0m",
      "\u001b[1;31mFileNotFoundError\u001b[0m                         Traceback (most recent call last)",
      "Cell \u001b[1;32mIn[46], line 1\u001b[0m\n\u001b[1;32m----> 1\u001b[0m \u001b[38;5;28;43mopen\u001b[39;49m\u001b[43m(\u001b[49m\u001b[38;5;124;43m\"\u001b[39;49m\u001b[38;5;124;43mabc.txt\u001b[39;49m\u001b[38;5;124;43m\"\u001b[39;49m\u001b[43m)\u001b[49m\n",
      "File \u001b[1;32mc:\\Users\\Dell1\\anaconda3\\envs\\python12\\Lib\\site-packages\\IPython\\core\\interactiveshell.py:324\u001b[0m, in \u001b[0;36m_modified_open\u001b[1;34m(file, *args, **kwargs)\u001b[0m\n\u001b[0;32m    317\u001b[0m \u001b[38;5;28;01mif\u001b[39;00m file \u001b[38;5;129;01min\u001b[39;00m {\u001b[38;5;241m0\u001b[39m, \u001b[38;5;241m1\u001b[39m, \u001b[38;5;241m2\u001b[39m}:\n\u001b[0;32m    318\u001b[0m     \u001b[38;5;28;01mraise\u001b[39;00m \u001b[38;5;167;01mValueError\u001b[39;00m(\n\u001b[0;32m    319\u001b[0m         \u001b[38;5;124mf\u001b[39m\u001b[38;5;124m\"\u001b[39m\u001b[38;5;124mIPython won\u001b[39m\u001b[38;5;124m'\u001b[39m\u001b[38;5;124mt let you open fd=\u001b[39m\u001b[38;5;132;01m{\u001b[39;00mfile\u001b[38;5;132;01m}\u001b[39;00m\u001b[38;5;124m by default \u001b[39m\u001b[38;5;124m\"\u001b[39m\n\u001b[0;32m    320\u001b[0m         \u001b[38;5;124m\"\u001b[39m\u001b[38;5;124mas it is likely to crash IPython. If you know what you are doing, \u001b[39m\u001b[38;5;124m\"\u001b[39m\n\u001b[0;32m    321\u001b[0m         \u001b[38;5;124m\"\u001b[39m\u001b[38;5;124myou can use builtins\u001b[39m\u001b[38;5;124m'\u001b[39m\u001b[38;5;124m open.\u001b[39m\u001b[38;5;124m\"\u001b[39m\n\u001b[0;32m    322\u001b[0m     )\n\u001b[1;32m--> 324\u001b[0m \u001b[38;5;28;01mreturn\u001b[39;00m \u001b[43mio_open\u001b[49m\u001b[43m(\u001b[49m\u001b[43mfile\u001b[49m\u001b[43m,\u001b[49m\u001b[43m \u001b[49m\u001b[38;5;241;43m*\u001b[39;49m\u001b[43margs\u001b[49m\u001b[43m,\u001b[49m\u001b[43m \u001b[49m\u001b[38;5;241;43m*\u001b[39;49m\u001b[38;5;241;43m*\u001b[39;49m\u001b[43mkwargs\u001b[49m\u001b[43m)\u001b[49m\n",
      "\u001b[1;31mFileNotFoundError\u001b[0m: [Errno 2] No such file or directory: 'abc.txt'"
     ]
    }
   ],
   "source": [
    "open(\"abc.txt\")\n",
    "# FileNotFoundError if file isn't in system and you want to open it it will throw error"
   ]
  },
  {
   "cell_type": "markdown",
   "metadata": {},
   "source": [
    "## Handle Run time error\n",
    "```\n",
    "try:\n",
    "    logic\n",
    "except (Error_class1, Error_class2):   error class such as FileNotFoundError, TypeError\n",
    "    if error accured then run this block\n",
    "else:\n",
    "    if error not accured\n",
    "finally:\n",
    "    always run\n",
    "```"
   ]
  },
  {
   "cell_type": "code",
   "execution_count": 47,
   "metadata": {},
   "outputs": [
    {
     "name": "stdout",
     "output_type": "stream",
     "text": [
      "logic 1\n",
      "logic 2\n"
     ]
    },
    {
     "ename": "ZeroDivisionError",
     "evalue": "division by zero",
     "output_type": "error",
     "traceback": [
      "\u001b[1;31m---------------------------------------------------------------------------\u001b[0m",
      "\u001b[1;31mZeroDivisionError\u001b[0m                         Traceback (most recent call last)",
      "Cell \u001b[1;32mIn[47], line 3\u001b[0m\n\u001b[0;32m      1\u001b[0m \u001b[38;5;28mprint\u001b[39m(\u001b[38;5;124m\"\u001b[39m\u001b[38;5;124mlogic 1\u001b[39m\u001b[38;5;124m\"\u001b[39m)\n\u001b[0;32m      2\u001b[0m \u001b[38;5;28mprint\u001b[39m(\u001b[38;5;124m\"\u001b[39m\u001b[38;5;124mlogic 2\u001b[39m\u001b[38;5;124m\"\u001b[39m)\n\u001b[1;32m----> 3\u001b[0m \u001b[38;5;28mprint\u001b[39m(\u001b[38;5;241;43m5\u001b[39;49m\u001b[38;5;241;43m/\u001b[39;49m\u001b[38;5;241;43m0\u001b[39;49m)\n\u001b[0;32m      4\u001b[0m \u001b[38;5;28mprint\u001b[39m(\u001b[38;5;124m\"\u001b[39m\u001b[38;5;124mLogic 3\u001b[39m\u001b[38;5;124m\"\u001b[39m)\n\u001b[0;32m      5\u001b[0m \u001b[38;5;28mprint\u001b[39m(\u001b[38;5;124m\"\u001b[39m\u001b[38;5;124mLogic 4\u001b[39m\u001b[38;5;124m\"\u001b[39m)\n",
      "\u001b[1;31mZeroDivisionError\u001b[0m: division by zero"
     ]
    }
   ],
   "source": [
    "print(\"logic 1\")\n",
    "print(\"logic 2\")\n",
    "print(5/0)\n",
    "print(\"Logic 3\")\n",
    "print(\"Logic 4\")\n",
    "# it meas's after error it won't excecute. To avoid apllication crashing we do handling"
   ]
  },
  {
   "cell_type": "code",
   "execution_count": 48,
   "metadata": {},
   "outputs": [
    {
     "ename": "ZeroDivisionError",
     "evalue": "division by zero",
     "output_type": "error",
     "traceback": [
      "\u001b[1;31m---------------------------------------------------------------------------\u001b[0m",
      "\u001b[1;31mZeroDivisionError\u001b[0m                         Traceback (most recent call last)",
      "Cell \u001b[1;32mIn[48], line 1\u001b[0m\n\u001b[1;32m----> 1\u001b[0m \u001b[38;5;28mprint\u001b[39m(\u001b[38;5;241;43m4\u001b[39;49m\u001b[38;5;241;43m/\u001b[39;49m\u001b[38;5;241;43m0\u001b[39;49m)\n",
      "\u001b[1;31mZeroDivisionError\u001b[0m: division by zero"
     ]
    }
   ],
   "source": [
    "print(4/0)"
   ]
  },
  {
   "cell_type": "code",
   "execution_count": 49,
   "metadata": {},
   "outputs": [
    {
     "name": "stdout",
     "output_type": "stream",
     "text": [
      "logic 1\n",
      "logic 2\n",
      "Error: Division by zero\n",
      "Logic 3\n",
      "Logic 4\n"
     ]
    }
   ],
   "source": [
    "print(\"logic 1\")\n",
    "print(\"logic 2\")\n",
    "try:\n",
    "    print(5/0) # error\n",
    "except ZeroDivisionError:  # it's signle class that's why we wrote it without brackets\n",
    "    print(\"Error: Division by zero\")\n",
    "print(\"Logic 3\")\n",
    "print(\"Logic 4\")"
   ]
  },
  {
   "cell_type": "code",
   "execution_count": 51,
   "metadata": {},
   "outputs": [
    {
     "name": "stdout",
     "output_type": "stream",
     "text": [
      "logic 1\n",
      "logic 2\n",
      "Logic 3\n",
      "Logic 4\n"
     ]
    }
   ],
   "source": [
    "print(\"logic 1\")\n",
    "print(\"logic 2\")\n",
    "try:\n",
    "    print(5/0) # error\n",
    "except ZeroDivisionError:  # it's signle class that's why we wrote it without brackets\n",
    "    pass # from this the error won't show, But must display error message for user \n",
    "print(\"Logic 3\")\n",
    "print(\"Logic 4\")"
   ]
  },
  {
   "cell_type": "code",
   "execution_count": 52,
   "metadata": {},
   "outputs": [
    {
     "ename": "IndexError",
     "evalue": "list index out of range",
     "output_type": "error",
     "traceback": [
      "\u001b[1;31m---------------------------------------------------------------------------\u001b[0m",
      "\u001b[1;31mIndexError\u001b[0m                                Traceback (most recent call last)",
      "Cell \u001b[1;32mIn[52], line 2\u001b[0m\n\u001b[0;32m      1\u001b[0m l1 : \u001b[38;5;28mlist\u001b[39m[\u001b[38;5;28mint\u001b[39m] \u001b[38;5;241m=\u001b[39m [\u001b[38;5;241m1\u001b[39m,\u001b[38;5;241m2\u001b[39m,\u001b[38;5;241m3\u001b[39m]\n\u001b[1;32m----> 2\u001b[0m \u001b[43ml1\u001b[49m\u001b[43m[\u001b[49m\u001b[38;5;241;43m200\u001b[39;49m\u001b[43m]\u001b[49m\n",
      "\u001b[1;31mIndexError\u001b[0m: list index out of range"
     ]
    }
   ],
   "source": [
    "l1 : list[int] = [1,2,3]\n",
    "l1[200]"
   ]
  },
  {
   "cell_type": "code",
   "execution_count": 53,
   "metadata": {},
   "outputs": [
    {
     "ename": "NameError",
     "evalue": "name 'xyz' is not defined",
     "output_type": "error",
     "traceback": [
      "\u001b[1;31m---------------------------------------------------------------------------\u001b[0m",
      "\u001b[1;31mNameError\u001b[0m                                 Traceback (most recent call last)",
      "Cell \u001b[1;32mIn[53], line 1\u001b[0m\n\u001b[1;32m----> 1\u001b[0m \u001b[38;5;28mprint\u001b[39m(\u001b[43mxyz\u001b[49m)\n",
      "\u001b[1;31mNameError\u001b[0m: name 'xyz' is not defined"
     ]
    }
   ],
   "source": [
    "print(xyz)"
   ]
  },
  {
   "cell_type": "code",
   "execution_count": 54,
   "metadata": {},
   "outputs": [
    {
     "name": "stdout",
     "output_type": "stream",
     "text": [
      "Logic 1\n",
      "Logic 2\n",
      "Error: zero division error\n",
      "Logic 3\n",
      "Logic 4\n"
     ]
    }
   ],
   "source": [
    "print(\"Logic 1\")\n",
    "print(\"Logic 2\")\n",
    "\n",
    "l1 : list[int] = [1,2,3,4,5]\n",
    "\n",
    "try :\n",
    "    print(4/0)  # code will first see this error after that it go to expect print message which we displayed code won't go l1[100] to this\n",
    "    print(l1[100]) \n",
    "    print(xyz)\n",
    "\n",
    "except (ZeroDivisionError, IndexError, NameError):\n",
    "    print(\"Error: zero division error\")    \n",
    "    \n",
    "print(\"Logic 3\")\n",
    "print(\"Logic 4\")"
   ]
  },
  {
   "cell_type": "code",
   "execution_count": 56,
   "metadata": {},
   "outputs": [
    {
     "name": "stdout",
     "output_type": "stream",
     "text": [
      "Logic 1\n",
      "Logic 2\n",
      "2.0\n",
      "Error: index error\n",
      "Logic 3\n",
      "Logic 4\n"
     ]
    }
   ],
   "source": [
    "print(\"Logic 1\")\n",
    "print(\"Logic 2\")\n",
    "\n",
    "l1 : list[int] = [1,2,3,4,5]\n",
    "\n",
    "try :\n",
    "    print(4/2)  # code will first see this but at this class error won't occur then he will shift to 2nd class \n",
    "    print(l1[100]) \n",
    "    print(xyz)\n",
    "\n",
    "except (ZeroDivisionError, IndexError, NameError):\n",
    "    print(\"Error: index error\")    \n",
    "    \n",
    "print(\"Logic 3\")\n",
    "print(\"Logic 4\")"
   ]
  },
  {
   "cell_type": "code",
   "execution_count": 57,
   "metadata": {},
   "outputs": [
    {
     "name": "stdout",
     "output_type": "stream",
     "text": [
      "Logic 1\n",
      "Logic 2\n",
      "2.0\n",
      "2\n",
      "Error: name error\n",
      "Logic 3\n",
      "Logic 4\n"
     ]
    }
   ],
   "source": [
    "print(\"Logic 1\")\n",
    "print(\"Logic 2\")\n",
    "\n",
    "l1 : list[int] = [1,2,3,4,5]\n",
    "\n",
    "try :\n",
    "    print(4/2)  # code will first see this but at this class error won't occur then he will shift to 2nd class \n",
    "    print(l1[1]) \n",
    "    print(xyz) # error\n",
    "\n",
    "except (ZeroDivisionError, IndexError, NameError):\n",
    "    print(\"Error: name error\")    \n",
    "    \n",
    "print(\"Logic 3\")\n",
    "print(\"Logic 4\")"
   ]
  }
 ],
 "metadata": {
  "kernelspec": {
   "display_name": "python12",
   "language": "python",
   "name": "python3"
  },
  "language_info": {
   "codemirror_mode": {
    "name": "ipython",
    "version": 3
   },
   "file_extension": ".py",
   "mimetype": "text/x-python",
   "name": "python",
   "nbconvert_exporter": "python",
   "pygments_lexer": "ipython3",
   "version": "3.12.4"
  }
 },
 "nbformat": 4,
 "nbformat_minor": 2
}
