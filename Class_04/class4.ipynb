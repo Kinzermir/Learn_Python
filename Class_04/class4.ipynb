{
 "cells": [
  {
   "cell_type": "markdown",
   "metadata": {},
   "source": [
    "# List ( Store multiple value in a variable.)\n",
    "* dynamic length (add values as per need)\n",
    "* hetrogenous data types (Multiple types)\n",
    "* index \n",
    "    * positve index 0 to n-1 (length - 1)\n",
    "    * negative index -1 to length\n",
    "* slicing\n",
    "    * variable `names[start:end:step]`\n",
    "    * start : int = include\n",
    "    * end : int = n-1\n",
    "    * step : int = sequence\n",
    "    "
   ]
  },
  {
   "cell_type": "code",
   "execution_count": 54,
   "metadata": {},
   "outputs": [
    {
     "name": "stdout",
     "output_type": "stream",
     "text": [
      "Hanry\n",
      "Peter\n",
      "3\n",
      "Martin\n"
     ]
    }
   ],
   "source": [
    "# list counting always start from left to right \n",
    "# variablble start with plural name bec multiple values store in a names variable\n",
    "\n",
    "# =>        0       1       2        left to right indexing\n",
    "names = [\"Hanry\",\"Peter\",\"Martin\"]\n",
    "#          -1      -2       -3   <=  rigth to left\n",
    "print(names[0]) # + index\n",
    "print(names[-2]) # - index\n",
    "n = len(names)\n",
    "print(n)\n",
    "print(names[n-1])"
   ]
  },
  {
   "cell_type": "code",
   "execution_count": 47,
   "metadata": {},
   "outputs": [
    {
     "name": "stdout",
     "output_type": "stream",
     "text": [
      "Founder of Piaic Peter\n",
      "<class 'list'>\n",
      "<class 'str'>\n"
     ]
    }
   ],
   "source": [
    "from typing import Any\n",
    "# we mentioned above import bec to do static typing. In that types are checked during compilation, and type errors are reported before the program runs.\n",
    "#                       0       1          2\n",
    "names : list[Any] = [\"Hanry\", \"Peter\", \"Martin\"]\n",
    "#                      -3       -2         -1  \n",
    "print(f\"Founder of Piaic {names[-2]}\")\n",
    "print(type (names))\n",
    "print(type (names[2]))"
   ]
  },
  {
   "cell_type": "code",
   "execution_count": 48,
   "metadata": {},
   "outputs": [
    {
     "name": "stdout",
     "output_type": "stream",
     "text": [
      "['A', 'B', 'C', 'D', 'E', 'F', 'G', 'H', 'I', 'J', 'K', 'L', 'M', 'N', 'O', 'P', 'Q', 'R', 'S', 'T', 'U', 'V', 'W', 'X', 'Y', 'Z']\n"
     ]
    }
   ],
   "source": [
    "characters : list[str] = list(\"ABCDEFGHIJKLMNOPQRSTUVWXYZ\")\n",
    "# When we applied list over value (ABCD..), resulting performed iteration\n",
    "print(characters)"
   ]
  },
  {
   "cell_type": "code",
   "execution_count": 49,
   "metadata": {},
   "outputs": [
    {
     "name": "stdout",
     "output_type": "stream",
     "text": [
      "['A', 'B', 'C']\n",
      "['A', 'B', 'C']\n",
      "['A', 'B']\n",
      "['A', 'C']\n",
      "['A', 'C']\n"
     ]
    }
   ],
   "source": [
    "#                          0    1    2    3                                                                                                             25\n",
    "characters : list[str] = ['A', 'B', 'C', 'D', 'E', 'F', 'G', 'H', 'I', 'J', 'K', 'L', 'M', 'N', 'O', 'P', 'Q', 'R', 'S', 'T', 'U', 'V', 'W', 'X', 'Y', 'Z']\n",
    "#                          26   25   24   23\n",
    "# slicing\n",
    "    # * variable `names[start:end:step]`\n",
    "    # * start : int = include\n",
    "    # * end : int = n-1\n",
    "    # * step : int = sequence\n",
    "\n",
    "# according to above method \n",
    "# start end and step type is integer (number).\n",
    "# default slicing starts from left to right\n",
    "print(characters[0:3])  # it means start it from 0 and end on 3, but the end formula is n-1 so n will be 3 - 1 = 2 means it will iterate upto index 2 which is C\n",
    "print(characters[:3]) # it work as the above code worked\n",
    "print(characters[-26:-24]) #from last must subtract -1\n",
    "print(characters[0:3:2])\n",
    "print(characters[0:3:2])  # step is the interval between each index in the slice."
   ]
  },
  {
   "cell_type": "code",
   "execution_count": 50,
   "metadata": {},
   "outputs": [
    {
     "name": "stdout",
     "output_type": "stream",
     "text": [
      "['A', 'B', 'C', 'D', 'E', 'F', 'G', 'H', 'I', 'J', 'K', 'L', 'M', 'N', 'O', 'P', 'Q', 'R', 'S', 'T', 'U', 'V', 'W', 'X', 'Y', 'Z']\n",
      "['A', 'D', 'G', 'J', 'M', 'P', 'S', 'V', 'Y']\n",
      "['Z', 'Y', 'X', 'W', 'V', 'U', 'T', 'S', 'R', 'Q', 'P', 'O', 'N', 'M', 'L', 'K', 'J', 'I', 'H', 'G', 'F', 'E', 'D', 'C', 'B', 'A']\n"
     ]
    }
   ],
   "source": [
    "characters : list[str] = ['A', 'B', 'C', 'D', 'E', 'F', 'G', 'H', 'I', 'J', 'K', 'L', 'M', 'N', 'O', 'P', 'Q', 'R', 'S', 'T', 'U', 'V', 'W', 'X', 'Y', 'Z']\n",
    "print(characters[ : : ]) # here i didn't wrote 0 : 1 : 1 etc when you go with blank slicing it means it will return all the tihings.\n",
    "print(characters[ : :3]) # it will show the value after 3 alphabets, cuz it shows gap so after gap it show the value in return\n",
    "print(characters[::-1]) # it will reverse the value and show the value after 1 step, from A to B is called step 1 and from A to D is called step 3."
   ]
  },
  {
   "cell_type": "code",
   "execution_count": 55,
   "metadata": {},
   "outputs": [
    {
     "name": "stdout",
     "output_type": "stream",
     "text": [
      "['B', 'C', 'D', 'E']\n",
      "['E', 'F', 'G']\n",
      "['C', 'E']\n",
      "['G', 'F', 'E']\n"
     ]
    }
   ],
   "source": [
    "#                          0    1    2    3    4    5    6    7\n",
    "characters : list[str] = ['A', 'B', 'C', 'D', 'E', 'F', 'G', 'H']\n",
    "#                         -8    -7   -6  -5    -4  -3   -2    -1\n",
    "print(characters[1:-3]) # it will start from B and end at E\n",
    "# iteration Slicing ->\n",
    "print(characters[-4:7]) # it will start from D and end at G\n",
    "# step -> positive\n",
    "print(characters[2:5:2])\n",
    "# step <- negative\n",
    "print(characters[-2:-5:-1]) # g is starting index -2, then -5 = n-1 which comes to 4 index but step -1 is the gap bet the index so g se step lia f tak tu ye aik step howa oor phr f se step lia tu ye phr aik step howa phr aik oor step lia up to the end point"
   ]
  },
  {
   "cell_type": "markdown",
   "metadata": {},
   "source": [
    "# List Methods"
   ]
  },
  {
   "cell_type": "code",
   "execution_count": 65,
   "metadata": {},
   "outputs": [
    {
     "data": {
      "text/plain": [
       "['append',\n",
       " 'clear',\n",
       " 'copy',\n",
       " 'count',\n",
       " 'extend',\n",
       " 'index',\n",
       " 'insert',\n",
       " 'pop',\n",
       " 'remove',\n",
       " 'reverse',\n",
       " 'sort']"
      ]
     },
     "execution_count": 65,
     "metadata": {},
     "output_type": "execute_result"
    }
   ],
   "source": [
    "# list methos:- \n",
    "[i for i in dir(list) if \"_\" not in i]"
   ]
  },
  {
   "cell_type": "markdown",
   "metadata": {},
   "source": [
    "# Help\n",
    "* help(object)\n",
    "* object?\n",
    "* object??\n",
    "* ?object\n",
    "* ??object"
   ]
  },
  {
   "cell_type": "code",
   "execution_count": 76,
   "metadata": {},
   "outputs": [
    {
     "name": "stdout",
     "output_type": "stream",
     "text": [
      "\u001b[1;31mSignature:\u001b[0m \u001b[0mprint\u001b[0m\u001b[1;33m(\u001b[0m\u001b[1;33m*\u001b[0m\u001b[0margs\u001b[0m\u001b[1;33m,\u001b[0m \u001b[0msep\u001b[0m\u001b[1;33m=\u001b[0m\u001b[1;34m' '\u001b[0m\u001b[1;33m,\u001b[0m \u001b[0mend\u001b[0m\u001b[1;33m=\u001b[0m\u001b[1;34m'\\n'\u001b[0m\u001b[1;33m,\u001b[0m \u001b[0mfile\u001b[0m\u001b[1;33m=\u001b[0m\u001b[1;32mNone\u001b[0m\u001b[1;33m,\u001b[0m \u001b[0mflush\u001b[0m\u001b[1;33m=\u001b[0m\u001b[1;32mFalse\u001b[0m\u001b[1;33m)\u001b[0m\u001b[1;33m\u001b[0m\u001b[1;33m\u001b[0m\u001b[0m\n",
      "\u001b[1;31mDocstring:\u001b[0m\n",
      "Prints the values to a stream, or to sys.stdout by default.\n",
      "\n",
      "sep\n",
      "  string inserted between values, default a space.\n",
      "end\n",
      "  string appended after the last value, default a newline.\n",
      "file\n",
      "  a file-like object (stream); defaults to the current sys.stdout.\n",
      "flush\n",
      "  whether to forcibly flush the stream.\n",
      "\u001b[1;31mType:\u001b[0m      builtin_function_or_method"
     ]
    }
   ],
   "source": [
    "?print \n",
    "# detail regarding print."
   ]
  },
  {
   "cell_type": "code",
   "execution_count": 59,
   "metadata": {},
   "outputs": [
    {
     "name": "stdout",
     "output_type": "stream",
     "text": [
      "['Hanry', 'Peter', 'Martin', 20, True]\n"
     ]
    },
    {
     "data": {
      "text/plain": [
       "'Martin'"
      ]
     },
     "execution_count": 59,
     "metadata": {},
     "output_type": "execute_result"
    }
   ],
   "source": [
    "#                       0       1          2\n",
    "names : list[Any] = [\"Hanry\", \"Peter\", \"Martin\", 20, True]\n",
    "#                      -3       -2         -1  \n",
    "print(names)\n",
    "# using assign operator bec python is mutable means changable.\n",
    "names[2] = \"John\" # "
   ]
  },
  {
   "cell_type": "code",
   "execution_count": 61,
   "metadata": {},
   "outputs": [
    {
     "name": "stdout",
     "output_type": "stream",
     "text": [
      "['Hanry', 'Peter', 'Martin', 20, True]\n",
      "['Hanry', 'Peter', 'Martin', True]\n"
     ]
    }
   ],
   "source": [
    "#                       0       1          2\n",
    "names : list[Any] = [\"Hanry\", \"Peter\", \"Martin\", 20, True]\n",
    "#                      -3       -2         -1  \n",
    "print(names)\n",
    "del names[3] # delete 3 index value and we can't store it in a varialble a : int = del names[3]\n",
    "print(names)"
   ]
  },
  {
   "cell_type": "code",
   "execution_count": 62,
   "metadata": {},
   "outputs": [
    {
     "name": "stdout",
     "output_type": "stream",
     "text": [
      "Pakistan\n"
     ]
    },
    {
     "data": {
      "text/plain": [
       "None"
      ]
     },
     "metadata": {},
     "output_type": "display_data"
    }
   ],
   "source": [
    "a : str = print(\"Pakistan\") # print is non-return function \n",
    "display(a) # pakistan value isn't stored in a that's why it return none."
   ]
  },
  {
   "cell_type": "code",
   "execution_count": 64,
   "metadata": {},
   "outputs": [
    {
     "data": {
      "text/plain": [
       "140737239857944"
      ]
     },
     "metadata": {},
     "output_type": "display_data"
    }
   ],
   "source": [
    "a : int = id(names) # return function it's value has stored in a\n",
    "display(a)\n",
    "# agr koi value variable me ja rhe hai tu woh return function hai\n",
    "# agr koi value variale me nahe ja rhe tu woh non-return function hai"
   ]
  },
  {
   "cell_type": "markdown",
   "metadata": {},
   "source": [
    "## pop method"
   ]
  },
  {
   "cell_type": "code",
   "execution_count": 68,
   "metadata": {},
   "outputs": [
    {
     "name": "stdout",
     "output_type": "stream",
     "text": [
      "['Hanry', 'Peter', 'Martin', 20, True]\n",
      "True\n"
     ]
    }
   ],
   "source": [
    "#                       0       1          2\n",
    "names : list[Any] = [\"Hanry\", \"Peter\", \"Martin\", 20, True]\n",
    "#                      -3       -2         -1  \n",
    "print(names)\n",
    "a :int = names.pop()  # from pop last value will be delete and stored in a variable and when i print a variable it shows the deleted value.\n",
    "print(a)"
   ]
  },
  {
   "cell_type": "code",
   "execution_count": 78,
   "metadata": {},
   "outputs": [
    {
     "name": "stdout",
     "output_type": "stream",
     "text": [
      "['Hanry', 'Peter', 'Martin', 20, True]\n",
      "Hanry\n",
      "['Peter', 'Martin', 20, True]\n"
     ]
    }
   ],
   "source": [
    "#                       0       1          2\n",
    "names : list[Any] = [\"Hanry\", \"Peter\", \"Martin\", 20, True]\n",
    "#                      -3       -2         -1  \n",
    "print(names)\n",
    "a : str = names.pop(0)\n",
    "print(a)\n",
    "print(names)"
   ]
  },
  {
   "cell_type": "code",
   "execution_count": 80,
   "metadata": {},
   "outputs": [
    {
     "name": "stdout",
     "output_type": "stream",
     "text": [
      "['John', 'Paul']\n"
     ]
    }
   ],
   "source": [
    "names : list[str]  = []\n",
    "names.append(\"John\") # it update the value and add value in last.\n",
    "names.append(\"Paul\")    \n",
    "print(names)\n"
   ]
  },
  {
   "cell_type": "code",
   "execution_count": 81,
   "metadata": {},
   "outputs": [
    {
     "name": "stdout",
     "output_type": "stream",
     "text": [
      "['hanry', 'peter', 'Martin']\n",
      "['hanry', 'John', 'peter', 'Martin']\n"
     ]
    }
   ],
   "source": [
    "names : list[str] = [\"hanry\", \"peter\", \"Martin\"]\n",
    "print(names)\n",
    "names.insert(1, \"John\") # insert on particular position.\n",
    "print(names)"
   ]
  },
  {
   "cell_type": "code",
   "execution_count": 82,
   "metadata": {},
   "outputs": [
    {
     "ename": "NameError",
     "evalue": "name 'a' is not defined",
     "output_type": "error",
     "traceback": [
      "\u001b[1;31m---------------------------------------------------------------------------\u001b[0m",
      "\u001b[1;31mNameError\u001b[0m                                 Traceback (most recent call last)",
      "Cell \u001b[1;32mIn[82], line 3\u001b[0m\n\u001b[0;32m      1\u001b[0m a : \u001b[38;5;28mlist\u001b[39m[\u001b[38;5;28mstr\u001b[39m] \u001b[38;5;241m=\u001b[39m [\u001b[38;5;241m1\u001b[39m, \u001b[38;5;241m2\u001b[39m, \u001b[38;5;241m3\u001b[39m]\n\u001b[0;32m      2\u001b[0m \u001b[38;5;28;01mdel\u001b[39;00m a\n\u001b[1;32m----> 3\u001b[0m \u001b[38;5;28mprint\u001b[39m(\u001b[43ma\u001b[49m)\n",
      "\u001b[1;31mNameError\u001b[0m: name 'a' is not defined"
     ]
    }
   ],
   "source": [
    "a : list[str] = [1, 2, 3]\n",
    "del a\n",
    "print(a)  # it will delete the value and object so inspigt of that we will use a.clear method"
   ]
  },
  {
   "cell_type": "code",
   "execution_count": 83,
   "metadata": {},
   "outputs": [
    {
     "name": "stdout",
     "output_type": "stream",
     "text": [
      "[]\n"
     ]
    }
   ],
   "source": [
    "a : list[int] = [1, 2, 3]\n",
    "a.clear()\n",
    "print(a) # here object remains."
   ]
  },
  {
   "cell_type": "code",
   "execution_count": 86,
   "metadata": {},
   "outputs": [
    {
     "name": "stdout",
     "output_type": "stream",
     "text": [
      "['a', 'b', 'c']\n",
      "['a', 'b', 'c']\n",
      "['Pakistan', 'b', 'c']\n",
      "['Pakistan', 'b', 'c']\n"
     ]
    }
   ],
   "source": [
    "a : list[str] = [\"a\",\"b\",\"c\"]\n",
    "b = a  # here b is the variable name and a is assign to b so the a values comes to b variable\n",
    "print(a)\n",
    "print(b)\n",
    "b[0] = \"Pakistan\"  # change on b variable, but both variable will get update.\n",
    "print(b)\n",
    "print(a)"
   ]
  },
  {
   "cell_type": "code",
   "execution_count": 94,
   "metadata": {},
   "outputs": [
    {
     "name": "stdout",
     "output_type": "stream",
     "text": [
      "a ['a', 'b', 'c']\n",
      "b ['a', 'b', 'c']\n",
      "b ['Pakistan', 'b', 'c']\n",
      "a ['a', 'b', 'c']\n"
     ]
    }
   ],
   "source": [
    "a : list[str] = [\"a\",\"b\",\"c\"]\n",
    "b = a.copy()    #Deep copy means pakistna will not add to a variable\n",
    "print(\"a\", a)        #Shallow copy\n",
    "print(\"b\", b)\n",
    "b[0] = \"Pakistan\"\n",
    "print(\"b\",b)\n",
    "print(\"a\", a)"
   ]
  },
  {
   "cell_type": "code",
   "execution_count": 98,
   "metadata": {},
   "outputs": [
    {
     "name": "stdout",
     "output_type": "stream",
     "text": [
      "2\n"
     ]
    }
   ],
   "source": [
    "a : list[str] = [\"a\",\"b\",\"c\",\"c\"]\n",
    "print(a.count(\"c\")) # it means it count how many times c has been written."
   ]
  },
  {
   "cell_type": "code",
   "execution_count": 100,
   "metadata": {},
   "outputs": [
    {
     "name": "stdout",
     "output_type": "stream",
     "text": [
      "['hanry', 'peter', 'Martin', ['John', 'Mavric']]\n"
     ]
    }
   ],
   "source": [
    "names : list[str] = [\"hanry\", \"peter\", \"Martin\"]\n",
    "new_faculty_members : list[str] = [\"John\",\"Mavric\"]\n",
    "names.append(new_faculty_members)\n",
    "print(names)   # append will update the full list in names despite of that we want just values to add into names variable for that we will use extend method"
   ]
  },
  {
   "cell_type": "code",
   "execution_count": 101,
   "metadata": {},
   "outputs": [
    {
     "name": "stdout",
     "output_type": "stream",
     "text": [
      "['hanry', 'peter', 'Martin', 'John', 'Mavric']\n"
     ]
    }
   ],
   "source": [
    "names : list[str] = [\"hanry\", \"peter\", \"Martin\"]\n",
    "new_faculty_members : list[str] = [\"John\",\"Mavric\"]\n",
    "names.extend(new_faculty_members)\n",
    "print(names) # from this all the values will update in the names variable."
   ]
  },
  {
   "cell_type": "code",
   "execution_count": 103,
   "metadata": {},
   "outputs": [
    {
     "name": "stdout",
     "output_type": "stream",
     "text": [
      "['hanry', 'peter', 'Martin', 'John', 'Mavric']\n",
      "['hanry', 'peter', 'Martin', 'John']\n"
     ]
    }
   ],
   "source": [
    "names : list[str] = ['hanry', 'peter', 'Martin', 'John', 'Mavric']\n",
    "print(names)\n",
    "names.remove(\"Mavric\")  # remove value through text\n",
    "print(names)"
   ]
  },
  {
   "cell_type": "code",
   "execution_count": 105,
   "metadata": {},
   "outputs": [
    {
     "data": {
      "text/plain": [
       "4"
      ]
     },
     "execution_count": 105,
     "metadata": {},
     "output_type": "execute_result"
    }
   ],
   "source": [
    "names : list[str] = ['hanry', 'peter', 'Martin', 'John', 'Mavric']\n",
    "names.index(\"Mavric\") # it will show index through text, which is 4\n"
   ]
  },
  {
   "cell_type": "code",
   "execution_count": 106,
   "metadata": {},
   "outputs": [
    {
     "data": {
      "text/plain": [
       "5"
      ]
     },
     "execution_count": 106,
     "metadata": {},
     "output_type": "execute_result"
    }
   ],
   "source": [
    "names : list[str] = ['hanry', 'peter', 'Martin', 'John', 'Mavric', \"hanry\"]\n",
    "names.index(\"hanry\", 1) # 5\n"
   ]
  },
  {
   "cell_type": "code",
   "execution_count": 110,
   "metadata": {},
   "outputs": [
    {
     "name": "stdout",
     "output_type": "stream",
     "text": [
      "['hanry', 'peter', 'Martin', 'John', 'Mavric', 'hanry']\n",
      "['ABCDEFGHI']\n",
      "['hanry', 'Mavric', 'John', 'Martin', 'peter', 'hanry']\n",
      "['ABCDEFGHI']\n"
     ]
    }
   ],
   "source": [
    "names : list[str] = ['hanry', 'peter', 'Martin', 'John', 'Mavric', \"hanry\"]\n",
    "print(names)\n",
    "names.reverse()\n",
    "print(names)\n",
    "\n"
   ]
  },
  {
   "cell_type": "code",
   "execution_count": 118,
   "metadata": {},
   "outputs": [
    {
     "name": "stdout",
     "output_type": "stream",
     "text": [
      "['A', 'B', 'C', 'D', 'E']\n",
      "['E', 'D', 'C', 'B', 'A']\n"
     ]
    }
   ],
   "source": [
    "names : list[str] = list(\"ABCDE\")\n",
    "print(names)\n",
    "names.reverse()\n",
    "print(names)"
   ]
  },
  {
   "cell_type": "code",
   "execution_count": 119,
   "metadata": {},
   "outputs": [
    {
     "name": "stdout",
     "output_type": "stream",
     "text": [
      "['A', 'B', 'C', 'D', 'E']\n",
      "['A', 'B', 'C', 'D', 'E']\n"
     ]
    }
   ],
   "source": [
    "names : list[str] = list(\"ABCDE\")\n",
    "print(names)\n",
    "names.sort()  # change the data in ascending order\n",
    "print(names)"
   ]
  },
  {
   "cell_type": "code",
   "execution_count": 120,
   "metadata": {},
   "outputs": [
    {
     "name": "stdout",
     "output_type": "stream",
     "text": [
      "['A', 'B', 'C', 'D', 'E']\n",
      "['E', 'D', 'C', 'B', 'A']\n"
     ]
    }
   ],
   "source": [
    "names : list[str] = list(\"ABCDE\")\n",
    "print(names)\n",
    "names.sort(reverse = True) # change the data in descending order\n",
    "print(names)"
   ]
  }
 ],
 "metadata": {
  "kernelspec": {
   "display_name": "python12",
   "language": "python",
   "name": "python3"
  },
  "language_info": {
   "codemirror_mode": {
    "name": "ipython",
    "version": 3
   },
   "file_extension": ".py",
   "mimetype": "text/x-python",
   "name": "python",
   "nbconvert_exporter": "python",
   "pygments_lexer": "ipython3",
   "version": "3.12.4"
  }
 },
 "nbformat": 4,
 "nbformat_minor": 2
}
