{
 "cells": [
  {
   "cell_type": "markdown",
   "metadata": {},
   "source": [
    "# Pandas\n",
    "* filtering\n",
    "* sorting\n",
    "* usefull methods\n",
    "* groupby\n",
    "* merge"
   ]
  },
  {
   "cell_type": "code",
   "execution_count": 1,
   "metadata": {},
   "outputs": [
    {
     "data": {
      "text/html": [
       "<div>\n",
       "<style scoped>\n",
       "    .dataframe tbody tr th:only-of-type {\n",
       "        vertical-align: middle;\n",
       "    }\n",
       "\n",
       "    .dataframe tbody tr th {\n",
       "        vertical-align: top;\n",
       "    }\n",
       "\n",
       "    .dataframe thead th {\n",
       "        text-align: right;\n",
       "    }\n",
       "</style>\n",
       "<table border=\"1\" class=\"dataframe\">\n",
       "  <thead>\n",
       "    <tr style=\"text-align: right;\">\n",
       "      <th></th>\n",
       "      <th>roll_no</th>\n",
       "      <th>name</th>\n",
       "      <th>father</th>\n",
       "      <th>course</th>\n",
       "      <th>date_of_admission</th>\n",
       "      <th>fee</th>\n",
       "    </tr>\n",
       "  </thead>\n",
       "  <tbody>\n",
       "    <tr>\n",
       "      <th>0</th>\n",
       "      <td>1</td>\n",
       "      <td>Alice</td>\n",
       "      <td>Bob</td>\n",
       "      <td>Physics</td>\n",
       "      <td>2023-01-10</td>\n",
       "      <td>10000</td>\n",
       "    </tr>\n",
       "    <tr>\n",
       "      <th>1</th>\n",
       "      <td>2</td>\n",
       "      <td>Brian</td>\n",
       "      <td>Steve</td>\n",
       "      <td>Chemistry</td>\n",
       "      <td>2023-02-12</td>\n",
       "      <td>11000</td>\n",
       "    </tr>\n",
       "    <tr>\n",
       "      <th>2</th>\n",
       "      <td>3</td>\n",
       "      <td>Chloe</td>\n",
       "      <td>Tim</td>\n",
       "      <td>Biology</td>\n",
       "      <td>2023-03-14</td>\n",
       "      <td>12000</td>\n",
       "    </tr>\n",
       "    <tr>\n",
       "      <th>3</th>\n",
       "      <td>4</td>\n",
       "      <td>David</td>\n",
       "      <td>Rick</td>\n",
       "      <td>Mathematics</td>\n",
       "      <td>2023-04-10</td>\n",
       "      <td>13000</td>\n",
       "    </tr>\n",
       "    <tr>\n",
       "      <th>4</th>\n",
       "      <td>5</td>\n",
       "      <td>Eva</td>\n",
       "      <td>John</td>\n",
       "      <td>Computer Science</td>\n",
       "      <td>2023-05-16</td>\n",
       "      <td>14000</td>\n",
       "    </tr>\n",
       "    <tr>\n",
       "      <th>5</th>\n",
       "      <td>6</td>\n",
       "      <td>Frank</td>\n",
       "      <td>Tom</td>\n",
       "      <td>Economics</td>\n",
       "      <td>2023-06-21</td>\n",
       "      <td>15000</td>\n",
       "    </tr>\n",
       "    <tr>\n",
       "      <th>6</th>\n",
       "      <td>7</td>\n",
       "      <td>Grace</td>\n",
       "      <td>Harry</td>\n",
       "      <td>History</td>\n",
       "      <td>2023-07-25</td>\n",
       "      <td>16000</td>\n",
       "    </tr>\n",
       "    <tr>\n",
       "      <th>7</th>\n",
       "      <td>8</td>\n",
       "      <td>Henry</td>\n",
       "      <td>Charles</td>\n",
       "      <td>Geography</td>\n",
       "      <td>2023-08-17</td>\n",
       "      <td>17000</td>\n",
       "    </tr>\n",
       "    <tr>\n",
       "      <th>8</th>\n",
       "      <td>9</td>\n",
       "      <td>Isabel</td>\n",
       "      <td>Oliver</td>\n",
       "      <td>English</td>\n",
       "      <td>2023-09-10</td>\n",
       "      <td>18000</td>\n",
       "    </tr>\n",
       "    <tr>\n",
       "      <th>9</th>\n",
       "      <td>10</td>\n",
       "      <td>Jack</td>\n",
       "      <td>Noah</td>\n",
       "      <td>Art</td>\n",
       "      <td>2023-10-05</td>\n",
       "      <td>19000</td>\n",
       "    </tr>\n",
       "  </tbody>\n",
       "</table>\n",
       "</div>"
      ],
      "text/plain": [
       "   roll_no    name   father            course date_of_admission    fee\n",
       "0        1   Alice      Bob           Physics        2023-01-10  10000\n",
       "1        2   Brian    Steve         Chemistry        2023-02-12  11000\n",
       "2        3   Chloe      Tim           Biology        2023-03-14  12000\n",
       "3        4   David     Rick       Mathematics        2023-04-10  13000\n",
       "4        5     Eva     John  Computer Science        2023-05-16  14000\n",
       "5        6   Frank      Tom         Economics        2023-06-21  15000\n",
       "6        7   Grace    Harry           History        2023-07-25  16000\n",
       "7        8   Henry  Charles         Geography        2023-08-17  17000\n",
       "8        9  Isabel   Oliver           English        2023-09-10  18000\n",
       "9       10    Jack     Noah               Art        2023-10-05  19000"
      ]
     },
     "metadata": {},
     "output_type": "display_data"
    },
    {
     "name": "stdout",
     "output_type": "stream",
     "text": [
      "<class 'pandas.core.frame.DataFrame'>\n",
      "RangeIndex: 10 entries, 0 to 9\n",
      "Data columns (total 6 columns):\n",
      " #   Column             Non-Null Count  Dtype         \n",
      "---  ------             --------------  -----         \n",
      " 0   roll_no            10 non-null     int64         \n",
      " 1   name               10 non-null     object        \n",
      " 2   father             10 non-null     object        \n",
      " 3   course             10 non-null     object        \n",
      " 4   date_of_admission  10 non-null     datetime64[ns]\n",
      " 5   fee                10 non-null     int64         \n",
      "dtypes: datetime64[ns](1), int64(2), object(3)\n",
      "memory usage: 612.0+ bytes\n"
     ]
    },
    {
     "data": {
      "text/plain": [
       "None"
      ]
     },
     "metadata": {},
     "output_type": "display_data"
    }
   ],
   "source": [
    "import pandas as pd\n",
    "from datetime import datetime\n",
    "\n",
    "# Define the data as a list of dictionaries with 10 student records\n",
    "students_data = [\n",
    "    {'roll_no': 1, 'name': 'Alice', 'father': 'Bob', 'course': 'Physics', 'date_of_admission': '2023-01-10', 'fee': 10000},\n",
    "    {'roll_no': 2, 'name': 'Brian', 'father': 'Steve', 'course': 'Chemistry', 'date_of_admission': '2023-02-12', 'fee': 11000},\n",
    "    {'roll_no': 3, 'name': 'Chloe', 'father': 'Tim', 'course': 'Biology', 'date_of_admission': '2023-03-14', 'fee': 12000},\n",
    "    {'roll_no': 4, 'name': 'David', 'father': 'Rick', 'course': 'Mathematics', 'date_of_admission': '2023-04-10', 'fee': 13000},\n",
    "    {'roll_no': 5, 'name': 'Eva', 'father': 'John', 'course': 'Computer Science', 'date_of_admission': '2023-05-16', 'fee': 14000},\n",
    "    {'roll_no': 6, 'name': 'Frank', 'father': 'Tom', 'course': 'Economics', 'date_of_admission': '2023-06-21', 'fee': 15000},\n",
    "    {'roll_no': 7, 'name': 'Grace', 'father': 'Harry', 'course': 'History', 'date_of_admission': '2023-07-25', 'fee': 16000},\n",
    "    {'roll_no': 8, 'name': 'Henry', 'father': 'Charles', 'course': 'Geography', 'date_of_admission': '2023-08-17', 'fee': 17000},\n",
    "    {'roll_no': 9, 'name': 'Isabel', 'father': 'Oliver', 'course': 'English', 'date_of_admission': '2023-09-10', 'fee': 18000},\n",
    "    {'roll_no': 10, 'name': 'Jack', 'father': 'Noah', 'course': 'Art', 'date_of_admission': '2023-10-05', 'fee': 19000},\n",
    "]\n",
    "\n",
    "# Create the DataFrame\n",
    "students_df : pd.DataFrame = pd.DataFrame(students_data)\n",
    "\n",
    "# Convert 'date_of_admission' to datetime\n",
    "students_df['date_of_admission'] = pd.to_datetime(students_df['date_of_admission'])\n",
    "\n",
    "# Show the DataFrame\n",
    "display(students_df)\n",
    "\n",
    "# Verify the data types\n",
    "display(students_df.info())"
   ]
  },
  {
   "cell_type": "code",
   "execution_count": 4,
   "metadata": {},
   "outputs": [
    {
     "name": "stdout",
     "output_type": "stream",
     "text": [
      "   roll_no    name   father     course date_of_admission    fee\n",
      "0        1   Alice      Bob    Physics        2023-01-10  10000\n",
      "1        2   Brian    Steve  Chemistry        2023-02-12  11000\n",
      "2        3   Chloe      Tim    Biology        2023-03-14  12000\n",
      "3        4   David     Rick    Physics        2023-04-10  13000\n",
      "4        5     Eva     John    Physics        2023-05-16  14000\n",
      "5        6   Frank      Tom  Economics        2023-06-21  15000\n",
      "6        7   Grace    Harry    History        2023-07-25  16000\n",
      "7        8   Henry  Charles  Geography        2023-08-17  17000\n",
      "8        9  Isabel   Oliver    English        2023-09-10  18000\n",
      "9       10    Jack     Noah        Art        2023-10-05  19000\n"
     ]
    }
   ],
   "source": [
    "import pandera as pa\n",
    "from pandera.typing import Series\n",
    "from datetime import datetime\n",
    "import pandas as pd\n",
    "\n",
    "# Define the schema using DataFrameModel\n",
    "class StudentSchema(pa.DataFrameModel):\n",
    "    roll_no: Series[int] = pa.Field(ge=1)\n",
    "    name: Series[str] = pa.Field(nullable=False)\n",
    "    father: Series[str] = pa.Field(nullable=False)\n",
    "    course: Series[str] = pa.Field(nullable=False)\n",
    "    date_of_admission: Series[datetime] = pa.Field(le=datetime.now())\n",
    "    fee: Series[int] = pa.Field(ge=0)\n",
    "\n",
    "    class Config:\n",
    "        coerce = True  # Automatically coerce types if possible\n",
    "        strict = True  # Ensure all columns are accounted for in the schema\n",
    "\n",
    "# Data for 10 students\n",
    "students_data = [\n",
    "    {'roll_no': 1, 'name': 'Alice', 'father': 'Bob', 'course': 'Physics', 'date_of_admission': '2023-01-10', 'fee': 10000},\n",
    "    {'roll_no': 2, 'name': 'Brian', 'father': 'Steve', 'course': 'Chemistry', 'date_of_admission': '2023-02-12', 'fee': 11000},\n",
    "    {'roll_no': 3, 'name': 'Chloe', 'father': 'Tim', 'course': 'Biology', 'date_of_admission': '2023-03-14', 'fee': 12000},\n",
    "    {'roll_no': 4, 'name': 'David', 'father': 'Rick', 'course': 'Physics', 'date_of_admission': '2023-04-10', 'fee': 13000},\n",
    "    {'roll_no': 5, 'name': 'Eva', 'father': 'John', 'course': 'Physics', 'date_of_admission': '2023-05-16', 'fee': 14000},\n",
    "    {'roll_no': 6, 'name': 'Frank', 'father': 'Tom', 'course': 'Economics', 'date_of_admission': '2023-06-21', 'fee': 15000},\n",
    "    {'roll_no': 7, 'name': 'Grace', 'father': 'Harry', 'course': 'History', 'date_of_admission': '2023-07-25', 'fee': 16000},\n",
    "    {'roll_no': 8, 'name': 'Henry', 'father': 'Charles', 'course': 'Geography', 'date_of_admission': '2023-08-17', 'fee': 17000},\n",
    "    {'roll_no': 9, 'name': 'Isabel', 'father': 'Oliver', 'course': 'English', 'date_of_admission': '2023-09-10', 'fee': 18000},\n",
    "    {'roll_no': 10, 'name': 'Jack', 'father': 'Noah', 'course': 'Art', 'date_of_admission': '2023-10-05', 'fee': 19000},\n",
    "]\n",
    "\n",
    "# Create the DataFrame\n",
    "students_df = pd.DataFrame(students_data)\n",
    "\n",
    "# Convert 'date_of_admission' to datetime\n",
    "students_df['date_of_admission'] = pd.to_datetime(students_df['date_of_admission'])\n",
    "\n",
    "# Validate the DataFrame\n",
    "validated_df = StudentSchema.validate(students_df)\n",
    "\n",
    "# Print the validated DataFrame\n",
    "print(validated_df)\n"
   ]
  },
  {
   "cell_type": "markdown",
   "metadata": {},
   "source": [
    "## apply the filter or filter functions on dataframe"
   ]
  },
  {
   "cell_type": "code",
   "execution_count": 6,
   "metadata": {},
   "outputs": [
    {
     "data": {
      "text/html": [
       "<div>\n",
       "<style scoped>\n",
       "    .dataframe tbody tr th:only-of-type {\n",
       "        vertical-align: middle;\n",
       "    }\n",
       "\n",
       "    .dataframe tbody tr th {\n",
       "        vertical-align: top;\n",
       "    }\n",
       "\n",
       "    .dataframe thead th {\n",
       "        text-align: right;\n",
       "    }\n",
       "</style>\n",
       "<table border=\"1\" class=\"dataframe\">\n",
       "  <thead>\n",
       "    <tr style=\"text-align: right;\">\n",
       "      <th></th>\n",
       "      <th>roll_no</th>\n",
       "      <th>name</th>\n",
       "      <th>father</th>\n",
       "      <th>course</th>\n",
       "      <th>date_of_admission</th>\n",
       "      <th>fee</th>\n",
       "    </tr>\n",
       "  </thead>\n",
       "  <tbody>\n",
       "    <tr>\n",
       "      <th>0</th>\n",
       "      <td>1</td>\n",
       "      <td>Alice</td>\n",
       "      <td>Bob</td>\n",
       "      <td>Physics</td>\n",
       "      <td>2023-01-10</td>\n",
       "      <td>10000</td>\n",
       "    </tr>\n",
       "  </tbody>\n",
       "</table>\n",
       "</div>"
      ],
      "text/plain": [
       "   roll_no   name father   course date_of_admission    fee\n",
       "0        1  Alice    Bob  Physics        2023-01-10  10000"
      ]
     },
     "execution_count": 6,
     "metadata": {},
     "output_type": "execute_result"
    }
   ],
   "source": [
    "students_df.head(1)"
   ]
  },
  {
   "cell_type": "code",
   "execution_count": 8,
   "metadata": {},
   "outputs": [
    {
     "data": {
      "text/plain": [
       "course\n",
       "Physics      3\n",
       "Chemistry    1\n",
       "Biology      1\n",
       "Economics    1\n",
       "History      1\n",
       "Geography    1\n",
       "English      1\n",
       "Art          1\n",
       "Name: count, dtype: int64"
      ]
     },
     "execution_count": 8,
     "metadata": {},
     "output_type": "execute_result"
    }
   ],
   "source": [
    "students_df.course.value_counts() # we have 3 three students which selected physics"
   ]
  },
  {
   "cell_type": "code",
   "execution_count": 10,
   "metadata": {},
   "outputs": [
    {
     "data": {
      "text/plain": [
       "course\n",
       "Physics      3\n",
       "Chemistry    1\n",
       "Biology      1\n",
       "Economics    1\n",
       "History      1\n",
       "Geography    1\n",
       "English      1\n",
       "Art          1\n",
       "Name: count, dtype: int64"
      ]
     },
     "execution_count": 10,
     "metadata": {},
     "output_type": "execute_result"
    }
   ],
   "source": [
    "students_df.course.value_counts(dropna=False)# also counts null cells values, but here we don't have any null cell"
   ]
  },
  {
   "cell_type": "code",
   "execution_count": 11,
   "metadata": {},
   "outputs": [
    {
     "data": {
      "text/plain": [
       "course\n",
       "Physics      0.3\n",
       "Chemistry    0.1\n",
       "Biology      0.1\n",
       "Economics    0.1\n",
       "History      0.1\n",
       "Geography    0.1\n",
       "English      0.1\n",
       "Art          0.1\n",
       "Name: proportion, dtype: float64"
      ]
     },
     "execution_count": 11,
     "metadata": {},
     "output_type": "execute_result"
    }
   ],
   "source": [
    "students_df.course.value_counts(dropna=False,normalize=True)# convert into percentage by / 100  \n"
   ]
  },
  {
   "cell_type": "code",
   "execution_count": 12,
   "metadata": {},
   "outputs": [
    {
     "data": {
      "text/plain": [
       "course\n",
       "Physics      30.0\n",
       "Chemistry    10.0\n",
       "Biology      10.0\n",
       "Economics    10.0\n",
       "History      10.0\n",
       "Geography    10.0\n",
       "English      10.0\n",
       "Art          10.0\n",
       "Name: proportion, dtype: float64"
      ]
     },
     "execution_count": 12,
     "metadata": {},
     "output_type": "execute_result"
    }
   ],
   "source": [
    "students_df.course.value_counts(dropna=False,normalize=True)*100# also counts null cells values"
   ]
  },
  {
   "cell_type": "code",
   "execution_count": 13,
   "metadata": {},
   "outputs": [
    {
     "data": {
      "text/html": [
       "<div>\n",
       "<style scoped>\n",
       "    .dataframe tbody tr th:only-of-type {\n",
       "        vertical-align: middle;\n",
       "    }\n",
       "\n",
       "    .dataframe tbody tr th {\n",
       "        vertical-align: top;\n",
       "    }\n",
       "\n",
       "    .dataframe thead th {\n",
       "        text-align: right;\n",
       "    }\n",
       "</style>\n",
       "<table border=\"1\" class=\"dataframe\">\n",
       "  <thead>\n",
       "    <tr style=\"text-align: right;\">\n",
       "      <th></th>\n",
       "      <th>roll_no</th>\n",
       "      <th>name</th>\n",
       "      <th>father</th>\n",
       "      <th>course</th>\n",
       "      <th>date_of_admission</th>\n",
       "      <th>fee</th>\n",
       "    </tr>\n",
       "  </thead>\n",
       "  <tbody>\n",
       "    <tr>\n",
       "      <th>0</th>\n",
       "      <td>1</td>\n",
       "      <td>Alice</td>\n",
       "      <td>Bob</td>\n",
       "      <td>Physics</td>\n",
       "      <td>2023-01-10</td>\n",
       "      <td>10000</td>\n",
       "    </tr>\n",
       "    <tr>\n",
       "      <th>1</th>\n",
       "      <td>2</td>\n",
       "      <td>Brian</td>\n",
       "      <td>Steve</td>\n",
       "      <td>Chemistry</td>\n",
       "      <td>2023-02-12</td>\n",
       "      <td>11000</td>\n",
       "    </tr>\n",
       "    <tr>\n",
       "      <th>2</th>\n",
       "      <td>3</td>\n",
       "      <td>Chloe</td>\n",
       "      <td>Tim</td>\n",
       "      <td>Biology</td>\n",
       "      <td>2023-03-14</td>\n",
       "      <td>12000</td>\n",
       "    </tr>\n",
       "    <tr>\n",
       "      <th>3</th>\n",
       "      <td>4</td>\n",
       "      <td>David</td>\n",
       "      <td>Rick</td>\n",
       "      <td>Physics</td>\n",
       "      <td>2023-04-10</td>\n",
       "      <td>13000</td>\n",
       "    </tr>\n",
       "    <tr>\n",
       "      <th>4</th>\n",
       "      <td>5</td>\n",
       "      <td>Eva</td>\n",
       "      <td>John</td>\n",
       "      <td>Physics</td>\n",
       "      <td>2023-05-16</td>\n",
       "      <td>14000</td>\n",
       "    </tr>\n",
       "    <tr>\n",
       "      <th>5</th>\n",
       "      <td>6</td>\n",
       "      <td>Frank</td>\n",
       "      <td>Tom</td>\n",
       "      <td>Economics</td>\n",
       "      <td>2023-06-21</td>\n",
       "      <td>15000</td>\n",
       "    </tr>\n",
       "    <tr>\n",
       "      <th>6</th>\n",
       "      <td>7</td>\n",
       "      <td>Grace</td>\n",
       "      <td>Harry</td>\n",
       "      <td>History</td>\n",
       "      <td>2023-07-25</td>\n",
       "      <td>16000</td>\n",
       "    </tr>\n",
       "    <tr>\n",
       "      <th>7</th>\n",
       "      <td>8</td>\n",
       "      <td>Henry</td>\n",
       "      <td>Charles</td>\n",
       "      <td>Geography</td>\n",
       "      <td>2023-08-17</td>\n",
       "      <td>17000</td>\n",
       "    </tr>\n",
       "    <tr>\n",
       "      <th>8</th>\n",
       "      <td>9</td>\n",
       "      <td>Isabel</td>\n",
       "      <td>Oliver</td>\n",
       "      <td>English</td>\n",
       "      <td>2023-09-10</td>\n",
       "      <td>18000</td>\n",
       "    </tr>\n",
       "    <tr>\n",
       "      <th>9</th>\n",
       "      <td>10</td>\n",
       "      <td>Jack</td>\n",
       "      <td>Noah</td>\n",
       "      <td>Art</td>\n",
       "      <td>2023-10-05</td>\n",
       "      <td>19000</td>\n",
       "    </tr>\n",
       "  </tbody>\n",
       "</table>\n",
       "</div>"
      ],
      "text/plain": [
       "   roll_no    name   father     course date_of_admission    fee\n",
       "0        1   Alice      Bob    Physics        2023-01-10  10000\n",
       "1        2   Brian    Steve  Chemistry        2023-02-12  11000\n",
       "2        3   Chloe      Tim    Biology        2023-03-14  12000\n",
       "3        4   David     Rick    Physics        2023-04-10  13000\n",
       "4        5     Eva     John    Physics        2023-05-16  14000\n",
       "5        6   Frank      Tom  Economics        2023-06-21  15000\n",
       "6        7   Grace    Harry    History        2023-07-25  16000\n",
       "7        8   Henry  Charles  Geography        2023-08-17  17000\n",
       "8        9  Isabel   Oliver    English        2023-09-10  18000\n",
       "9       10    Jack     Noah        Art        2023-10-05  19000"
      ]
     },
     "execution_count": 13,
     "metadata": {},
     "output_type": "execute_result"
    }
   ],
   "source": [
    "students_df"
   ]
  },
  {
   "cell_type": "code",
   "execution_count": 14,
   "metadata": {},
   "outputs": [
    {
     "name": "stdout",
     "output_type": "stream",
     "text": [
      "          date   fee\n",
      "0   2024-01-01  2542\n",
      "1   2024-01-01   948\n",
      "2   2024-01-01  1969\n",
      "3   2024-01-01  4125\n",
      "4   2024-01-01   206\n",
      "..         ...   ...\n",
      "995 2024-07-28   735\n",
      "996 2024-07-29   302\n",
      "997 2024-07-29  1859\n",
      "998 2024-07-29    61\n",
      "999 2024-07-29  1408\n",
      "\n",
      "[1000 rows x 2 columns]\n"
     ]
    }
   ],
   "source": [
    "import pandas as pd\n",
    "import numpy as np\n",
    "from datetime import datetime, timedelta\n",
    "\n",
    "# Set a seed for reproducibility\n",
    "np.random.seed(0)\n",
    "\n",
    "# Define the number of transactions\n",
    "num_transactions = 1000\n",
    "\n",
    "# Generate random dates within the current year\n",
    "current_year = datetime.now().year\n",
    "start_date = datetime(current_year, 1, 1)\n",
    "end_date = datetime.now()\n",
    "\n",
    "# Generate a list of random dates within the year\n",
    "random_dates = [start_date + timedelta(days=np.random.randint(0, (end_date - start_date).days))\n",
    "                for _ in range(num_transactions)]\n",
    "\n",
    "# Generate a list of random fee amounts\n",
    "random_fees = np.random.randint(low=1, high=5000, size=num_transactions)\n",
    "\n",
    "# Create the DataFrame\n",
    "fee_transactions = pd.DataFrame({\n",
    "    'date': random_dates,\n",
    "    'fee': random_fees\n",
    "})\n",
    "\n",
    "# Sort by date for readability\n",
    "fee_transactions.sort_values('date', inplace=True)\n",
    "\n",
    "# Reset index after sorting\n",
    "fee_transactions.reset_index(drop=True, inplace=True)\n",
    "\n",
    "print(fee_transactions)"
   ]
  },
  {
   "cell_type": "code",
   "execution_count": 15,
   "metadata": {},
   "outputs": [
    {
     "data": {
      "text/plain": [
       "0      (1000, 3000]\n",
       "1       (500, 1000]\n",
       "2      (1000, 3000]\n",
       "3      (4000, 5000]\n",
       "4          (1, 500]\n",
       "           ...     \n",
       "995     (500, 1000]\n",
       "996        (1, 500]\n",
       "997    (1000, 3000]\n",
       "998        (1, 500]\n",
       "999    (1000, 3000]\n",
       "Name: fee, Length: 1000, dtype: category\n",
       "Categories (5, interval[int64, right]): [(1, 500] < (500, 1000] < (1000, 3000] < (3000, 4000] < (4000, 5000]]"
      ]
     },
     "execution_count": 15,
     "metadata": {},
     "output_type": "execute_result"
    }
   ],
   "source": [
    "pd.cut(fee_transactions.fee,\n",
    "       [1,500,1000,3000,4000,5000])"
   ]
  },
  {
   "cell_type": "code",
   "execution_count": 16,
   "metadata": {},
   "outputs": [
    {
     "data": {
      "text/plain": [
       "fee\n",
       "(1000, 3000]    427\n",
       "(3000, 4000]    200\n",
       "(4000, 5000]    198\n",
       "(1, 500]         97\n",
       "(500, 1000]      78\n",
       "Name: count, dtype: int64"
      ]
     },
     "execution_count": 16,
     "metadata": {},
     "output_type": "execute_result"
    }
   ],
   "source": [
    "pd.cut(fee_transactions.fee,\n",
    "       [1,500,1000,3000,4000,5000]).value_counts()"
   ]
  },
  {
   "cell_type": "code",
   "execution_count": 17,
   "metadata": {},
   "outputs": [
    {
     "data": {
      "text/plain": [
       "fee\n",
       "(1000, 3000]    42.7\n",
       "(3000, 4000]    20.0\n",
       "(4000, 5000]    19.8\n",
       "(1, 500]         9.7\n",
       "(500, 1000]      7.8\n",
       "Name: proportion, dtype: float64"
      ]
     },
     "execution_count": 17,
     "metadata": {},
     "output_type": "execute_result"
    }
   ],
   "source": [
    "pd.cut(fee_transactions.fee,\n",
    "       [1,500,1000,3000,4000,5000]).value_counts(normalize=True)*100"
   ]
  },
  {
   "cell_type": "code",
   "execution_count": 18,
   "metadata": {},
   "outputs": [
    {
     "data": {
      "text/plain": [
       "fee\n",
       "(19.999, 1547.0]    301\n",
       "(2506.0, 3536.3]    200\n",
       "(3536.3, 4471.1]    200\n",
       "(1547.0, 2506.0]    199\n",
       "(4471.1, 4998.0]    100\n",
       "Name: count, dtype: int64"
      ]
     },
     "execution_count": 18,
     "metadata": {},
     "output_type": "execute_result"
    }
   ],
   "source": [
    "pd.qcut(fee_transactions.fee, [0,0.3,.5, .7, .9, 1]).value_counts()\n"
   ]
  },
  {
   "cell_type": "code",
   "execution_count": 19,
   "metadata": {},
   "outputs": [
    {
     "data": {
      "text/plain": [
       "fee\n",
       "(19.999, 1547.0]    30.1\n",
       "(2506.0, 3536.3]    20.0\n",
       "(3536.3, 4471.1]    20.0\n",
       "(1547.0, 2506.0]    19.9\n",
       "(4471.1, 4998.0]    10.0\n",
       "Name: proportion, dtype: float64"
      ]
     },
     "execution_count": 19,
     "metadata": {},
     "output_type": "execute_result"
    }
   ],
   "source": [
    "pd.qcut(fee_transactions.fee, [0,0.3,.5, .7, .9, 1]).value_counts(normalize=True)*100\n",
    "# meaning 30.1 per transaction are in 19.999 to 1547 range."
   ]
  },
  {
   "cell_type": "code",
   "execution_count": 21,
   "metadata": {},
   "outputs": [
    {
     "data": {
      "text/html": [
       "<div>\n",
       "<style scoped>\n",
       "    .dataframe tbody tr th:only-of-type {\n",
       "        vertical-align: middle;\n",
       "    }\n",
       "\n",
       "    .dataframe tbody tr th {\n",
       "        vertical-align: top;\n",
       "    }\n",
       "\n",
       "    .dataframe thead th {\n",
       "        text-align: right;\n",
       "    }\n",
       "</style>\n",
       "<table border=\"1\" class=\"dataframe\">\n",
       "  <thead>\n",
       "    <tr style=\"text-align: right;\">\n",
       "      <th></th>\n",
       "      <th>roll_no</th>\n",
       "      <th>name</th>\n",
       "      <th>father</th>\n",
       "      <th>course</th>\n",
       "      <th>date_of_admission</th>\n",
       "      <th>fee</th>\n",
       "    </tr>\n",
       "  </thead>\n",
       "  <tbody>\n",
       "    <tr>\n",
       "      <th>0</th>\n",
       "      <td>1</td>\n",
       "      <td>Alice</td>\n",
       "      <td>Bob</td>\n",
       "      <td>Physics</td>\n",
       "      <td>2023-01-10</td>\n",
       "      <td>10000</td>\n",
       "    </tr>\n",
       "    <tr>\n",
       "      <th>1</th>\n",
       "      <td>2</td>\n",
       "      <td>Brian</td>\n",
       "      <td>Steve</td>\n",
       "      <td>Chemistry</td>\n",
       "      <td>2023-02-12</td>\n",
       "      <td>11000</td>\n",
       "    </tr>\n",
       "    <tr>\n",
       "      <th>2</th>\n",
       "      <td>3</td>\n",
       "      <td>Chloe</td>\n",
       "      <td>Tim</td>\n",
       "      <td>Biology</td>\n",
       "      <td>2023-03-14</td>\n",
       "      <td>12000</td>\n",
       "    </tr>\n",
       "    <tr>\n",
       "      <th>3</th>\n",
       "      <td>4</td>\n",
       "      <td>David</td>\n",
       "      <td>Rick</td>\n",
       "      <td>Physics</td>\n",
       "      <td>2023-04-10</td>\n",
       "      <td>13000</td>\n",
       "    </tr>\n",
       "    <tr>\n",
       "      <th>4</th>\n",
       "      <td>5</td>\n",
       "      <td>Eva</td>\n",
       "      <td>John</td>\n",
       "      <td>Physics</td>\n",
       "      <td>2023-05-16</td>\n",
       "      <td>14000</td>\n",
       "    </tr>\n",
       "  </tbody>\n",
       "</table>\n",
       "</div>"
      ],
      "text/plain": [
       "   roll_no   name father     course date_of_admission    fee\n",
       "0        1  Alice    Bob    Physics        2023-01-10  10000\n",
       "1        2  Brian  Steve  Chemistry        2023-02-12  11000\n",
       "2        3  Chloe    Tim    Biology        2023-03-14  12000\n",
       "3        4  David   Rick    Physics        2023-04-10  13000\n",
       "4        5    Eva   John    Physics        2023-05-16  14000"
      ]
     },
     "execution_count": 21,
     "metadata": {},
     "output_type": "execute_result"
    }
   ],
   "source": [
    "students_df.head()"
   ]
  },
  {
   "cell_type": "markdown",
   "metadata": {},
   "source": [
    "## filter on columns\n",
    "* & , | , ~ Syntax:\n",
    "* dataframe[(dataframe.column1=='value1') & (dataframe.column2=='value2)]\n",
    "* string columns\n",
    "* numeric columns\n",
    "* datetime columns"
   ]
  },
  {
   "cell_type": "code",
   "execution_count": 22,
   "metadata": {},
   "outputs": [
    {
     "data": {
      "text/html": [
       "<div>\n",
       "<style scoped>\n",
       "    .dataframe tbody tr th:only-of-type {\n",
       "        vertical-align: middle;\n",
       "    }\n",
       "\n",
       "    .dataframe tbody tr th {\n",
       "        vertical-align: top;\n",
       "    }\n",
       "\n",
       "    .dataframe thead th {\n",
       "        text-align: right;\n",
       "    }\n",
       "</style>\n",
       "<table border=\"1\" class=\"dataframe\">\n",
       "  <thead>\n",
       "    <tr style=\"text-align: right;\">\n",
       "      <th></th>\n",
       "      <th>roll_no</th>\n",
       "      <th>name</th>\n",
       "      <th>father</th>\n",
       "      <th>course</th>\n",
       "      <th>date_of_admission</th>\n",
       "      <th>fee</th>\n",
       "    </tr>\n",
       "  </thead>\n",
       "  <tbody>\n",
       "    <tr>\n",
       "      <th>0</th>\n",
       "      <td>1</td>\n",
       "      <td>Alice</td>\n",
       "      <td>Bob</td>\n",
       "      <td>Physics</td>\n",
       "      <td>2023-01-10</td>\n",
       "      <td>10000</td>\n",
       "    </tr>\n",
       "  </tbody>\n",
       "</table>\n",
       "</div>"
      ],
      "text/plain": [
       "   roll_no   name father   course date_of_admission    fee\n",
       "0        1  Alice    Bob  Physics        2023-01-10  10000"
      ]
     },
     "execution_count": 22,
     "metadata": {},
     "output_type": "execute_result"
    }
   ],
   "source": [
    "students_df.head(1)"
   ]
  },
  {
   "cell_type": "code",
   "execution_count": 23,
   "metadata": {},
   "outputs": [
    {
     "data": {
      "text/plain": [
       "0     True\n",
       "1    False\n",
       "2    False\n",
       "3     True\n",
       "4     True\n",
       "5    False\n",
       "6    False\n",
       "7    False\n",
       "8    False\n",
       "9    False\n",
       "Name: course, dtype: bool"
      ]
     },
     "execution_count": 23,
     "metadata": {},
     "output_type": "execute_result"
    }
   ],
   "source": [
    "students_df['course']=='Physics' # jaha physics mila isne true krrdia condition "
   ]
  },
  {
   "cell_type": "code",
   "execution_count": 24,
   "metadata": {},
   "outputs": [
    {
     "data": {
      "text/html": [
       "<div>\n",
       "<style scoped>\n",
       "    .dataframe tbody tr th:only-of-type {\n",
       "        vertical-align: middle;\n",
       "    }\n",
       "\n",
       "    .dataframe tbody tr th {\n",
       "        vertical-align: top;\n",
       "    }\n",
       "\n",
       "    .dataframe thead th {\n",
       "        text-align: right;\n",
       "    }\n",
       "</style>\n",
       "<table border=\"1\" class=\"dataframe\">\n",
       "  <thead>\n",
       "    <tr style=\"text-align: right;\">\n",
       "      <th></th>\n",
       "      <th>roll_no</th>\n",
       "      <th>name</th>\n",
       "      <th>father</th>\n",
       "      <th>course</th>\n",
       "      <th>date_of_admission</th>\n",
       "      <th>fee</th>\n",
       "    </tr>\n",
       "  </thead>\n",
       "  <tbody>\n",
       "    <tr>\n",
       "      <th>0</th>\n",
       "      <td>1</td>\n",
       "      <td>Alice</td>\n",
       "      <td>Bob</td>\n",
       "      <td>Physics</td>\n",
       "      <td>2023-01-10</td>\n",
       "      <td>10000</td>\n",
       "    </tr>\n",
       "    <tr>\n",
       "      <th>3</th>\n",
       "      <td>4</td>\n",
       "      <td>David</td>\n",
       "      <td>Rick</td>\n",
       "      <td>Physics</td>\n",
       "      <td>2023-04-10</td>\n",
       "      <td>13000</td>\n",
       "    </tr>\n",
       "    <tr>\n",
       "      <th>4</th>\n",
       "      <td>5</td>\n",
       "      <td>Eva</td>\n",
       "      <td>John</td>\n",
       "      <td>Physics</td>\n",
       "      <td>2023-05-16</td>\n",
       "      <td>14000</td>\n",
       "    </tr>\n",
       "  </tbody>\n",
       "</table>\n",
       "</div>"
      ],
      "text/plain": [
       "   roll_no   name father   course date_of_admission    fee\n",
       "0        1  Alice    Bob  Physics        2023-01-10  10000\n",
       "3        4  David   Rick  Physics        2023-04-10  13000\n",
       "4        5    Eva   John  Physics        2023-05-16  14000"
      ]
     },
     "execution_count": 24,
     "metadata": {},
     "output_type": "execute_result"
    }
   ],
   "source": [
    "students_df[students_df['course']=='Physics'] "
   ]
  },
  {
   "cell_type": "code",
   "execution_count": 27,
   "metadata": {},
   "outputs": [
    {
     "name": "stdout",
     "output_type": "stream",
     "text": [
      "   roll_no    name   father     course date_of_admission    fee\n",
      "0        1   Alice      Bob    Physics        2023-01-10  10000\n",
      "1        2   Brian    Steve  Chemistry        2023-02-12  11000\n",
      "2        3   Chloe      Tim    Biology        2023-03-14  12000\n",
      "3        4   David     Rick    physics        2023-04-10  13000\n",
      "4        5     Eva     John    physics        2023-05-16  14000\n",
      "5        6   Frank      Tom  Economics        2023-06-21  15000\n",
      "6        7   Grace    Harry    History        2023-07-25  16000\n",
      "7        8   Henry  Charles  Geography        2023-08-17  17000\n",
      "8        9  Isabel   Oliver    English        2023-09-10  18000\n",
      "9       10    Jack     Noah        Art        2023-10-05  19000\n"
     ]
    }
   ],
   "source": [
    "import pandera as pa\n",
    "from pandera.typing import Series\n",
    "from datetime import datetime\n",
    "import pandas as pd\n",
    "\n",
    "# Define the schema using DataFrameModel\n",
    "class StudentSchema(pa.DataFrameModel):\n",
    "    roll_no: Series[int] = pa.Field(ge=1)\n",
    "    name: Series[str] = pa.Field(nullable=False)\n",
    "    father: Series[str] = pa.Field(nullable=False)\n",
    "    course: Series[str] = pa.Field(nullable=False)\n",
    "    date_of_admission: Series[datetime] = pa.Field(le=datetime.now())\n",
    "    fee: Series[int] = pa.Field(ge=0)\n",
    "\n",
    "    class Config:\n",
    "        coerce = True  # Automatically coerce types if possible\n",
    "        strict = True  # Ensure all columns are accounted for in the schema\n",
    "\n",
    "# Data for 10 students\n",
    "students_data = [\n",
    "    {'roll_no': 1, 'name': 'Alice', 'father': 'Bob', 'course': 'Physics', 'date_of_admission': '2023-01-10', 'fee': 10000},\n",
    "    {'roll_no': 2, 'name': 'Brian', 'father': 'Steve', 'course': 'Chemistry', 'date_of_admission': '2023-02-12', 'fee': 11000},\n",
    "    {'roll_no': 3, 'name': 'Chloe', 'father': 'Tim', 'course': 'Biology', 'date_of_admission': '2023-03-14', 'fee': 12000},\n",
    "    {'roll_no': 4, 'name': 'David', 'father': 'Rick', 'course': 'physics', 'date_of_admission': '2023-04-10', 'fee': 13000},\n",
    "    {'roll_no': 5, 'name': 'Eva', 'father': 'John', 'course': 'physics', 'date_of_admission': '2023-05-16', 'fee': 14000},\n",
    "    {'roll_no': 6, 'name': 'Frank', 'father': 'Tom', 'course': 'Economics', 'date_of_admission': '2023-06-21', 'fee': 15000},\n",
    "    {'roll_no': 7, 'name': 'Grace', 'father': 'Harry', 'course': 'History', 'date_of_admission': '2023-07-25', 'fee': 16000},\n",
    "    {'roll_no': 8, 'name': 'Henry', 'father': 'Charles', 'course': 'Geography', 'date_of_admission': '2023-08-17', 'fee': 17000},\n",
    "    {'roll_no': 9, 'name': 'Isabel', 'father': 'Oliver', 'course': 'English', 'date_of_admission': '2023-09-10', 'fee': 18000},\n",
    "    {'roll_no': 10, 'name': 'Jack', 'father': 'Noah', 'course': 'Art', 'date_of_admission': '2023-10-05', 'fee': 19000},\n",
    "]\n",
    "\n",
    "# Create the DataFrame\n",
    "students_df = pd.DataFrame(students_data)\n",
    "\n",
    "# Convert 'date_of_admission' to datetime\n",
    "students_df['date_of_admission'] = pd.to_datetime(students_df['date_of_admission'])\n",
    "\n",
    "# Validate the DataFrame\n",
    "validated_df = StudentSchema.validate(students_df)\n",
    "\n",
    "# Print the validated DataFrame\n",
    "print(validated_df)\n"
   ]
  },
  {
   "cell_type": "code",
   "execution_count": 28,
   "metadata": {},
   "outputs": [
    {
     "data": {
      "text/html": [
       "<div>\n",
       "<style scoped>\n",
       "    .dataframe tbody tr th:only-of-type {\n",
       "        vertical-align: middle;\n",
       "    }\n",
       "\n",
       "    .dataframe tbody tr th {\n",
       "        vertical-align: top;\n",
       "    }\n",
       "\n",
       "    .dataframe thead th {\n",
       "        text-align: right;\n",
       "    }\n",
       "</style>\n",
       "<table border=\"1\" class=\"dataframe\">\n",
       "  <thead>\n",
       "    <tr style=\"text-align: right;\">\n",
       "      <th></th>\n",
       "      <th>roll_no</th>\n",
       "      <th>name</th>\n",
       "      <th>father</th>\n",
       "      <th>course</th>\n",
       "      <th>date_of_admission</th>\n",
       "      <th>fee</th>\n",
       "    </tr>\n",
       "  </thead>\n",
       "  <tbody>\n",
       "    <tr>\n",
       "      <th>0</th>\n",
       "      <td>1</td>\n",
       "      <td>Alice</td>\n",
       "      <td>Bob</td>\n",
       "      <td>Physics</td>\n",
       "      <td>2023-01-10</td>\n",
       "      <td>10000</td>\n",
       "    </tr>\n",
       "  </tbody>\n",
       "</table>\n",
       "</div>"
      ],
      "text/plain": [
       "   roll_no   name father   course date_of_admission    fee\n",
       "0        1  Alice    Bob  Physics        2023-01-10  10000"
      ]
     },
     "execution_count": 28,
     "metadata": {},
     "output_type": "execute_result"
    }
   ],
   "source": [
    "students_df[students_df['course']=='Physics']  # he just pick Physics not physics"
   ]
  },
  {
   "cell_type": "code",
   "execution_count": 30,
   "metadata": {},
   "outputs": [
    {
     "data": {
      "text/plain": [
       "0     True\n",
       "1    False\n",
       "2    False\n",
       "3     True\n",
       "4     True\n",
       "5    False\n",
       "6    False\n",
       "7    False\n",
       "8    False\n",
       "9    False\n",
       "Name: course, dtype: bool"
      ]
     },
     "execution_count": 30,
     "metadata": {},
     "output_type": "execute_result"
    }
   ],
   "source": [
    "students_df['course'].str.lower() == 'physics' # physics ko small alphabet me convert krke condition chalae ke physics ke equal hai ke nahe and if it is the pass true"
   ]
  },
  {
   "cell_type": "code",
   "execution_count": 31,
   "metadata": {},
   "outputs": [
    {
     "data": {
      "text/html": [
       "<div>\n",
       "<style scoped>\n",
       "    .dataframe tbody tr th:only-of-type {\n",
       "        vertical-align: middle;\n",
       "    }\n",
       "\n",
       "    .dataframe tbody tr th {\n",
       "        vertical-align: top;\n",
       "    }\n",
       "\n",
       "    .dataframe thead th {\n",
       "        text-align: right;\n",
       "    }\n",
       "</style>\n",
       "<table border=\"1\" class=\"dataframe\">\n",
       "  <thead>\n",
       "    <tr style=\"text-align: right;\">\n",
       "      <th></th>\n",
       "      <th>roll_no</th>\n",
       "      <th>name</th>\n",
       "      <th>father</th>\n",
       "      <th>course</th>\n",
       "      <th>date_of_admission</th>\n",
       "      <th>fee</th>\n",
       "    </tr>\n",
       "  </thead>\n",
       "  <tbody>\n",
       "    <tr>\n",
       "      <th>0</th>\n",
       "      <td>1</td>\n",
       "      <td>Alice</td>\n",
       "      <td>Bob</td>\n",
       "      <td>Physics</td>\n",
       "      <td>2023-01-10</td>\n",
       "      <td>10000</td>\n",
       "    </tr>\n",
       "    <tr>\n",
       "      <th>3</th>\n",
       "      <td>4</td>\n",
       "      <td>David</td>\n",
       "      <td>Rick</td>\n",
       "      <td>physics</td>\n",
       "      <td>2023-04-10</td>\n",
       "      <td>13000</td>\n",
       "    </tr>\n",
       "    <tr>\n",
       "      <th>4</th>\n",
       "      <td>5</td>\n",
       "      <td>Eva</td>\n",
       "      <td>John</td>\n",
       "      <td>physics</td>\n",
       "      <td>2023-05-16</td>\n",
       "      <td>14000</td>\n",
       "    </tr>\n",
       "  </tbody>\n",
       "</table>\n",
       "</div>"
      ],
      "text/plain": [
       "   roll_no   name father   course date_of_admission    fee\n",
       "0        1  Alice    Bob  Physics        2023-01-10  10000\n",
       "3        4  David   Rick  physics        2023-04-10  13000\n",
       "4        5    Eva   John  physics        2023-05-16  14000"
      ]
     },
     "execution_count": 31,
     "metadata": {},
     "output_type": "execute_result"
    }
   ],
   "source": [
    "students_df[students_df['course'].str.lower() == 'physics']"
   ]
  },
  {
   "cell_type": "code",
   "execution_count": 32,
   "metadata": {},
   "outputs": [
    {
     "data": {
      "text/plain": [
       "0     True\n",
       "1    False\n",
       "2    False\n",
       "3     True\n",
       "4     True\n",
       "5     True\n",
       "6    False\n",
       "7    False\n",
       "8    False\n",
       "9    False\n",
       "Name: course, dtype: bool"
      ]
     },
     "execution_count": 32,
     "metadata": {},
     "output_type": "execute_result"
    }
   ],
   "source": [
    "students_df['course'].str.lower().str.contains('cs') # if any course have cs word in it then pass true"
   ]
  },
  {
   "cell_type": "code",
   "execution_count": 33,
   "metadata": {},
   "outputs": [
    {
     "data": {
      "text/html": [
       "<div>\n",
       "<style scoped>\n",
       "    .dataframe tbody tr th:only-of-type {\n",
       "        vertical-align: middle;\n",
       "    }\n",
       "\n",
       "    .dataframe tbody tr th {\n",
       "        vertical-align: top;\n",
       "    }\n",
       "\n",
       "    .dataframe thead th {\n",
       "        text-align: right;\n",
       "    }\n",
       "</style>\n",
       "<table border=\"1\" class=\"dataframe\">\n",
       "  <thead>\n",
       "    <tr style=\"text-align: right;\">\n",
       "      <th></th>\n",
       "      <th>roll_no</th>\n",
       "      <th>name</th>\n",
       "      <th>father</th>\n",
       "      <th>course</th>\n",
       "      <th>date_of_admission</th>\n",
       "      <th>fee</th>\n",
       "    </tr>\n",
       "  </thead>\n",
       "  <tbody>\n",
       "    <tr>\n",
       "      <th>0</th>\n",
       "      <td>1</td>\n",
       "      <td>Alice</td>\n",
       "      <td>Bob</td>\n",
       "      <td>Physics</td>\n",
       "      <td>2023-01-10</td>\n",
       "      <td>10000</td>\n",
       "    </tr>\n",
       "    <tr>\n",
       "      <th>3</th>\n",
       "      <td>4</td>\n",
       "      <td>David</td>\n",
       "      <td>Rick</td>\n",
       "      <td>physics</td>\n",
       "      <td>2023-04-10</td>\n",
       "      <td>13000</td>\n",
       "    </tr>\n",
       "    <tr>\n",
       "      <th>4</th>\n",
       "      <td>5</td>\n",
       "      <td>Eva</td>\n",
       "      <td>John</td>\n",
       "      <td>physics</td>\n",
       "      <td>2023-05-16</td>\n",
       "      <td>14000</td>\n",
       "    </tr>\n",
       "    <tr>\n",
       "      <th>5</th>\n",
       "      <td>6</td>\n",
       "      <td>Frank</td>\n",
       "      <td>Tom</td>\n",
       "      <td>Economics</td>\n",
       "      <td>2023-06-21</td>\n",
       "      <td>15000</td>\n",
       "    </tr>\n",
       "  </tbody>\n",
       "</table>\n",
       "</div>"
      ],
      "text/plain": [
       "   roll_no   name father     course date_of_admission    fee\n",
       "0        1  Alice    Bob    Physics        2023-01-10  10000\n",
       "3        4  David   Rick    physics        2023-04-10  13000\n",
       "4        5    Eva   John    physics        2023-05-16  14000\n",
       "5        6  Frank    Tom  Economics        2023-06-21  15000"
      ]
     },
     "execution_count": 33,
     "metadata": {},
     "output_type": "execute_result"
    }
   ],
   "source": [
    "students_df[students_df['course'].str.lower().str.contains('cs')]\n",
    "# these are those words in which we have cs."
   ]
  },
  {
   "cell_type": "code",
   "execution_count": 34,
   "metadata": {},
   "outputs": [
    {
     "data": {
      "text/html": [
       "<div>\n",
       "<style scoped>\n",
       "    .dataframe tbody tr th:only-of-type {\n",
       "        vertical-align: middle;\n",
       "    }\n",
       "\n",
       "    .dataframe tbody tr th {\n",
       "        vertical-align: top;\n",
       "    }\n",
       "\n",
       "    .dataframe thead th {\n",
       "        text-align: right;\n",
       "    }\n",
       "</style>\n",
       "<table border=\"1\" class=\"dataframe\">\n",
       "  <thead>\n",
       "    <tr style=\"text-align: right;\">\n",
       "      <th></th>\n",
       "      <th>roll_no</th>\n",
       "      <th>name</th>\n",
       "      <th>father</th>\n",
       "      <th>course</th>\n",
       "      <th>date_of_admission</th>\n",
       "      <th>fee</th>\n",
       "    </tr>\n",
       "  </thead>\n",
       "  <tbody>\n",
       "    <tr>\n",
       "      <th>4</th>\n",
       "      <td>5</td>\n",
       "      <td>Eva</td>\n",
       "      <td>John</td>\n",
       "      <td>physics</td>\n",
       "      <td>2023-05-16</td>\n",
       "      <td>14000</td>\n",
       "    </tr>\n",
       "    <tr>\n",
       "      <th>5</th>\n",
       "      <td>6</td>\n",
       "      <td>Frank</td>\n",
       "      <td>Tom</td>\n",
       "      <td>Economics</td>\n",
       "      <td>2023-06-21</td>\n",
       "      <td>15000</td>\n",
       "    </tr>\n",
       "  </tbody>\n",
       "</table>\n",
       "</div>"
      ],
      "text/plain": [
       "   roll_no   name father     course date_of_admission    fee\n",
       "4        5    Eva   John    physics        2023-05-16  14000\n",
       "5        6  Frank    Tom  Economics        2023-06-21  15000"
      ]
     },
     "execution_count": 34,
     "metadata": {},
     "output_type": "execute_result"
    }
   ],
   "source": [
    "students_df[(students_df['course'].str.lower().str.contains('cs')) & (students_df['fee']>=14000)]\n"
   ]
  },
  {
   "cell_type": "code",
   "execution_count": 37,
   "metadata": {},
   "outputs": [
    {
     "data": {
      "text/plain": [
       "0    False\n",
       "1    False\n",
       "2    False\n",
       "3    False\n",
       "4    False\n",
       "5    False\n",
       "6    False\n",
       "7    False\n",
       "8    False\n",
       "9    False\n",
       "Name: course, dtype: bool"
      ]
     },
     "execution_count": 37,
     "metadata": {},
     "output_type": "execute_result"
    }
   ],
   "source": [
    "# a word which has alphabet sc and r so we don't have any kind of word.\n",
    "\n",
    "students_df['course'].str.lower().str.contains(\"cs\") & students_df['course'].str.lower().str.contains(\"r\")"
   ]
  },
  {
   "cell_type": "code",
   "execution_count": 36,
   "metadata": {},
   "outputs": [
    {
     "data": {
      "text/plain": [
       "0     True\n",
       "1     True\n",
       "2    False\n",
       "3     True\n",
       "4     True\n",
       "5     True\n",
       "6     True\n",
       "7     True\n",
       "8    False\n",
       "9     True\n",
       "Name: course, dtype: bool"
      ]
     },
     "execution_count": 36,
     "metadata": {},
     "output_type": "execute_result"
    }
   ],
   "source": [
    "students_df['course'].str.lower().str.contains(\"cs\") | students_df['course'].str.lower().str.contains(\"r\")\n"
   ]
  },
  {
   "cell_type": "markdown",
   "metadata": {},
   "source": [
    "## apply filter on date column\n",
    "* dataframe.column.dt\n",
    "* dt.strftime\n",
    "* dt.strptime\n",
    "* In pandas, when you have a datetime column in a DataFrame, you can format the date and time information using the strftime method which allows for flexible formatting by specifying format codes. Each code represents a different element of the date and time. Below are some of the commonly used format codes that you can use with strftime:\n",
    "\n",
    "* %a - Abbreviated weekday name.\n",
    "*%A - Full weekday name.\n",
    "* %w - Weekday as a decimal number, where 0 is Sunday and 6 is Saturday.\n",
    "* %d - Day of the month as a zero-padded decimal number.\n",
    "* %b - Abbreviated month name.\n",
    "* %B - Full month name.\n",
    "* %m - Month as a zero-padded decimal number.\n",
    "* %y - Year without century as a zero-padded decimal number.\n",
    "* %Y - Year with century as a decimal number.\n",
    "* %H - Hour (24-hour clock) as a zero-padded decimal number.\n",
    "* %I - Hour (12-hour clock) as a zero-padded decimal number.\n",
    "* %p - Locale’s equivalent of either AM or PM.\n",
    "* %M - Minute as a zero-padded decimal number.\n",
    "* %S - Second as a zero-padded decimal number.\n",
    "* %f - Microsecond as a decimal number, zero-padded on the left.\n",
    "* %z - UTC offset in the form ±HHMM[SS[.ffffff]] (empty string if the object is naive).\n",
    "* %Z - Time zone name (empty string if the object is naive).\n",
    "* %j - Day of the year as a zero-padded decimal number.\n",
    "* %U - Week number of the year (Sunday as the first day of the week) as a zero-padded decimal number.\n",
    "* %W - Week number of the year (Monday as the first day of the week) as a zero-padded decimal number.\n",
    "* %c - Locale’s appropriate date and time representation.\n",
    "* %x - Locale’s appropriate date representation.\n",
    "* %X - Locale’s appropriate time representation.\n",
    "* %G - ISO 8601 year with century representing the year that contains the greater part of the ISO week (%V).\n",
    "* %u - ISO 8601 weekday as a decimal number where 1 is Monday.\n",
    "* %V - ISO 8601 week number as a decimal number with Monday as the first day of the week.\n",
    "* Here's a small example of how to use strftime with a pandas DataFrame:\n",
    "\n",
    "import pandas as pd\n",
    "\n",
    "#### Create a sample DataFrame with datetime column\n",
    "```\n",
    "df = pd.DataFrame({\n",
    "    'datetime': pd.date_range(start='2023-01-01', periods=3, freq='D')\n",
    "})\n",
    "```\n",
    "# Format the 'datetime' column as a string with a specific format\n",
    "```\n",
    "df['formatted_date'] = df['datetime'].dt.strftime('%Y-%m-%d %H:%M:%S')\n",
    "\n",
    "print(df)\n",
    "```\n",
    "The 'formatted_date' column will contain strings representing the dates in the format specified by the strftime method. You can combine any of the symbols above to create the date format string as per your requirements."
   ]
  },
  {
   "cell_type": "code",
   "execution_count": 38,
   "metadata": {},
   "outputs": [
    {
     "data": {
      "text/plain": [
       "0   2023-01-10\n",
       "1   2023-02-12\n",
       "2   2023-03-14\n",
       "3   2023-04-10\n",
       "4   2023-05-16\n",
       "5   2023-06-21\n",
       "6   2023-07-25\n",
       "7   2023-08-17\n",
       "8   2023-09-10\n",
       "9   2023-10-05\n",
       "Name: date_of_admission, dtype: datetime64[ns]"
      ]
     },
     "execution_count": 38,
     "metadata": {},
     "output_type": "execute_result"
    }
   ],
   "source": [
    "students_df['date_of_admission']"
   ]
  },
  {
   "cell_type": "code",
   "execution_count": 41,
   "metadata": {},
   "outputs": [
    {
     "data": {
      "text/plain": [
       "0    2023\n",
       "1    2023\n",
       "2    2023\n",
       "3    2023\n",
       "4    2023\n",
       "5    2023\n",
       "6    2023\n",
       "7    2023\n",
       "8    2023\n",
       "9    2023\n",
       "Name: date_of_admission, dtype: int32"
      ]
     },
     "execution_count": 41,
     "metadata": {},
     "output_type": "execute_result"
    }
   ],
   "source": [
    "students_df['date_of_admission'].dt.year\n",
    "# students_df['date_of_admission'].dt.month\n",
    "# students_df['date_of_admission'].dt.day\n",
    "# students_df['date_of_admission'].dt.weekday\n",
    "# students_df['date_of_admission'].dt.day_of_week\n",
    "# students_df['date_of_admission'].dt.hour\n",
    "# students_df['date_of_admission'].dt.minute\n",
    "# students_df['date_of_admission'].dt.second\n",
    "# students_df['date_of_admission'].dt.microsecond # microseconds is not in the dataframe that's why i will give you 0"
   ]
  },
  {
   "cell_type": "code",
   "execution_count": 42,
   "metadata": {},
   "outputs": [
    {
     "data": {
      "text/plain": [
       "datetime.datetime(2024, 7, 30, 21, 16, 56, 497545)"
      ]
     },
     "execution_count": 42,
     "metadata": {},
     "output_type": "execute_result"
    }
   ],
   "source": [
    "from datetime import datetime\n",
    "\n",
    "date : datetime = datetime.now()\n",
    "date"
   ]
  },
  {
   "cell_type": "code",
   "execution_count": 43,
   "metadata": {},
   "outputs": [
    {
     "data": {
      "text/plain": [
       "0   2024-07-30 21:16:56.497545\n",
       "dtype: datetime64[ns]"
      ]
     },
     "execution_count": 43,
     "metadata": {},
     "output_type": "execute_result"
    }
   ],
   "source": [
    "s1 : pd.Series = pd.Series([date])\n",
    "s1"
   ]
  },
  {
   "cell_type": "code",
   "execution_count": 44,
   "metadata": {},
   "outputs": [
    {
     "data": {
      "text/plain": [
       "0    2024/07 30 09 Jul July\n",
       "dtype: object"
      ]
     },
     "execution_count": 44,
     "metadata": {},
     "output_type": "execute_result"
    }
   ],
   "source": [
    "s1.dt.strftime(\"%Y/%m %d %I %b %B\") # convet from date to text %I means time hour   b and B. b is july and B is July\n"
   ]
  },
  {
   "cell_type": "code",
   "execution_count": 45,
   "metadata": {},
   "outputs": [
    {
     "data": {
      "text/plain": [
       "0    01 Nov 2023\n",
       "1    01 Nov 2024\n",
       "2    01 Jan 2022\n",
       "dtype: object"
      ]
     },
     "execution_count": 45,
     "metadata": {},
     "output_type": "execute_result"
    }
   ],
   "source": [
    "s2 :pd.Series =  pd.Series(['01 Nov 2023', '01 Nov 2024', '01 Jan 2022'])\n",
    "s2"
   ]
  },
  {
   "cell_type": "code",
   "execution_count": 46,
   "metadata": {},
   "outputs": [
    {
     "data": {
      "text/plain": [
       "0   2023-11-01\n",
       "1   2024-11-01\n",
       "2   2022-01-01\n",
       "dtype: datetime64[ns]"
      ]
     },
     "execution_count": 46,
     "metadata": {},
     "output_type": "execute_result"
    }
   ],
   "source": [
    "s2.apply(lambda x: datetime.strptime(x,\"%d %b %Y\") ) # string to datetime\n"
   ]
  },
  {
   "cell_type": "markdown",
   "metadata": {},
   "source": [
    "## Group by\n",
    "* dataframe.groupby(['column1', 'column2'])\n",
    "* dataframe.groupby(['column1', 'column2'])[['co1','col2']].aggregate([min,max])\n",
    "* dataframe.groupby(['column1', 'column2'])[['co1','col2']].apply(function())"
   ]
  },
  {
   "cell_type": "code",
   "execution_count": 47,
   "metadata": {},
   "outputs": [
    {
     "data": {
      "text/html": [
       "<div>\n",
       "<style scoped>\n",
       "    .dataframe tbody tr th:only-of-type {\n",
       "        vertical-align: middle;\n",
       "    }\n",
       "\n",
       "    .dataframe tbody tr th {\n",
       "        vertical-align: top;\n",
       "    }\n",
       "\n",
       "    .dataframe thead th {\n",
       "        text-align: right;\n",
       "    }\n",
       "</style>\n",
       "<table border=\"1\" class=\"dataframe\">\n",
       "  <thead>\n",
       "    <tr style=\"text-align: right;\">\n",
       "      <th></th>\n",
       "      <th>roll_no</th>\n",
       "      <th>name</th>\n",
       "      <th>father</th>\n",
       "      <th>course</th>\n",
       "      <th>date_of_admission</th>\n",
       "      <th>fee</th>\n",
       "    </tr>\n",
       "  </thead>\n",
       "  <tbody>\n",
       "    <tr>\n",
       "      <th>0</th>\n",
       "      <td>1</td>\n",
       "      <td>Alice</td>\n",
       "      <td>Bob</td>\n",
       "      <td>Physics</td>\n",
       "      <td>2023-01-10</td>\n",
       "      <td>10000</td>\n",
       "    </tr>\n",
       "    <tr>\n",
       "      <th>1</th>\n",
       "      <td>2</td>\n",
       "      <td>Brian</td>\n",
       "      <td>Steve</td>\n",
       "      <td>Chemistry</td>\n",
       "      <td>2023-02-12</td>\n",
       "      <td>11000</td>\n",
       "    </tr>\n",
       "    <tr>\n",
       "      <th>2</th>\n",
       "      <td>3</td>\n",
       "      <td>Chloe</td>\n",
       "      <td>Tim</td>\n",
       "      <td>Biology</td>\n",
       "      <td>2023-03-14</td>\n",
       "      <td>12000</td>\n",
       "    </tr>\n",
       "    <tr>\n",
       "      <th>3</th>\n",
       "      <td>4</td>\n",
       "      <td>David</td>\n",
       "      <td>Rick</td>\n",
       "      <td>physics</td>\n",
       "      <td>2023-04-10</td>\n",
       "      <td>13000</td>\n",
       "    </tr>\n",
       "    <tr>\n",
       "      <th>4</th>\n",
       "      <td>5</td>\n",
       "      <td>Eva</td>\n",
       "      <td>John</td>\n",
       "      <td>physics</td>\n",
       "      <td>2023-05-16</td>\n",
       "      <td>14000</td>\n",
       "    </tr>\n",
       "    <tr>\n",
       "      <th>5</th>\n",
       "      <td>6</td>\n",
       "      <td>Frank</td>\n",
       "      <td>Tom</td>\n",
       "      <td>Economics</td>\n",
       "      <td>2023-06-21</td>\n",
       "      <td>15000</td>\n",
       "    </tr>\n",
       "    <tr>\n",
       "      <th>6</th>\n",
       "      <td>7</td>\n",
       "      <td>Grace</td>\n",
       "      <td>Harry</td>\n",
       "      <td>History</td>\n",
       "      <td>2023-07-25</td>\n",
       "      <td>16000</td>\n",
       "    </tr>\n",
       "    <tr>\n",
       "      <th>7</th>\n",
       "      <td>8</td>\n",
       "      <td>Henry</td>\n",
       "      <td>Charles</td>\n",
       "      <td>Geography</td>\n",
       "      <td>2023-08-17</td>\n",
       "      <td>17000</td>\n",
       "    </tr>\n",
       "    <tr>\n",
       "      <th>8</th>\n",
       "      <td>9</td>\n",
       "      <td>Isabel</td>\n",
       "      <td>Oliver</td>\n",
       "      <td>English</td>\n",
       "      <td>2023-09-10</td>\n",
       "      <td>18000</td>\n",
       "    </tr>\n",
       "    <tr>\n",
       "      <th>9</th>\n",
       "      <td>10</td>\n",
       "      <td>Jack</td>\n",
       "      <td>Noah</td>\n",
       "      <td>Art</td>\n",
       "      <td>2023-10-05</td>\n",
       "      <td>19000</td>\n",
       "    </tr>\n",
       "  </tbody>\n",
       "</table>\n",
       "</div>"
      ],
      "text/plain": [
       "   roll_no    name   father     course date_of_admission    fee\n",
       "0        1   Alice      Bob    Physics        2023-01-10  10000\n",
       "1        2   Brian    Steve  Chemistry        2023-02-12  11000\n",
       "2        3   Chloe      Tim    Biology        2023-03-14  12000\n",
       "3        4   David     Rick    physics        2023-04-10  13000\n",
       "4        5     Eva     John    physics        2023-05-16  14000\n",
       "5        6   Frank      Tom  Economics        2023-06-21  15000\n",
       "6        7   Grace    Harry    History        2023-07-25  16000\n",
       "7        8   Henry  Charles  Geography        2023-08-17  17000\n",
       "8        9  Isabel   Oliver    English        2023-09-10  18000\n",
       "9       10    Jack     Noah        Art        2023-10-05  19000"
      ]
     },
     "execution_count": 47,
     "metadata": {},
     "output_type": "execute_result"
    }
   ],
   "source": [
    "students_df"
   ]
  }
 ],
 "metadata": {
  "kernelspec": {
   "display_name": "python12",
   "language": "python",
   "name": "python3"
  },
  "language_info": {
   "codemirror_mode": {
    "name": "ipython",
    "version": 3
   },
   "file_extension": ".py",
   "mimetype": "text/x-python",
   "name": "python",
   "nbconvert_exporter": "python",
   "pygments_lexer": "ipython3",
   "version": "3.12.4"
  }
 },
 "nbformat": 4,
 "nbformat_minor": 2
}
