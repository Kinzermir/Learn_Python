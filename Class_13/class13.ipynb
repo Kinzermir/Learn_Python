{
 "cells": [
  {
   "cell_type": "markdown",
   "metadata": {},
   "source": [
    "# OOP (Object Oriented Programming)\n",
    "* Class\n",
    "    * method\n",
    "        * first argument must be additional variable (this, self or anything else)\n",
    "    * attribute\n",
    "        * connect with individual object\n",
    "    * constructor \n",
    "        * def __init__(self,arg1, arg2)\n",
    "    * Class variable\n",
    "        * this value use for all object\n",
    "        * ClassName.class_variable\n",
    "\n",
    "    * class Class_name():\n",
    "        * class_variable : type = Value\n",
    "## class syntax\n",
    "* name of class must be start form capital word which such as Class_name\n",
    "```\n",
    "class Class_name():\n",
    "    pass\n",
    "```"
   ]
  },
  {
   "cell_type": "code",
   "execution_count": 18,
   "metadata": {},
   "outputs": [],
   "source": [
    "# minus minus init is default method when def (function) is written in class it's call method \n",
    "class Teacher():\n",
    "# every class has main two components one is attributes and the 2nd is methods which are given below.\n",
    "# you can use seld or this. \n",
    "    def __init__(self, teacher_id : int, teacher_name : str) -> None: # called mthod/constructor\n",
    "# now make attribite of name. for name attribute start with the first argument such as self.name so name is attribute here\n",
    "# name, id is the class were default but the organization_name is the custom class we have made it       \n",
    "        self.name : str = teacher_name # teacher_name value will assign to name attribute\n",
    "        self.id : int = teacher_id # teacher_id value will assign to id attribute\n",
    "        self.organization_name : str = \"PIAIC\" # Custom attribute with default value\n",
    "# Methods :- the diff bet method and function is method has extra argument which is self\n",
    "# Method to simulate the teacher speaking\n",
    "    def speak(self, words: str):\n",
    "        print(f\"{self.name} is speaking {words}\")\n",
    "\n",
    "# Method to simulate the teacher teaching a subject\n",
    "    def teaching(self, subject: str):\n",
    "        print(f\"{self.name} is teaching {subject}...! \")\n",
    "\n",
    "# it means in class we created objects each object has property of teacher name , teacher id , and organization name which is piaic "
   ]
  },
  {
   "cell_type": "code",
   "execution_count": 10,
   "metadata": {},
   "outputs": [
    {
     "data": {
      "text/plain": [
       "['__class__',\n",
       " '__delattr__',\n",
       " '__dict__',\n",
       " '__dir__',\n",
       " '__doc__',\n",
       " '__eq__',\n",
       " '__format__',\n",
       " '__ge__',\n",
       " '__getattribute__',\n",
       " '__getstate__',\n",
       " '__gt__',\n",
       " '__hash__',\n",
       " '__init__',\n",
       " '__init_subclass__',\n",
       " '__le__',\n",
       " '__lt__',\n",
       " '__module__',\n",
       " '__ne__',\n",
       " '__new__',\n",
       " '__reduce__',\n",
       " '__reduce_ex__',\n",
       " '__repr__',\n",
       " '__setattr__',\n",
       " '__sizeof__',\n",
       " '__str__',\n",
       " '__subclasshook__',\n",
       " '__weakref__',\n",
       " 'charge',\n",
       " 'id',\n",
       " 'name',\n",
       " 'organization_name',\n",
       " 'speak',\n",
       " 'teaching']"
      ]
     },
     "execution_count": 10,
     "metadata": {},
     "output_type": "execute_result"
    }
   ],
   "source": [
    "dir(obj1)"
   ]
  },
  {
   "cell_type": "code",
   "execution_count": 19,
   "metadata": {},
   "outputs": [
    {
     "name": "stdout",
     "output_type": "stream",
     "text": [
      "Sir Zia Khan\n",
      "1\n",
      "PIAIC\n",
      "Muhammad Qasim\n",
      "2\n",
      "PIAIC\n"
     ]
    }
   ],
   "source": [
    "# Accessing attributes by calling constructor\n",
    "obj1 : Teacher = Teacher(1,\"Sir Zia Khan\")  \n",
    "obj2 : Teacher = Teacher(2, \"Muhammad Qasim\")\n",
    "\n",
    "print(obj1.name)\n",
    "print(obj1.id)\n",
    "print(obj1.organization_name)\n",
    "\n",
    "print(obj2.name)\n",
    "print(obj2.id)\n",
    "print(obj2.organization_name)"
   ]
  },
  {
   "cell_type": "code",
   "execution_count": 12,
   "metadata": {},
   "outputs": [
    {
     "name": "stdout",
     "output_type": "stream",
     "text": [
      "Sir Zia Khan is teaching Generative AI\n",
      "Muhammad Qasim is teaching Generative AI\n"
     ]
    }
   ],
   "source": [
    "# Using methods\n",
    "obj1.teaching(\"Generative AI\")\n",
    "obj2.teaching(\"Generative AI\")"
   ]
  },
  {
   "cell_type": "code",
   "execution_count": 20,
   "metadata": {},
   "outputs": [
    {
     "name": "stdout",
     "output_type": "stream",
     "text": [
      "Sir Zia Khan is teaching Generative AI...! \n",
      "Muhammad Qasim is teaching Generative AI...! \n"
     ]
    }
   ],
   "source": [
    "# i made changes with subject by added ...! so affect goes to all.\n",
    "obj1.teaching(\"Generative AI\")\n",
    "obj2.teaching(\"Generative AI\")"
   ]
  },
  {
   "cell_type": "markdown",
   "metadata": {},
   "source": [
    "## Class Variable\n",
    "\n",
    "* Class variable\n",
    "* this value use for all object\n",
    "* we can access class varibale in a two way\n",
    "    * ClassName.class_variable\n",
    "    * object_name.class_variable\n",
    "\n",
    "    * class Class_name():\n",
    "        * class_variable : type = Value"
   ]
  },
  {
   "cell_type": "code",
   "execution_count": 32,
   "metadata": {},
   "outputs": [],
   "source": [
    "class Teacher():\n",
    "    counter : int = 0 # Class variable1\n",
    "    help_line_number : str = \"0315-2968211\" # class variable2\n",
    "\n",
    "    def __init__(self, teacher_id : int , teacher_name : str) -> None: # method/constructor\n",
    "        self.name : str = teacher_name #self.attribute_name = value\n",
    "        self.teacher_id : int  = teacher_id\n",
    "        self.organization_name: str = \"PIAIC\"\n",
    "        Teacher.counter += 1  # it tells the object that how much objects we have created\n",
    "\n",
    "\n",
    "    def speak(self, words : str )->None: # method\n",
    "        print(f\"{self.name} is speaking {words}\")\n",
    "    \n",
    "    def teaching(self, subject : str )->None: # method\n",
    "        print(f\"{self.name} is teaching {subject}...!\")\n",
    "\n",
    "    def details(self)->None:\n",
    "        information : str = f\"\"\"\n",
    "Teacher name is {self.name}\n",
    "our help line number is {Teacher.help_line_number}\n",
    "\"\"\"\n",
    "        print(information)\n",
    "obj1 : Teacher = Teacher(1, \"Sir Zia Khan\") \n",
    "obj2 : Teacher = Teacher(2, \"Sir Qasim\")\n"
   ]
  },
  {
   "cell_type": "code",
   "execution_count": 31,
   "metadata": {},
   "outputs": [
    {
     "name": "stdout",
     "output_type": "stream",
     "text": [
      "2\n",
      "2\n",
      "0315-2968211\n",
      "0315-2968211\n",
      "2\n",
      "0315-2968211\n"
     ]
    }
   ],
   "source": [
    "# class varibale hass been accessed by object   \n",
    "# object_name.class_variable\n",
    "print(obj1.counter)\n",
    "print(obj2.counter)\n",
    "print(obj1.help_line_number)\n",
    "print(obj2.help_line_number)\n",
    "\n",
    "# ClassName.class_variable accessed by class\n",
    "print(Teacher.counter)\n",
    "print(Teacher.help_line_number)"
   ]
  },
  {
   "cell_type": "code",
   "execution_count": 33,
   "metadata": {},
   "outputs": [
    {
     "name": "stdout",
     "output_type": "stream",
     "text": [
      "\n",
      "Teacher name is Sir Zia Khan\n",
      "our help line number is 0315-2968211\n",
      "\n",
      "\n"
     ]
    }
   ],
   "source": [
    "obj1.details()"
   ]
  },
  {
   "cell_type": "markdown",
   "metadata": {},
   "source": [
    "## OOP has flour pillers which are as under\n",
    "## 1. Encapsulation\n",
    "Encapsulation: The bundling of data with the methods that operate on that data. It restricts direct access to some of an object's components and can prevent the accidental modification of data.\n",
    "\n",
    "## 2. Abstraction\n",
    "Abstraction: The concept of hiding the complex reality while exposing only the necessary parts. It helps to reduce programming complexity and effort.\n",
    "\n",
    "## 3. Inheritance\n",
    "Inheritance: A mechanism wherein a new class inherits properties and behavior (methods) from another class. This helps to create a new class based on an existing class.\n",
    "\n",
    "## 4. Polymorphism\n",
    "Polymorphism: The ability of different classes to respond to the same message (method call) in different ways. This allows for code to work with objects of various classes as if they were objects of a common superclass."
   ]
  },
  {
   "cell_type": "markdown",
   "metadata": {},
   "source": [
    "### 1. Inheritance\n",
    "* class ChilClass(ParentClass):\n",
    "    pass\n",
    "    "
   ]
  },
  {
   "cell_type": "code",
   "execution_count": 34,
   "metadata": {},
   "outputs": [
    {
     "name": "stdout",
     "output_type": "stream",
     "text": [
      "Brown\n",
      "black\n",
      "Parent method speak: Pakistan zinda bad!\n",
      "You are looking TV!\n",
      "======Child object=======\n",
      "You are looking Cenima!\n",
      "None\n",
      "Parent method speak: Hello World\n",
      "None\n",
      "Brown\n",
      "black\n"
     ]
    }
   ],
   "source": [
    "class Parents():\n",
    "    def __init__(self)->None:\n",
    "        self.eye_color : str = \"Brown\"\n",
    "        self.hair_color : str = \"black\"\n",
    "\n",
    "    def speak(self, words: str)->None:\n",
    "        print(f\"Parent method speak: {words}\")\n",
    "\n",
    "    def watching(sef, object_name : str)->None:\n",
    "        print(f\"You are looking {object_name}!\")\n",
    "\n",
    "\n",
    "class Child(Parents):\n",
    "    pass \n",
    "\n",
    "\n",
    "\n",
    "obj1 : Parents = Parents()\n",
    "print(obj1.eye_color)\n",
    "print(obj1.hair_color)\n",
    "obj1.speak(\"Pakistan zinda bad!\")\n",
    "obj1.watching(\"TV\")\n",
    "\n",
    "print(\"======Child object=======\")\n",
    "### Child object \n",
    "\n",
    "obj2 : Child = Child()  # Child object is created from Parent class and it own all the attributes of parent class\n",
    "print(obj2.watching(\"Cenima\"))\n",
    "print(obj2.speak(\"Hello World\"))\n",
    "print(obj2.eye_color)\n",
    "print(obj2.hair_color)"
   ]
  },
  {
   "cell_type": "code",
   "execution_count": null,
   "metadata": {},
   "outputs": [],
   "source": [
    "class Parents():\n",
    "    def __init__(self)->None:\n",
    "        self.eye_color : str = \"Brown\"\n",
    "        self.hair_color : str = \"black\"\n",
    "\n",
    "    def speak(self, words: str)->None:\n",
    "        print(f\"Parent method speak: {words}\")\n",
    "\n",
    "    def watching(sef, object_name : str)->None:\n",
    "        print(f\"You are looking {object_name}!\")\n",
    "\n",
    "\n",
    "class Child(Parents):   # make constructor in child class\n",
    "    def teaching(self, subject : str = None)->None:\n",
    "        print(f'Child method for teaching : {subject}')\n",
    "     \n",
    "\n",
    "\n",
    "obj1 : Parents = Parents()\n",
    "print(obj1.eye_color)\n",
    "print(obj1.hair_color)\n",
    "obj1.speak(\"Pakistan zinda bad!\")\n",
    "obj1.watching(\"TV\")\n",
    "\n",
    "\n",
    "print(\"======Child object=======\")\n",
    "### Child object \n",
    "\n",
    "obj2 : Child = Child()  # child class attribute can only be accessed by child\n",
    "obj2.watching(\"Cenima\")\n",
    "obj2.speak(\"Hello World\")\n",
    "print(obj2.eye_color)\n",
    "print(obj2.hair_color)\n",
    "obj2.teaching(\"Generative AI\")"
   ]
  },
  {
   "cell_type": "code",
   "execution_count": 35,
   "metadata": {},
   "outputs": [
    {
     "name": "stdout",
     "output_type": "stream",
     "text": [
      "Animation Artist\n",
      "['python']\n"
     ]
    }
   ],
   "source": [
    "from typing import List\n",
    "\n",
    "class Employee:\n",
    "    def __init__(self, name: str) -> None:\n",
    "        self.name: str = name\n",
    "        self.education: str = \"\"\n",
    "        self.department: str = \"\"\n",
    "#       child    parent\n",
    "class Designer(Employee):\n",
    "    def __init__(self, title: str, name: str) -> None:\n",
    "        super().__init__(name) # calling parent class constructor short cut is def __init it means it fetching all the properties of parent classthen add title\n",
    "        self.title: str = title\n",
    "#      child     parent\n",
    "class Developer(Employee):\n",
    "#                      title : is Animation Artist and name will be asif khan\n",
    "    def __init__(self, title: str, name: str) -> None:\n",
    "        super().__init__(name)\n",
    "        self.title: str = title\n",
    "        self.programming_skills: List[str] = [\"python\"] # default me hame python chyaa  \n",
    "# object \n",
    "designer1: Designer = Designer(\"Animation Artist\", \"Asif Khan\")\n",
    "dev1: Developer = Developer(\"GenAI Engineer\", \"John Doe\")\n",
    "\n",
    "print(designer1.title)  # Output: Animation Artist\n",
    "print(dev1.programming_skills)  # Output: ['python']"
   ]
  }
 ],
 "metadata": {
  "kernelspec": {
   "display_name": "python12",
   "language": "python",
   "name": "python3"
  },
  "language_info": {
   "codemirror_mode": {
    "name": "ipython",
    "version": 3
   },
   "file_extension": ".py",
   "mimetype": "text/x-python",
   "name": "python",
   "nbconvert_exporter": "python",
   "pygments_lexer": "ipython3",
   "version": "3.12.4"
  }
 },
 "nbformat": 4,
 "nbformat_minor": 2
}
