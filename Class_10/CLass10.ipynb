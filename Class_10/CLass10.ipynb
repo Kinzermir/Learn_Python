{
 "cells": [
  {
   "cell_type": "markdown",
   "id": "9f26b7ea",
   "metadata": {},
   "source": [
    "# Function \n",
    "* pre-define function \n",
    "    * provided by in language\n",
    "* user define function\n",
    "    * custom function \n",
    "## Similar properties on both typed\n",
    "* Return and Non-Return fucntion \n",
    "    * Return \n",
    "        * we can assign this function output in any variable\n",
    "    * Non-Return\n",
    "        * only run can't assign value to variable\n",
    "\n",
    "## Custom function \n",
    "* function declaration \n",
    "    * function name (must be unique)\n",
    "    * paramters : type\n",
    "    * return output type \n",
    "* function body \n",
    "    * any business logic\n",
    "* function calling \n",
    "    * function(arg1,arg2)\n",
    "\n",
    "### Syntax function \n",
    "```\n",
    "def function_name(parameter1: type, parameter2:type2)->Return_type :  #this line caled declaration\n",
    "    function body  # body\n",
    "\n",
    "function_name()   # body\n",
    "```\n",
    "```\n",
    "In function syntax return type is optional and in last we passed arguement to call the function.\n",
    "```\n",
    "### Syntax lambda function \n",
    "* one line function \n",
    "* without name\n",
    "* only use in one time \n",
    "```\n",
    "lambda parameter1, paramter2 : function body  \n",
    "```"
   ]
  },
  {
   "cell_type": "markdown",
   "id": "9ded3d90",
   "metadata": {},
   "source": [
    "# Pre-define function \n",
    "* print\n",
    "* len\n",
    "* id\n",
    "* dir \n",
    "* chr\n",
    "* ord\n",
    "* exec"
   ]
  },
  {
   "cell_type": "markdown",
   "id": "af24d562",
   "metadata": {},
   "source": [
    "## Return and Non-Return functions"
   ]
  },
  {
   "cell_type": "code",
   "execution_count": 1,
   "id": "998cdaad",
   "metadata": {},
   "outputs": [
    {
     "name": "stdout",
     "output_type": "stream",
     "text": [
      "Pakistan\n",
      "None\n"
     ]
    }
   ],
   "source": [
    "# If  print store in a then it will be a return fucntion \n",
    "# If vale don't store in a the it will be a non-return fucntion\n",
    "a : str = print('Pakistan') # Non-return function\n",
    "print(a) # None\n",
    "\n",
    "# print is non-return funcion cus it's value didn't store in a variable"
   ]
  },
  {
   "cell_type": "code",
   "execution_count": 2,
   "id": "c4e88621",
   "metadata": {},
   "outputs": [
    {
     "data": {
      "text/plain": [
       "8"
      ]
     },
     "metadata": {},
     "output_type": "display_data"
    }
   ],
   "source": [
    "# Pre-define function \n",
    "# Return function \n",
    "\n",
    "a : int = len(\"pakistan\")  # len:- count how many digits in pakistan \n",
    "display(a)  # it's a return function cuz ans is store in a a vairiable."
   ]
  },
  {
   "cell_type": "markdown",
   "id": "464c2b8f",
   "metadata": {},
   "source": [
    "### Create simple function without any argument called default function "
   ]
  },
  {
   "cell_type": "code",
   "execution_count": 4,
   "id": "433a1f2c",
   "metadata": {},
   "outputs": [
    {
     "name": "stdout",
     "output_type": "stream",
     "text": [
      "piaic generative AI\n",
      "Python crash course\n"
     ]
    }
   ],
   "source": [
    "def piaic():  # declaration also called function signature.\n",
    "    # body | business logic\n",
    "    print(\"piaic generative AI\")\n",
    "    print(\"Python crash course\")\n",
    "    # function body ends\n",
    "\n",
    "# function call\n",
    "piaic()"
   ]
  },
  {
   "cell_type": "code",
   "execution_count": 5,
   "id": "7a9de242",
   "metadata": {},
   "outputs": [
    {
     "name": "stdout",
     "output_type": "stream",
     "text": [
      "piaic generative AI\n",
      "Python crash course\n"
     ]
    }
   ],
   "source": [
    "# call\n",
    "\n",
    "piaic()"
   ]
  },
  {
   "cell_type": "code",
   "execution_count": 35,
   "id": "21920665",
   "metadata": {},
   "outputs": [
    {
     "name": "stdout",
     "output_type": "stream",
     "text": [
      "num 1 value 3 and num 2 value 2\n"
     ]
    },
    {
     "data": {
      "text/plain": [
       "5"
      ]
     },
     "execution_count": 35,
     "metadata": {},
     "output_type": "execute_result"
    }
   ],
   "source": [
    "def add_two_numbers  (num1 : int, num2 : int) -> int:\n",
    "    print(f\"num 1 value {num1} and num 2 value {num2}\")\n",
    "    return num1 + num2 \n",
    "add_two_numbers(num2 = 2, num1= 3) # called keyword arguments | positional arguments\n",
    "\n"
   ]
  },
  {
   "cell_type": "markdown",
   "id": "076a4289",
   "metadata": {},
   "source": [
    "## function with optional paramters"
   ]
  },
  {
   "cell_type": "code",
   "execution_count": 10,
   "id": "655685da",
   "metadata": {},
   "outputs": [
    {
     "data": {
      "text/plain": [
       "4"
      ]
     },
     "execution_count": 10,
     "metadata": {},
     "output_type": "execute_result"
    }
   ],
   "source": [
    "def mult_two_numbers (num1 : int, num2 : int = 2) -> int :\n",
    "    return num1 * num2  \n",
    "\n",
    "mult_two_numbers(2) # optional paramter\n",
    "# mult_two_numbers(2, 3) # over-right by 3\n"
   ]
  },
  {
   "cell_type": "code",
   "execution_count": 12,
   "id": "248fd956",
   "metadata": {},
   "outputs": [
    {
     "data": {
      "text/plain": [
       "6"
      ]
     },
     "execution_count": 12,
     "metadata": {},
     "output_type": "execute_result"
    }
   ],
   "source": [
    "a = lambda num1, num2 : num1 + num2 # asign lambda function to a variable\n",
    "a(2,4)"
   ]
  },
  {
   "cell_type": "code",
   "execution_count": 13,
   "id": "7684ac49",
   "metadata": {},
   "outputs": [
    {
     "name": "stdout",
     "output_type": "stream",
     "text": [
      "[2, 4, 6, 8, 10, 12, 14, 16, 18, 20]\n"
     ]
    }
   ],
   "source": [
    "# lambda function use case\n",
    "data : list[int] = [1, 2, 3, 4, 5, 6, 7, 8, 9, 10]\n",
    "data = list(map(lambda x: x * 2, data)) # x ke value ko nikal phr x ke value ko * 2 krdo    \n",
    "print(data)"
   ]
  },
  {
   "cell_type": "code",
   "execution_count": 14,
   "id": "0e1b67eb",
   "metadata": {},
   "outputs": [
    {
     "name": "stdout",
     "output_type": "stream",
     "text": [
      "[2, 4, 6, 8, 10]\n"
     ]
    }
   ],
   "source": [
    "data : list[int] = [1, 2, 3, 4, 5, 6, 7, 8, 9, 10]\n",
    "data = list(filter(lambda x: x % 2 == 0, data)) # jin jin value pr true generate hoga unko utha le ga oor show krdega\n",
    "print(data)"
   ]
  },
  {
   "cell_type": "markdown",
   "id": "3da23119",
   "metadata": {},
   "source": [
    "## Generative function \n",
    "* iteration on element one by one \n",
    "* stope after each iteration \n",
    "* remenber old iteration value (last iteration value )\n",
    "* next iterate\n",
    "    * go forward from last iterate value "
   ]
  },
  {
   "cell_type": "code",
   "execution_count": 27,
   "id": "ff9dc687",
   "metadata": {},
   "outputs": [
    {
     "name": "stdout",
     "output_type": "stream",
     "text": [
      "<generator object my_range at 0x0000025CB14B5A80>\n",
      "1\n",
      "2\n",
      "3\n",
      "pakistan\n",
      "4\n"
     ]
    }
   ],
   "source": [
    "def my_range(star: int, end: int, step: int = 1) :\n",
    "    for i in range(star, end+1, step):\n",
    "        yield i\n",
    "# generative function direct nahe chalta so isko chlane ka tareqa ye hota hai ke iske oper list laga do\n",
    "# ya phr next ka function apply krdain \n",
    "a = my_range(1, 10)\n",
    "print(a) \n",
    "# print(list(a))\n",
    "\n",
    "print(next(a))\n",
    "print(next(a))\n",
    "print(next(a))\n",
    "print(\"pakistan\")\n",
    "print(next(a))"
   ]
  },
  {
   "cell_type": "code",
   "execution_count": 28,
   "id": "4f1f240b",
   "metadata": {},
   "outputs": [
    {
     "name": "stdout",
     "output_type": "stream",
     "text": [
      "1\n",
      "2\n",
      "<class 'generator'>\n"
     ]
    }
   ],
   "source": [
    "# we used generative function to handle big data in pieces\n",
    "from collections.abc import Iterator # Iterator is a sub class of generator\n",
    "\n",
    "def my_range(start: int, end: int, step: int=1) -> Iterator[int]:  #  three arguments: start, end, and an optional step (defaulting to 1).\n",
    "    for i in range(start, end, step):  # The for loop iterates over the range from start to end, incrementing by step.\n",
    "        yield i # Generator function yield jaha bh ajae it means it's a generator function\n",
    "\n",
    "iterator_vaibale : Iterator[int] = my_range(1, 10) # iterattor_variable is annotated with Iterator[int] type \n",
    "print(next(iterator_vaibale))\n",
    "print(next(iterator_vaibale))\n",
    "print(type(iterator_vaibale))"
   ]
  },
  {
   "cell_type": "markdown",
   "id": "e1cfd395",
   "metadata": {},
   "source": [
    "### passing unlimited arguments"
   ]
  },
  {
   "cell_type": "code",
   "execution_count": 29,
   "id": "a5848d18",
   "metadata": {},
   "outputs": [
    {
     "name": "stdout",
     "output_type": "stream",
     "text": [
      "(1, 2, 3, 4, 5, 6, 7, 8, 9, 10) <class 'tuple'>\n"
     ]
    }
   ],
   "source": [
    "def abc(*nums): # if you want unlimited arguments then used signle staric like *nums\n",
    "    print(nums, type(nums))\n",
    "abc(1,2,3,4,5,6,7,8,9,10)"
   ]
  },
  {
   "cell_type": "code",
   "execution_count": 30,
   "id": "ee0526c3",
   "metadata": {},
   "outputs": [
    {
     "name": "stdout",
     "output_type": "stream",
     "text": [
      "(1, 2, 3, 4, 5, 6, 7, 8, 9, 10) <class 'tuple'>\n"
     ]
    },
    {
     "data": {
      "text/plain": [
       "55"
      ]
     },
     "execution_count": 30,
     "metadata": {},
     "output_type": "execute_result"
    }
   ],
   "source": [
    "def abc(*nums): \n",
    "    print(nums, type(nums))\n",
    "    total = 0 \n",
    "    for n in nums :\n",
    "        total += n\n",
    "    return total \n",
    "abc(1,2,3,4,5,6,7,8,9,10)"
   ]
  },
  {
   "cell_type": "code",
   "execution_count": 36,
   "id": "6d0aa652",
   "metadata": {},
   "outputs": [
    {
     "name": "stdout",
     "output_type": "stream",
     "text": [
      "{'a': 1, 'b': 2, 'c': 3, 'name': 'Qasim'} <class 'dict'>\n"
     ]
    }
   ],
   "source": [
    "def xyz(**my): # for unlimited keyword argumetns we used double staric with paramter **my\n",
    "    print(my, type(my))\n",
    "\n",
    "xyz(a=1, b=2, c=3, name = \"Qasim\")"
   ]
  },
  {
   "cell_type": "code",
   "execution_count": 37,
   "id": "8c241397",
   "metadata": {},
   "outputs": [
    {
     "name": "stdout",
     "output_type": "stream",
     "text": [
      "1 2 (3, 4, 5) {'x': 6, 'y': 7}\n"
     ]
    }
   ],
   "source": [
    "def mu_function(a, b, *abc, **xyz):\n",
    "    print(a, b, abc, xyz)\n",
    "\n",
    "#           a  b it is positional argument \n",
    "mu_function(1, 2, 3, 4, 5, x=6, y=7)"
   ]
  },
  {
   "cell_type": "code",
   "execution_count": 38,
   "id": "d196fe2f",
   "metadata": {},
   "outputs": [
    {
     "name": "stdout",
     "output_type": "stream",
     "text": [
      "Hello John\n",
      "Hello Mary\n",
      "Hello Peter\n",
      "Hello Sarah\n"
     ]
    }
   ],
   "source": [
    "from typing import Tuple\n",
    "def greet(*names: Tuple[str, ...]):  # tuple will be the type $ in tuple we have str, ... dots mean unlimited string\n",
    "    for name in names :\n",
    "        print(f\"Hello {name}\")\n",
    "greet(\"John\", \"Mary\", \"Peter\", \"Sarah\")"
   ]
  },
  {
   "cell_type": "code",
   "execution_count": 41,
   "id": "56733eb2",
   "metadata": {},
   "outputs": [
    {
     "name": "stdout",
     "output_type": "stream",
     "text": [
      "{'a': 'John', 'b': 'Mary', 'c': 'Peter', 'd': 'Sarah'}\n"
     ]
    }
   ],
   "source": [
    "from typing import Dict\n",
    "def greet(**myname: Dict[str, str]):  \n",
    "    print(myname)\n",
    "\n",
    "#    key value key value and so on \n",
    "greet(a=\"John\", b=\"Mary\", c=\"Peter\", d=\"Sarah\")"
   ]
  },
  {
   "cell_type": "code",
   "execution_count": 42,
   "id": "0d59be00",
   "metadata": {},
   "outputs": [
    {
     "name": "stdout",
     "output_type": "stream",
     "text": [
      "1 2 (3, 4, 5, 6) {'x': 7, 'y': 8, 'z': 9}\n"
     ]
    }
   ],
   "source": [
    "def my_function(a: int, b: int, *abc: int, **xyz: int):\n",
    "    print(a,b,abc,xyz)\n",
    "\n",
    "my_function(1, 2, 3, 4, 5, 6, x=7, y=8, z=9)"
   ]
  },
  {
   "cell_type": "code",
   "execution_count": 43,
   "id": "077034e5",
   "metadata": {},
   "outputs": [
    {
     "name": "stdout",
     "output_type": "stream",
     "text": [
      "Something is happening before the function is called.\n",
      "Hello! 3\n",
      "Something is happening after the function is called.\n"
     ]
    }
   ],
   "source": [
    "# decorative function \n",
    "from typing import Callable\n",
    "\n",
    "def my_decorator(func: Callable[[int], None]) -> Callable[[int], None]:\n",
    "    def wrapper(num1: int ) -> None :\n",
    "        print(\"Something is happening before the function is called.\")\n",
    "        func(num1)\n",
    "        print(\"Something is happening after the function is called.\")\n",
    "        \n",
    "    return wrapper\n",
    "\n",
    "@my_decorator\n",
    "def say_hello(num1: int) -> None:\n",
    "    print(f\"Hello! {num1}\")\n",
    "say_hello(3) \n"
   ]
  },
  {
   "cell_type": "code",
   "execution_count": 44,
   "id": "e3432649",
   "metadata": {},
   "outputs": [
    {
     "name": "stdout",
     "output_type": "stream",
     "text": [
      "The factorial of 5 is 120\n"
     ]
    }
   ],
   "source": [
    "# body ke ander he function khud ko call krta hai tu aise function ko recursive function kehte hai  \n",
    "def factorial(x: int):\n",
    "    if x == 1:\n",
    "        return 1\n",
    "    else:\n",
    "        return x * factorial(x - 1)\n",
    "    # current  5             5-1 = 4 then 4-1 = 3 at 1 it will stop \n",
    "\n",
    "num = 5 \n",
    "print(\"The factorial of\", num, \"is\", factorial(num))"
   ]
  }
 ],
 "metadata": {
  "kernelspec": {
   "display_name": "Python 3 (ipykernel)",
   "language": "python",
   "name": "python3"
  },
  "language_info": {
   "codemirror_mode": {
    "name": "ipython",
    "version": 3
   },
   "file_extension": ".py",
   "mimetype": "text/x-python",
   "name": "python",
   "nbconvert_exporter": "python",
   "pygments_lexer": "ipython3",
   "version": "3.12.4"
  }
 },
 "nbformat": 4,
 "nbformat_minor": 5
}
