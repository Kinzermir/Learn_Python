{
 "cells": [
  {
   "cell_type": "markdown",
   "id": "054acf5d-680d-4127-9406-bc73cf918135",
   "metadata": {},
   "source": [
    "# Dictionary\n",
    "* key value (items)\n",
    "    * key is the replacement of indexes\n",
    "    * value items\n",
    "\n",
    "## how to extract value\n",
    "* dic_variable[key]\n",
    "\n",
    "## assigning a value to a variable\n",
    "* new_variable[key] = new_value\n",
    "* add new value\n",
    "* update value"
   ]
  },
  {
   "cell_type": "code",
   "execution_count": 4,
   "id": "73e23b41-ee12-426f-957a-d503946b16d0",
   "metadata": {},
   "outputs": [
    {
     "data": {
      "text/plain": [
       "{'negate': 'ineffectiveness', 'helted': 'dropped', 'priviliged': 'facilitaed'}"
      ]
     },
     "metadata": {},
     "output_type": "display_data"
    }
   ],
   "source": [
    "from typing import Dict\n",
    "\n",
    "#          key, data-type  key      type            key      type     key          type   \n",
    "data : Dict[str, str] = {'negate' : 'ineffectiveness', 'helted' : 'dropped', 'priviliged' : 'facilitaed'}\n",
    "\n",
    "# display option is only used in jupyter notebook\n",
    "display(data)\n",
    "\n",
    "# above key type is str and value type is str \n",
    "# dict start with {}"
   ]
  },
  {
   "cell_type": "code",
   "execution_count": 6,
   "id": "c0990bb8-d6c8-4513-b7cf-244319863a81",
   "metadata": {},
   "outputs": [
    {
     "name": "stdout",
     "output_type": "stream",
     "text": [
      "{'negate': 'ineffectiveness', 'helted': 'dropped', 'priviliged': 'facilitaed'}\n"
     ]
    }
   ],
   "source": [
    "from typing import Dict\n",
    "import pprint   # it will style your code with spacing\n",
    "data : Dict[str, str] = {'negate' : 'ineffectiveness', 'helted' : 'dropped', 'priviliged' : 'facilitaed'}\n",
    "\n",
    "pprint.pp(data)   # print in json format "
   ]
  },
  {
   "cell_type": "code",
   "execution_count": 29,
   "id": "3d25d210-eff8-4712-bf8c-5b4473565f77",
   "metadata": {},
   "outputs": [
    {
     "name": "stdout",
     "output_type": "stream",
     "text": [
      "{1: 'ineffectiveness',\n",
      " 'code': {'a': 1, 'b': 2, 'c': 3},\n",
      " 'helted': 'dropped',\n",
      " 'priviliged': 'facilitated',\n",
      " (1, 2, 3): 'Pakistan'}\n",
      "'dropped'\n",
      "ineffectiveness\n"
     ]
    },
    {
     "data": {
      "text/plain": [
       "3"
      ]
     },
     "execution_count": 29,
     "metadata": {},
     "output_type": "execute_result"
    }
   ],
   "source": [
    "from typing import Dict, Union\n",
    "import pprint  # it will style your code with spacing\n",
    "\n",
    "Key = Union[int, str]  # create custom type also called alias\n",
    "Value = Union[str, int, dict, tuple, set]\n",
    "\n",
    "data: Dict[Key, Value] = {\n",
    "    1: 'ineffectiveness',  # int key, str value\n",
    "    'helted': 'dropped',  # str key, str value\n",
    "    'priviliged': 'facilitated',  # str key, str value\n",
    "    (1, 2, 3): 'Pakistan',  # tuple key, str value\n",
    "    'code' : {'a': 1, 'b': 2, 'c': 3}\n",
    "    # [1, 2, 3]: 'Pakistan',  # unhashable type: 'list'\n",
    "    # {1, 2, 3}: 'Pakistan',  # unhashable type: 'set'\n",
    "}\n",
    "\n",
    "pprint.pprint(data)\n",
    "# Output: {1: 'ineffectiveness',\n",
    "#          'helted': 'dropped',\n",
    "#          'priviliged': 'facilitated',\n",
    "#          (1, 2, 3): 'Pakistan'}\n",
    "\n",
    "pprint.pprint(data[\"helted\"])\n",
    "# Output: 'dropped'\n",
    "\n",
    "print(data[1])  # [1] isn't an index, it's a key\n",
    "# Output: 'ineffectiveness'\n",
    "\n",
    "data['code']['c']"
   ]
  },
  {
   "cell_type": "markdown",
   "id": "7d007d06-d520-4e29-be9f-76fbb3dc45ea",
   "metadata": {},
   "source": [
    "## updata data through dictionary"
   ]
  },
  {
   "cell_type": "code",
   "execution_count": 47,
   "id": "f50f2bb6-ed56-4020-b10c-888c1e07e5ab",
   "metadata": {},
   "outputs": [
    {
     "name": "stdout",
     "output_type": "stream",
     "text": [
      "{'hello': 'world'}\n",
      "{'hello': 'M.Qasim'}\n"
     ]
    }
   ],
   "source": [
    "from typing import Dict, Union\n",
    "import pprint  \n",
    "\n",
    "Key = Union[int, str]  \n",
    "Value = Union[str, int, dict, tuple, set]\n",
    "\n",
    "data : Dict[Key, Value] = {} # empty array\n",
    "data['hello'] = \"world\"   # add new value and key. assign value through sign operator\n",
    "print(data)\n",
    "\n",
    "data['hello'] = 'M.Qasim'   # update value through key.\n",
    "print(data)  \n"
   ]
  },
  {
   "cell_type": "markdown",
   "id": "77ff468a-35dc-4436-bbf6-0ca400ef2317",
   "metadata": {},
   "source": [
    "## Dict Attributes."
   ]
  },
  {
   "cell_type": "code",
   "execution_count": 43,
   "id": "dbe8bb02-0851-4f5d-a43b-234bf7294664",
   "metadata": {},
   "outputs": [
    {
     "data": {
      "text/plain": [
       "['clear',\n",
       " 'copy',\n",
       " 'fromkeys',\n",
       " 'get',\n",
       " 'items',\n",
       " 'keys',\n",
       " 'pop',\n",
       " 'popitem',\n",
       " 'setdefault',\n",
       " 'update',\n",
       " 'values']"
      ]
     },
     "execution_count": 43,
     "metadata": {},
     "output_type": "execute_result"
    }
   ],
   "source": [
    "[i for i in dir(data) if \"_\" not in i] "
   ]
  },
  {
   "cell_type": "code",
   "execution_count": 68,
   "id": "a6067814-0ba7-4336-934a-b394674a78a1",
   "metadata": {},
   "outputs": [
    {
     "name": "stdout",
     "output_type": "stream",
     "text": [
      "{1: 'ineffectiveness',\n",
      " 'code': {'a': 1, 'b': 2, 'c': 3},\n",
      " 'helted': 'dropped',\n",
      " 'priviliged': 'facilitated',\n",
      " (1, 2, 3): 'Pakistan'}\n",
      "Not available\n",
      "dropped\n",
      "dict_keys([1, 'helted', 'priviliged', (1, 2, 3), 'code'])\n",
      "dict_values(['ineffectiveness', 'dropped', 'facilitated', 'Pakistan', {'a': 1, 'b': 2, 'c': 3}])\n",
      "dict_items([(1, 'ineffectiveness'), ('helted', 'dropped'), ('priviliged', 'facilitated'), ((1, 2, 3), 'Pakistan'), ('code', {'a': 1, 'b': 2, 'c': 3})])\n"
     ]
    }
   ],
   "source": [
    "\n",
    "Key = Union[int, str]  \n",
    "Value = Union[str, int, dict, tuple, set]\n",
    "\n",
    "data: Dict[Key, Value] = {\n",
    "    1: 'ineffectiveness',\n",
    "    'helted': 'dropped',  \n",
    "    'priviliged': 'facilitated',  \n",
    "    (1, 2, 3): 'Pakistan',  \n",
    "    'code' : {'a': 1, 'b': 2, 'c': 3}\n",
    "    \n",
    "}\n",
    "\n",
    "pprint.pprint(data)\n",
    "\n",
    "print(data.get('pakistan', 'Not available'))  # get method:- we used to not to give error at run-time, if key isn't available\n",
    "print(data.get('helted', 'Not Available'))   # if key is available it will show the value of the key\n",
    "\n",
    "# just wanna print keys\n",
    "print(data.keys())\n",
    "# print values\n",
    "print(data.values())\n",
    "# print list of tuples \n",
    "print(data.items())"
   ]
  },
  {
   "cell_type": "code",
   "execution_count": 90,
   "id": "6f7f7efd-72f3-4654-836f-f914a1334ba9",
   "metadata": {},
   "outputs": [
    {
     "name": "stdout",
     "output_type": "stream",
     "text": [
      "1 ineffectiveness\n",
      "helted dropped\n",
      "priviliged facilitated\n",
      "(1, 2, 3) Pakistan\n",
      "code {'a': 1, 'b': 2, 'c': 3}\n",
      "ineffectiveness\n",
      "dropped\n",
      "facilitated\n",
      "Pakistan\n",
      "{'a': 1, 'b': 2, 'c': 3}\n"
     ]
    }
   ],
   "source": [
    "Key = Union[int, str]  \n",
    "Value = Union[str, int, dict, tuple, set]\n",
    "\n",
    "data: Dict[Key, Value] = {\n",
    "    1: 'ineffectiveness',\n",
    "    'helted': 'dropped',  \n",
    "    'priviliged': 'facilitated',  \n",
    "    (1, 2, 3): 'Pakistan',  \n",
    "    'code' : {'a': 1, 'b': 2, 'c': 3}\n",
    "    \n",
    "}\n",
    "\n",
    "#\n",
    "for k in data.keys() :\n",
    "    print(k, data[k]) # it will print keys and value, bec we wrote k, data[k] k will print only the keys and the data[k] will print key plus value\n",
    "\n",
    "for v in data.values() :  # it will print only the values.\n",
    "    print(v)"
   ]
  },
  {
   "cell_type": "code",
   "execution_count": 98,
   "id": "66712537-766d-4759-a646-c4c1807bd60d",
   "metadata": {},
   "outputs": [
    {
     "name": "stdout",
     "output_type": "stream",
     "text": [
      "1 ineffectiveness\n",
      "helted dropped\n",
      "priviliged facilitated\n",
      "(1, 2, 3) Pakistan\n",
      "code {'a': 1, 'b': 2, 'c': 3}\n"
     ]
    }
   ],
   "source": [
    "Key = Union[int, str]  \n",
    "Value = Union[str, int, dict, tuple, set]\n",
    "\n",
    "data: Dict[Key, Value] = {\n",
    "    1: 'ineffectiveness',\n",
    "    'helted': 'dropped',  \n",
    "    'priviliged': 'facilitated',  \n",
    "    (1, 2, 3): 'Pakistan',  \n",
    "    'code' : {'a': 1, 'b': 2, 'c': 3}\n",
    "}\n",
    "\n",
    "for k,v in data.items() :   # unzipping :- key will stored in k and values will stored in v\n",
    "    print(k,v)"
   ]
  },
  {
   "cell_type": "code",
   "execution_count": 136,
   "id": "b87b0c48-7e26-402b-82ec-fd4296d70b2e",
   "metadata": {},
   "outputs": [
    {
     "data": {
      "text/plain": [
       "{1: 'ineffectiveness',\n",
       " 'helted': 'dropped',\n",
       " 'priviliged': 'facilitated',\n",
       " (1, 2, 3): 'Pakistan',\n",
       " 'code': {'a': 1, 'b': 2, 'c': 3}}"
      ]
     },
     "execution_count": 136,
     "metadata": {},
     "output_type": "execute_result"
    }
   ],
   "source": [
    "from typing import Dict, Union\n",
    "Key = Union[int, str]  \n",
    "Value = Union[str, int, tuple,]\n",
    "\n",
    "data: Dict[Key, Value] = {\n",
    "    1: 'ineffectiveness',\n",
    "    'helted': 'dropped',  \n",
    "    'priviliged': 'facilitated',  \n",
    "    (1, 2, 3): 'Pakistan',  \n",
    "    'code' : {'a': 1, 'b': 2, 'c': 3}\n",
    "}\n",
    "\n",
    "# list comprehensive\n",
    "\n",
    "{k : v for k,v in data.items()}  \n",
    "\n",
    "# if you want to shuffle it   shuffling in python is very easy \n",
    "#{v:k for k,v in data.items()}  \n",
    "\n"
   ]
  },
  {
   "cell_type": "code",
   "execution_count": 154,
   "id": "5d282930-ce7b-4af3-9b64-5efa11db22b6",
   "metadata": {},
   "outputs": [
    {
     "name": "stdout",
     "output_type": "stream",
     "text": [
      "{}\n",
      "{'id': None, 'name ': None, 'course': None}\n"
     ]
    }
   ],
   "source": [
    "keys : list[str] = ['id', 'name ', 'course']\n",
    "data : dict[Key, Value] = {}\n",
    "print(data)\n",
    "data.fromkeys(keys) # inline changes show nahe krga updata nahe hoga\n",
    "data\n",
    "\n",
    "# for update overwrite it \n",
    "data = data.fromkeys(keys)  # when we over-write i\n",
    "print(data)\n"
   ]
  }
 ],
 "metadata": {
  "kernelspec": {
   "display_name": "Python 3 (ipykernel)",
   "language": "python",
   "name": "python3"
  },
  "language_info": {
   "codemirror_mode": {
    "name": "ipython",
    "version": 3
   },
   "file_extension": ".py",
   "mimetype": "text/x-python",
   "name": "python",
   "nbconvert_exporter": "python",
   "pygments_lexer": "ipython3",
   "version": "3.11.7"
  }
 },
 "nbformat": 4,
 "nbformat_minor": 5
}
