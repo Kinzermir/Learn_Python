{
 "cells": [
  {
   "cell_type": "markdown",
   "id": "054acf5d-680d-4127-9406-bc73cf918135",
   "metadata": {},
   "source": [
    "# Dictionary\n",
    "* key value (items)\n",
    "    * key is the replacement of indexes\n",
    "    * value items\n",
    "\n",
    "## how to extract value\n",
    "* dic_variable[key]\n",
    "\n",
    "## assigning a value to a variable\n",
    "* new_variable[key] = new_value\n",
    "* add new value\n",
    "* update value"
   ]
  },
  {
   "cell_type": "code",
   "execution_count": 4,
   "id": "73e23b41-ee12-426f-957a-d503946b16d0",
   "metadata": {},
   "outputs": [
    {
     "data": {
      "text/plain": [
       "{'negate': 'ineffectiveness', 'helted': 'dropped', 'priviliged': 'facilitaed'}"
      ]
     },
     "metadata": {},
     "output_type": "display_data"
    }
   ],
   "source": [
    "from typing import Dict\n",
    "\n",
    "#          key, data-type  key      type            key      type     key          type   \n",
    "data : Dict[str, str] = {'negate' : 'ineffectiveness', 'helted' : 'dropped', 'priviliged' : 'facilitaed'}\n",
    "\n",
    "# display option is only used in jupyter notebook\n",
    "display(data)\n",
    "\n",
    "# above key type is str and value type is str \n",
    "# dict start with {}"
   ]
  },
  {
   "cell_type": "code",
   "execution_count": 6,
   "id": "c0990bb8-d6c8-4513-b7cf-244319863a81",
   "metadata": {},
   "outputs": [
    {
     "name": "stdout",
     "output_type": "stream",
     "text": [
      "{'negate': 'ineffectiveness', 'helted': 'dropped', 'priviliged': 'facilitaed'}\n"
     ]
    }
   ],
   "source": [
    "from typing import Dict\n",
    "import pprint   # it will style your code with spacing\n",
    "data : Dict[str, str] = {'negate' : 'ineffectiveness', 'helted' : 'dropped', 'priviliged' : 'facilitaed'}\n",
    "\n",
    "pprint.pp(data)   # print in json format "
   ]
  },
  {
   "cell_type": "code",
   "execution_count": 29,
   "id": "3d25d210-eff8-4712-bf8c-5b4473565f77",
   "metadata": {},
   "outputs": [
    {
     "name": "stdout",
     "output_type": "stream",
     "text": [
      "{1: 'ineffectiveness',\n",
      " 'code': {'a': 1, 'b': 2, 'c': 3},\n",
      " 'helted': 'dropped',\n",
      " 'priviliged': 'facilitated',\n",
      " (1, 2, 3): 'Pakistan'}\n",
      "'dropped'\n",
      "ineffectiveness\n"
     ]
    },
    {
     "data": {
      "text/plain": [
       "3"
      ]
     },
     "execution_count": 29,
     "metadata": {},
     "output_type": "execute_result"
    }
   ],
   "source": [
    "from typing import Dict, Union\n",
    "import pprint  # it will style your code with spacing\n",
    "\n",
    "Key = Union[int, str]  # create custom type also called alias\n",
    "Value = Union[str, int, dict, tuple, set]\n",
    "\n",
    "data: Dict[Key, Value] = {\n",
    "    1: 'ineffectiveness',  # int key, str value\n",
    "    'helted': 'dropped',  # str key, str value\n",
    "    'priviliged': 'facilitated',  # str key, str value\n",
    "    (1, 2, 3): 'Pakistan',  # tuple key, str value\n",
    "    'code' : {'a': 1, 'b': 2, 'c': 3}\n",
    "    # [1, 2, 3]: 'Pakistan',  # unhashable type: 'list'\n",
    "    # {1, 2, 3}: 'Pakistan',  # unhashable type: 'set'\n",
    "}\n",
    "\n",
    "pprint.pprint(data)\n",
    "# Output: {1: 'ineffectiveness',\n",
    "#          'helted': 'dropped',\n",
    "#          'priviliged': 'facilitated',\n",
    "#          (1, 2, 3): 'Pakistan'}\n",
    "\n",
    "pprint.pprint(data[\"helted\"])\n",
    "# Output: 'dropped'\n",
    "\n",
    "print(data[1])  # [1] isn't an index, it's a key\n",
    "# Output: 'ineffectiveness'\n",
    "\n",
    "data['code']['c']"
   ]
  },
  {
   "cell_type": "markdown",
   "id": "7d007d06-d520-4e29-be9f-76fbb3dc45ea",
   "metadata": {},
   "source": [
    "## updata data through dictionary"
   ]
  },
  {
   "cell_type": "code",
   "execution_count": 39,
   "id": "f50f2bb6-ed56-4020-b10c-888c1e07e5ab",
   "metadata": {},
   "outputs": [
    {
     "name": "stdout",
     "output_type": "stream",
     "text": [
      "{'hello': 'world'}\n",
      "{'hello': 'M.Qasim'}\n"
     ]
    }
   ],
   "source": [
    "from typing import Dict, Union\n",
    "import pprint  \n",
    "\n",
    "Key = Union[int, str]  \n",
    "Value = Union[str, int, dict, tuple, set]\n",
    "\n",
    "data : Dict[Key, Value] = {} # empty array\n",
    "data['hello'] = \"world\"   # add new value and key. assign value through sign operator\n",
    "print(data)\n",
    "\n",
    "data['hello'] = 'M.Qasim'\n",
    "print(data)  #\n"
   ]
  },
  {
   "cell_type": "code",
   "execution_count": null,
   "id": "dbe8bb02-0851-4f5d-a43b-234bf7294664",
   "metadata": {},
   "outputs": [],
   "source": []
  },
  {
   "cell_type": "code",
   "execution_count": null,
   "id": "a6067814-0ba7-4336-934a-b394674a78a1",
   "metadata": {},
   "outputs": [],
   "source": []
  }
 ],
 "metadata": {
  "kernelspec": {
   "display_name": "Python 3 (ipykernel)",
   "language": "python",
   "name": "python3"
  },
  "language_info": {
   "codemirror_mode": {
    "name": "ipython",
    "version": 3
   },
   "file_extension": ".py",
   "mimetype": "text/x-python",
   "name": "python",
   "nbconvert_exporter": "python",
   "pygments_lexer": "ipython3",
   "version": "3.11.7"
  }
 },
 "nbformat": 4,
 "nbformat_minor": 5
}
