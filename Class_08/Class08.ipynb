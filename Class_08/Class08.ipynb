{
 "cells": [
  {
   "cell_type": "markdown",
   "id": "277503a9-7aeb-4f24-b3ce-f915c71ae326",
   "metadata": {},
   "source": [
    "### Dict is the built-in data type for dictionaries, which are collections of key-value pairs. \n",
    "* Each item in a dictionary is a pair of keys and values.\n",
    "* Keys must be unique and immutable (e.g., strings, numbers, tuples).\n",
    "* Values can be of any type and do not need to be unique."
   ]
  },
  {
   "cell_type": "code",
   "execution_count": 1,
   "id": "75a42b8d-dba6-4561-b6ed-8b9605b27794",
   "metadata": {},
   "outputs": [
    {
     "name": "stdout",
     "output_type": "stream",
     "text": [
      "32 23\n"
     ]
    }
   ],
   "source": [
    "a : int = 23\n",
    "b : int = 32\n",
    "a, b = b, a\n",
    "print(a, b)"
   ]
  },
  {
   "cell_type": "code",
   "execution_count": 3,
   "id": "3adbe171-f1d8-41e0-ba41-204527183f75",
   "metadata": {},
   "outputs": [
    {
     "name": "stdout",
     "output_type": "stream",
     "text": [
      "{'hello': 'world'}\n",
      "{'hello': 'M.Qasim'}\n"
     ]
    }
   ],
   "source": [
    "from typing import Dict, Union\n",
    "import pprint  \n",
    "\n",
    "Key = Union[int, str]  \n",
    "Value = Union[str, int, dict, tuple, set]\n",
    "\n",
    "data : Dict[Key, Value] = {} # empty array\n",
    "data['hello'] = \"world\"   # add new value and key. assign value through sign operator\n",
    "print(data)\n",
    "\n",
    "data['hello'] = 'M.Qasim'   # update value through key.\n",
    "print(data)  "
   ]
  },
  {
   "cell_type": "code",
   "execution_count": 4,
   "id": "2cb57bb6-682b-4051-b852-8216a42dc896",
   "metadata": {},
   "outputs": [
    {
     "name": "stdout",
     "output_type": "stream",
     "text": [
      "['clear', 'copy', 'fromkeys', 'get', 'items', 'keys', 'pop', 'popitem', 'setdefault', 'update', 'values']\n"
     ]
    }
   ],
   "source": [
    "methods : list[str] = [m for m in dir(data) if \"__\" not in m ]\n",
    "print(methods) "
   ]
  },
  {
   "cell_type": "code",
   "execution_count": 6,
   "id": "141cf12a-71aa-4daa-a7b6-bb51a082b63c",
   "metadata": {},
   "outputs": [
    {
     "name": "stdout",
     "output_type": "stream",
     "text": [
      "['clear', 'copy', 'fromkeys', 'get', 'items', 'keys', 'pop', 'popitem', 'setdefault', 'update', 'values']\n"
     ]
    }
   ],
   "source": [
    "# we can print it any wherebbb.\n",
    "print(methods)"
   ]
  },
  {
   "cell_type": "code",
   "execution_count": 10,
   "id": "03107e1a-d833-45c2-b297-53188ed4e3a1",
   "metadata": {},
   "outputs": [
    {
     "name": "stdout",
     "output_type": "stream",
     "text": [
      "Before {1: 'ineffectiveness', 'helted': 'dropped', 'priviliged': 'facilitated'}\n",
      "After {}\n"
     ]
    }
   ],
   "source": [
    "data: Dict[Key, Value] = {\n",
    "    1: 'ineffectiveness',\n",
    "    'helted': 'dropped',  \n",
    "    'priviliged': 'facilitated',  \n",
    "}\n",
    "print('Before', data)\n",
    "\n",
    "data.clear() # after that remaining code won't excecute.b\n",
    "\n",
    "print('After', data)\n"
   ]
  },
  {
   "cell_type": "code",
   "execution_count": 11,
   "id": "9c5a0ed3-79c9-439f-96ca-c2867914bb63",
   "metadata": {},
   "outputs": [
    {
     "name": "stdout",
     "output_type": "stream",
     "text": [
      "Before {1: 'ineffectiveness', 'helted': 'dropped', 'priviliged': 'facilitated'}\n"
     ]
    },
    {
     "ename": "NameError",
     "evalue": "name 'data' is not defined",
     "output_type": "error",
     "traceback": [
      "\u001b[1;31m---------------------------------------------------------------------------\u001b[0m",
      "\u001b[1;31mNameError\u001b[0m                                 Traceback (most recent call last)",
      "Cell \u001b[1;32mIn[11], line 10\u001b[0m\n\u001b[0;32m      6\u001b[0m \u001b[38;5;28mprint\u001b[39m(\u001b[38;5;124m'\u001b[39m\u001b[38;5;124mBefore\u001b[39m\u001b[38;5;124m'\u001b[39m, data)\n\u001b[0;32m      8\u001b[0m \u001b[38;5;28;01mdel\u001b[39;00m data\n\u001b[1;32m---> 10\u001b[0m \u001b[38;5;28mprint\u001b[39m(\u001b[38;5;124m'\u001b[39m\u001b[38;5;124mAfter\u001b[39m\u001b[38;5;124m'\u001b[39m, \u001b[43mdata\u001b[49m)\n",
      "\u001b[1;31mNameError\u001b[0m: name 'data' is not defined"
     ]
    }
   ],
   "source": [
    "data: Dict[Key, Value] = {\n",
    "    1: 'ineffectiveness',\n",
    "    'helted': 'dropped',  \n",
    "    'priviliged': 'facilitated',  \n",
    "}\n",
    "print('Before', data)\n",
    "\n",
    "del data # after that data (full-object) will be delete, that's why it's giving error.b\n",
    "\n",
    "print('After', data)\n"
   ]
  },
  {
   "cell_type": "code",
   "execution_count": 15,
   "id": "72487a19-06b9-4727-bf9d-1f7efde8f544",
   "metadata": {},
   "outputs": [
    {
     "name": "stdout",
     "output_type": "stream",
     "text": [
      "Before {1: 'ineffectiveness', 'helted': 'dropped', 'priviliged': 'facilitated'}\n",
      "dropped\n",
      "After {1: 'ineffectiveness', 'priviliged': 'facilitated'}\n"
     ]
    }
   ],
   "source": [
    "data: Dict[Key, Value] = {\n",
    "    1: 'ineffectiveness',\n",
    "    'helted': 'dropped',  \n",
    "    'priviliged': 'facilitated',  \n",
    "}\n",
    "print('Before', data)\n",
    "\n",
    "# data.pop('helted')   pop expected at least 1 argument. Bec it gives return so we can put it in a varibale\n",
    "d : str = data.pop('helted') # Later helted will be remove from (after, data)\n",
    "print(d)\n",
    "print('After', data)\n"
   ]
  },
  {
   "cell_type": "code",
   "execution_count": 18,
   "id": "16ec3e55-a2f5-43cd-bdff-c48c3e235fdf",
   "metadata": {},
   "outputs": [
    {
     "name": "stdout",
     "output_type": "stream",
     "text": [
      "Before {1: 'ineffectiveness', 'helted': 'dropped', 'priviliged': 'facilitated'}\n",
      "('priviliged', 'facilitated')\n",
      "After {1: 'ineffectiveness', 'helted': 'dropped'}\n"
     ]
    }
   ],
   "source": [
    "\n",
    "data: Dict[Key, Value] = {\n",
    "    1: 'ineffectiveness',\n",
    "    'helted': 'dropped',  \n",
    "    'priviliged': 'facilitated',  \n",
    "}\n",
    "print('Before', data)\n",
    "\n",
    "d : str = data.popitem() # dict.popitem() takes no arguments (1 given). From this last key and value will be heltb\n",
    "print(d)\n",
    "print('After', data)\n"
   ]
  },
  {
   "cell_type": "code",
   "execution_count": 20,
   "id": "740d6ddc-5658-4f4a-a745-d001bd72db9b",
   "metadata": {},
   "outputs": [
    {
     "name": "stdout",
     "output_type": "stream",
     "text": [
      "Before {1: 'ineffectiveness', 'helted': 'dropped', 'priviliged': 'facilitated'}\n",
      "Not available\n",
      "After {1: 'ineffectiveness', 'helted': 'dropped', 'priviliged': 'facilitated'}\n"
     ]
    }
   ],
   "source": [
    "\n",
    "data: Dict[Key, Value] = {\n",
    "    1: 'ineffectiveness',\n",
    "    'helted': 'dropped',  \n",
    "    'priviliged': 'facilitated',  \n",
    "}\n",
    "print('Before', data)\n",
    "\n",
    "d : str = data.get('Pakistan', 'Not available') # required paramters, this won't add to (After, data)\n",
    "print(d)\n",
    "print('After', data)\n"
   ]
  },
  {
   "cell_type": "code",
   "execution_count": 22,
   "id": "7d98c62a-308a-45bf-b42a-ba6c332ad03b",
   "metadata": {},
   "outputs": [
    {
     "name": "stdout",
     "output_type": "stream",
     "text": [
      "Before {1: 'ineffectiveness', 'helted': 'dropped', 'priviliged': 'facilitated'}\n",
      "Zindabad\n",
      "After {1: 'ineffectiveness', 'helted': 'dropped', 'priviliged': 'facilitated', 'Pakistan': 'Zindabad'}\n"
     ]
    }
   ],
   "source": [
    "\n",
    "data: Dict[Key, Value] = {\n",
    "    1: 'ineffectiveness',\n",
    "    'helted': 'dropped',  \n",
    "    'priviliged': 'facilitated',  \n",
    "}\n",
    "print('Before', data)\n",
    "\n",
    "d : str = data.setdefault('Pakistan', 'Zindabad') # required paramters, this will add key & value to ( data)\n",
    "print(d)\n",
    "print('After', data)\n"
   ]
  },
  {
   "cell_type": "code",
   "execution_count": 24,
   "id": "2abe303b-7a69-489f-87e2-b14ccbc00d29",
   "metadata": {},
   "outputs": [
    {
     "name": "stdout",
     "output_type": "stream",
     "text": [
      "{1: 'ineffectiveness', 'helted': 'dropped', 'priviliged': 'facilitated', 'age': 22, 'Gender': 'Male'}\n"
     ]
    }
   ],
   "source": [
    "data: Dict[Key, Value] = {\n",
    "    1: 'ineffectiveness',\n",
    "    'helted': 'dropped',  \n",
    "    'priviliged': 'facilitated',  \n",
    "}\n",
    "data2 : Dict[Key, Value] = {\n",
    "    'age' : 22,\n",
    "    'Gender' : 'Male',\n",
    "}\n",
    "\n",
    "data.update(data2)\n",
    "print(data)"
   ]
  },
  {
   "cell_type": "code",
   "execution_count": 31,
   "id": "927f7457-84ee-455f-b31b-04670253c6c1",
   "metadata": {},
   "outputs": [
    {
     "data": {
      "text/html": [
       "<div>\n",
       "<style scoped>\n",
       "    .dataframe tbody tr th:only-of-type {\n",
       "        vertical-align: middle;\n",
       "    }\n",
       "\n",
       "    .dataframe tbody tr th {\n",
       "        vertical-align: top;\n",
       "    }\n",
       "\n",
       "    .dataframe thead th {\n",
       "        text-align: right;\n",
       "    }\n",
       "</style>\n",
       "<table border=\"1\" class=\"dataframe\">\n",
       "  <thead>\n",
       "    <tr style=\"text-align: right;\">\n",
       "      <th></th>\n",
       "      <th>Roll number</th>\n",
       "      <th>Name</th>\n",
       "      <th>Education</th>\n",
       "    </tr>\n",
       "  </thead>\n",
       "  <tbody>\n",
       "    <tr>\n",
       "      <th>0</th>\n",
       "      <td>1</td>\n",
       "      <td>Zia</td>\n",
       "      <td>Masters</td>\n",
       "    </tr>\n",
       "    <tr>\n",
       "      <th>1</th>\n",
       "      <td>2</td>\n",
       "      <td>Qasim</td>\n",
       "      <td>Masters</td>\n",
       "    </tr>\n",
       "    <tr>\n",
       "      <th>2</th>\n",
       "      <td>3</td>\n",
       "      <td>Hanry</td>\n",
       "      <td>Masters</td>\n",
       "    </tr>\n",
       "  </tbody>\n",
       "</table>\n",
       "</div>"
      ],
      "text/plain": [
       "   Roll number   Name Education\n",
       "0            1    Zia   Masters\n",
       "1            2  Qasim   Masters\n",
       "2            3  Hanry   Masters"
      ]
     },
     "execution_count": 31,
     "metadata": {},
     "output_type": "execute_result"
    }
   ],
   "source": [
    "import pandas as pd  # this library used for data manupulation\n",
    "from typing import Any\n",
    "student_data : Dict[str, list[Any]] = {    # key are strings and value are lists containing any type\n",
    "\n",
    "    'Roll number' : [1,2,3],\n",
    "    'Name' : ['Zia', 'Qasim', 'Hanry'],\n",
    "    'Education' : ['Masters', 'Masters', 'Masters' ] \n",
    "}\n",
    "# pd.DataFrame: This function from the pandas library is used to create a DataFrame from the dictionary student_data.\n",
    "df : pd.DataFrame = pd.DataFrame(student_data)   # This line creates a DataFrame named df and specifies its type as pd.DataFrame.\n",
    "df\n"
   ]
  },
  {
   "cell_type": "code",
   "execution_count": 38,
   "id": "428f5620-c700-4c85-9cd8-f36d618e7af0",
   "metadata": {},
   "outputs": [
    {
     "name": "stdout",
     "output_type": "stream",
     "text": [
      "Orignal Position: 0\n",
      "New position: 6\n"
     ]
    }
   ],
   "source": [
    "alien = {'x_position' : 0, 'y_position': 25, 'speed': 'medium'}\n",
    "print(f'Orignal Position: {alien['x_position']}')\n",
    "alien['speed'] = 'fast'\n",
    "if alien['speed'] == 'slow' :\n",
    "    x_increment = 1\n",
    "elif alien['speed'] == 'medium' :\n",
    "    x_increment = 2   # it will run two times, resulting 4\n",
    "else: \n",
    "    x_increment = 3 \n",
    "\n",
    "alien['x_position'] = alien['x_position'] + x_increment\n",
    "alien['x_position'] += x_increment\n",
    "print(f'New position: {alien['x_position']}')\n"
   ]
  },
  {
   "cell_type": "code",
   "execution_count": 39,
   "id": "41dcd550-f4db-4e03-ae51-03225099f55f",
   "metadata": {},
   "outputs": [
    {
     "name": "stdout",
     "output_type": "stream",
     "text": [
      "{1: 'changes', 'helted': 'dropped', 'priviliged': 'facilitated'}\n"
     ]
    }
   ],
   "source": [
    "data: Dict[Key, Value] = {\n",
    "    1: 'ineffectiveness',\n",
    "    'helted': 'dropped',  \n",
    "    'priviliged': 'facilitated',  \n",
    "    1: 'changes',\n",
    "}\n",
    "\n",
    "print(data) # if two times key value passed then it will choose the latest key which value is changes"
   ]
  },
  {
   "cell_type": "code",
   "execution_count": 40,
   "id": "f7d13a4e-2e97-4553-81f6-a6994a5b130e",
   "metadata": {},
   "outputs": [
    {
     "name": "stdout",
     "output_type": "stream",
     "text": [
      "Hanry favourite language C\n"
     ]
    }
   ],
   "source": [
    "favourite_language = {\n",
    "    'hanry' : 'c',\n",
    "    'age' : 1,\n",
    "}\n",
    "\n",
    "language = favourite_language['hanry'].title()\n",
    "print(f'Hanry favourite language {language}')"
   ]
  },
  {
   "cell_type": "code",
   "execution_count": 44,
   "id": "58aeb139-43de-4758-9130-eaef1ff7c153",
   "metadata": {},
   "outputs": [
    {
     "name": "stdout",
     "output_type": "stream",
     "text": [
      "Hanry, i see you love C\n"
     ]
    }
   ],
   "source": [
    "favourite_language = {\n",
    "    'hanry' : 'c',\n",
    "    'age' : 1,\n",
    "    'phil' : \"python\",\n",
    "}\n",
    "friends = ['hanry', 'sarah']\n",
    "for name in favourite_language.keys():\n",
    "    if name in friends :\n",
    "        language = favourite_language[name].title()\n",
    "        print(f'{name.title()}, i see you love {language}')"
   ]
  },
  {
   "cell_type": "code",
   "execution_count": 45,
   "id": "d1fd56ff-c6e5-4bf0-a111-05e26147f87c",
   "metadata": {},
   "outputs": [
    {
     "name": "stdout",
     "output_type": "stream",
     "text": [
      "True\n",
      "dict_keys(['hanry', 'age', 'phil'])\n"
     ]
    }
   ],
   "source": [
    "print('erin' not in favourite_language.keys())\n",
    "print(favourite_language.keys())"
   ]
  },
  {
   "cell_type": "code",
   "execution_count": 47,
   "id": "b7023d5a-1508-44c4-8c93-eb09cdcdda7b",
   "metadata": {},
   "outputs": [
    {
     "data": {
      "text/plain": [
       "True"
      ]
     },
     "execution_count": 47,
     "metadata": {},
     "output_type": "execute_result"
    }
   ],
   "source": [
    "# extract sub-string part from main string \n",
    "'Qasim' in \"\"\"My name is Qasim\"\"\""
   ]
  },
  {
   "cell_type": "markdown",
   "id": "1334a2ea-98a2-4579-be66-b6e4134f5e18",
   "metadata": {},
   "source": [
    "### Set give a unique identification. we used set to prevent from duplication. "
   ]
  },
  {
   "cell_type": "code",
   "execution_count": 48,
   "id": "5b744c6f-199b-4461-958f-e0db09780ad6",
   "metadata": {},
   "outputs": [
    {
     "name": "stdout",
     "output_type": "stream",
     "text": [
      "{'color': 'green', 'points': 5}\n",
      "{'color': 'red', 'points': 15}\n",
      "{'color': 'yellow', 'points': 53}\n"
     ]
    }
   ],
   "source": [
    "a : list[Key, Value] = {'color': \"green\", \"points\" : 5}\n",
    "b : list[Key, Value] = {'color': \"red\", \"points\" : 15}\n",
    "c : list[Key, Value] = {'color': \"yellow\", \"points\" : 53}\n",
    "\n",
    "aliens : list[Dict[str,str]] = [a,b,c]   # loop\n",
    "for alien in aliens :\n",
    "    print(alien)"
   ]
  },
  {
   "cell_type": "code",
   "execution_count": 52,
   "id": "a43ddad2-ad87-43fc-a2ac-c856eb65725a",
   "metadata": {},
   "outputs": [
    {
     "name": "stdout",
     "output_type": "stream",
     "text": [
      "[]\n",
      "[{'color': 'green', 'speed': 'slow'},\n",
      " {'color': 'green', 'speed': 'slow'},\n",
      " {'color': 'green', 'speed': 'slow'},\n",
      " {'color': 'green', 'speed': 'slow'},\n",
      " {'color': 'green', 'speed': 'slow'},\n",
      " {'color': 'green', 'speed': 'slow'},\n",
      " {'color': 'green', 'speed': 'slow'},\n",
      " {'color': 'green', 'speed': 'slow'},\n",
      " {'color': 'green', 'speed': 'slow'},\n",
      " {'color': 'green', 'speed': 'slow'}]\n"
     ]
    }
   ],
   "source": [
    "import pprint\n",
    "aliens : list[Dict[str, str]] = []\n",
    "print(aliens)\n",
    "\n",
    "for alien_number in range(10):\n",
    "    new_aliens = {'color': 'green', 'speed': 'slow'}\n",
    "    aliens.append(new_aliens)\n",
    "pprint.pprint(aliens)"
   ]
  },
  {
   "cell_type": "code",
   "execution_count": 53,
   "id": "2794c4b1-0983-4d40-a2c4-87f718a9957c",
   "metadata": {},
   "outputs": [
    {
     "name": "stdout",
     "output_type": "stream",
     "text": [
      "[{'color': 'green', 'speed': 'slow'},\n",
      " {'color': 'green', 'speed': 'slow'},\n",
      " {'color': 'green', 'speed': 'slow'},\n",
      " {'color': 'green', 'speed': 'slow'},\n",
      " {'color': 'green', 'speed': 'slow'}]\n"
     ]
    }
   ],
   "source": [
    "pprint.pprint(aliens[:5]) # slicing start and end on 5   "
   ]
  },
  {
   "cell_type": "code",
   "execution_count": 62,
   "id": "fb6b4392-66ac-4d67-8d87-bd9097b520b1",
   "metadata": {},
   "outputs": [
    {
     "name": "stdout",
     "output_type": "stream",
     "text": [
      "{'color': 'yellow', 'speed': 'medium'}\n"
     ]
    }
   ],
   "source": [
    "for alien in aliens[:3]:\n",
    "    \n",
    "    if alien['color'] == 'green':\n",
    "        alien['color'] = 'yellow'\n",
    "        alien['speed'] = 'medium'\n"
   ]
  },
  {
   "cell_type": "code",
   "execution_count": 65,
   "id": "5e27700e-05d5-449a-ae2e-19dc964faec2",
   "metadata": {},
   "outputs": [
    {
     "name": "stdout",
     "output_type": "stream",
     "text": [
      "[{'color': 'yellow', 'speed': 'medium'},\n",
      " {'color': 'yellow', 'speed': 'medium'},\n",
      " {'color': 'yellow', 'speed': 'medium'},\n",
      " {'color': 'green', 'speed': 'slow'},\n",
      " {'color': 'green', 'speed': 'slow'},\n",
      " {'color': 'green', 'speed': 'slow'},\n",
      " {'color': 'green', 'speed': 'slow'},\n",
      " {'color': 'green', 'speed': 'slow'}]\n"
     ]
    }
   ],
   "source": [
    "import pprint     # changes has been made i top three values\n",
    "pprint.pprint(aliens[:8])"
   ]
  },
  {
   "cell_type": "code",
   "execution_count": 75,
   "id": "0c7087d1-3f50-4b8c-9ccf-de52141b7645",
   "metadata": {},
   "outputs": [],
   "source": [
    "for alien in aliens[:3]:\n",
    "# update the color from yellow to orange\n",
    "    if alien['color'] == 'green':\n",
    "        alien['color'] = 'yellow'\n",
    "        alien['speed'] = 'medium'\n",
    "    elif alien['color'] == \"yellow\":\n",
    "        alien['color'] = \"orange\"\n",
    "        alien['speed'] = 'fast'\n",
    "    \n",
    " "
   ]
  },
  {
   "cell_type": "code",
   "execution_count": 76,
   "id": "4f1e78d3-601b-41e8-9e73-259049db839c",
   "metadata": {},
   "outputs": [
    {
     "name": "stdout",
     "output_type": "stream",
     "text": [
      "[{'color': 'orange', 'speed': 'fast'},\n",
      " {'color': 'orange', 'speed': 'fast'},\n",
      " {'color': 'orange', 'speed': 'fast'},\n",
      " {'color': 'green', 'speed': 'slow'},\n",
      " {'color': 'green', 'speed': 'slow'},\n",
      " {'color': 'green', 'speed': 'slow'},\n",
      " {'color': 'green', 'speed': 'slow'},\n",
      " {'color': 'green', 'speed': 'slow'},\n",
      " {'color': 'green', 'speed': 'slow'},\n",
      " {'color': 'green', 'speed': 'slow'}]\n"
     ]
    }
   ],
   "source": [
    "import pprint\n",
    "pprint.pprint(aliens)"
   ]
  },
  {
   "cell_type": "code",
   "execution_count": 79,
   "id": "d00eff73-8d27-47c3-9c38-04057189e9e3",
   "metadata": {},
   "outputs": [
    {
     "name": "stdout",
     "output_type": "stream",
     "text": [
      "{'negate': 'ineffectiveness', 'helted': 'dropped', 'priviliged': 'facilitated'}\n",
      "<class 'dict'>\n"
     ]
    }
   ],
   "source": [
    "data: Dict[Key, Value] = {\n",
    "    'negate': 'ineffectiveness',\n",
    "    'helted': 'dropped',  \n",
    "    'priviliged': 'facilitated',  \n",
    "}\n",
    "print(data)\n",
    "print(type(data))  # type is dictionary"
   ]
  },
  {
   "cell_type": "code",
   "execution_count": 81,
   "id": "0c32bd6d-109e-4ca6-92f9-31948cb2fe31",
   "metadata": {},
   "outputs": [
    {
     "name": "stdout",
     "output_type": "stream",
     "text": [
      "<class 'str'>\n"
     ]
    },
    {
     "data": {
      "text/plain": [
       "'{\\n    \"negate\": \"ineffectiveness\",\\n    \"helted\": \"dropped\",\\n    \"priviliged\": \"facilitated\"\\n}'"
      ]
     },
     "metadata": {},
     "output_type": "display_data"
    }
   ],
   "source": [
    "import json    # from this data will convert to json form \n",
    "data1 = json.dumps(data, indent=4)\n",
    "print(type(data1))\n",
    "display(data1)"
   ]
  }
 ],
 "metadata": {
  "kernelspec": {
   "display_name": "Python 3 (ipykernel)",
   "language": "python",
   "name": "python3"
  },
  "language_info": {
   "codemirror_mode": {
    "name": "ipython",
    "version": 3
   },
   "file_extension": ".py",
   "mimetype": "text/x-python",
   "name": "python",
   "nbconvert_exporter": "python",
   "pygments_lexer": "ipython3",
   "version": "3.12.4"
  }
 },
 "nbformat": 4,
 "nbformat_minor": 5
}
