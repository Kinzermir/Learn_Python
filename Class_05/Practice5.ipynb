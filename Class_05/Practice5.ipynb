{
 "cells": [
  {
   "cell_type": "markdown",
   "id": "7abfabff-2944-4cc7-8dd1-077a4484126d",
   "metadata": {},
   "source": [
    "# List \n",
    "* Operation with loop\n",
    "* apply any operation on element"
   ]
  },
  {
   "cell_type": "code",
   "execution_count": 1,
   "id": "cff83368-91a1-488c-bb91-7f1c3d0401c7",
   "metadata": {},
   "outputs": [
    {
     "name": "stdout",
     "output_type": "stream",
     "text": [
      "['Sir zia', 'Qasim', 'Numan']\n"
     ]
    }
   ],
   "source": [
    "# in jupyter notebook we don't hav a intelesence option.\n",
    "name : list[str] = [\"Sir zia\", \"Qasim\",\"Numan\"]\n",
    "print(name)"
   ]
  },
  {
   "cell_type": "code",
   "execution_count": 19,
   "id": "0e7e41df-4c08-49d8-ab60-b89ca3c078c2",
   "metadata": {},
   "outputs": [
    {
     "name": "stdout",
     "output_type": "stream",
     "text": [
      "Sir zia\n",
      "Qasim\n",
      "numan\n"
     ]
    }
   ],
   "source": [
    "names : list[str] = [\"Sir zia\", \"Qasim\",\"numan\"]\n",
    "# through for loop we can iterate over each element. \n",
    "# Names will be assigned to name, meaning names element will be assigned to name, and for will iterate over each element, and excecute each element saperately.\n",
    "for name in names:\n",
    "    print(name)"
   ]
  },
  {
   "cell_type": "markdown",
   "id": "3b182e26-6ebe-45b2-aa37-deace69d32e2",
   "metadata": {},
   "source": [
    "# Structure of loop\n",
    "### for `name` in `names` `:`\n",
    "###    print(`name`)"
   ]
  },
  {
   "cell_type": "code",
   "execution_count": 21,
   "id": "94c5d57c-dd82-4568-8c21-9605173af73a",
   "metadata": {
    "scrolled": true
   },
   "outputs": [
    {
     "name": "stdout",
     "output_type": "stream",
     "text": [
      "Welcome Dear Teacher Sir Zia\n",
      "Welcome Dear Teacher Qasim\n",
      "Welcome Dear Teacher Numan\n"
     ]
    }
   ],
   "source": [
    "for name in names :\n",
    "    print(f'Welcome Dear Teacher {name.title()}')\n",
    "# title will capitalize the first alphabet of each element."
   ]
  },
  {
   "cell_type": "code",
   "execution_count": 7,
   "id": "a8631a79-efce-499a-87ec-96c2ad92bd18",
   "metadata": {},
   "outputs": [
    {
     "name": "stdout",
     "output_type": "stream",
     "text": [
      "Welcome Dear Teacher Sir Zia\n",
      "Jazaka Allah\n",
      "\n",
      "Welcome Dear Teacher Numan\n",
      "Jazaka Allah\n",
      "\n",
      "Hello world\n",
      "Okay\n"
     ]
    }
   ],
   "source": [
    "names : list[str] = [\"Sir zia\", \"Qasim\",\"numan\"]\n",
    "for name in names :   # : This colon indicates that all the intended prints will have iterated. But the Hello world line is out of for loop that's why iteration won't applied \n",
    "    print(f'Welcome Dear Teacher {name.title()}')\n",
    "    print(\"Jazaka Allah\\n\")\n",
    "print(\"Hello world\")\n",
    "print(\"Okay\")\n",
    "    "
   ]
  },
  {
   "cell_type": "code",
   "execution_count": 18,
   "id": "be676056-fd90-4634-b6f2-1841917d0cb7",
   "metadata": {},
   "outputs": [
    {
     "name": "stdout",
     "output_type": "stream",
     "text": [
      "Welcome Dear Teacher Numan\n",
      "Jazaka Allah\n",
      "\n",
      "Welcome Dear Teacher Qasim\n",
      "Jazaka Allah\n",
      "\n",
      "Welcome Dear Teacher Sir Zia\n",
      "Jazaka Allah\n",
      "\n",
      "Hello world\n",
      "Okay\n"
     ]
    }
   ],
   "source": [
    "names : list[str] = [\"Sir zia\", \"Qasim\",\"numan\"]\n",
    "# for name in names [2:] :  \n",
    "        # OR\n",
    "for name in names [::-1] :  \n",
    "    print(f'Welcome Dear Teacher {name.title()}')\n",
    "    print(\"Jazaka Allah\\n\")\n",
    "print(\"Hello world\")\n",
    "print(\"Okay\")\n",
    "    "
   ]
  },
  {
   "cell_type": "code",
   "execution_count": 19,
   "id": "c603a67f-df88-4461-9c08-3c1fc606c375",
   "metadata": {},
   "outputs": [
    {
     "name": "stdout",
     "output_type": "stream",
     "text": [
      "('qasim', '123')\n",
      "('hanry', '321')\n",
      "('martin', '986')\n"
     ]
    }
   ],
   "source": [
    "# First go to vscode for intelesence, you can write code on vs code in the same folder under the file class.py\n",
    "# tuple : Tuples are defined by enclosing the elements in parentheses ()\n",
    "# tuple : Tuples are often used for returning multiple values from a function\n",
    "# tuple : Immutable: Once a tuple is created, its elements cannot be modified.\n",
    "data_base : list[tuple[str,str]] = [ \n",
    "    (\"qasim\",\"123\"),\n",
    "    (\"hanry\",\"321\"),\n",
    "    (\"martin\",\"986\"),\n",
    "]\n",
    "\n",
    "for row in data_base :\n",
    "    print(row)\n",
    "# Result :-\n",
    "# ('qasim', '123')  here value is stored in tuple\n",
    "# ('hanry', '321')\n",
    "# ('martin', '986')"
   ]
  },
  {
   "cell_type": "code",
   "execution_count": 21,
   "id": "83e0b775-1a89-49bd-bfc4-810670144280",
   "metadata": {},
   "outputs": [
    {
     "name": "stdout",
     "output_type": "stream",
     "text": [
      "qasim 123\n",
      "hanry 321\n",
      "martin 986\n"
     ]
    }
   ],
   "source": [
    "data_base : list[tuple[str,str]] = [ \n",
    "    (\"qasim\",\"123\"),\n",
    "    (\"hanry\",\"321\"),\n",
    "    (\"martin\",\"986\"),\n",
    "]\n",
    "\n",
    "for row in data_base :\n",
    "    user, password = row  # unzipping\n",
    "    print(user, password)\n",
    "\n",
    "# Result :- \n",
    "# values will stored in variables.\n",
    "# the process is called un-zipping\n"
   ]
  },
  {
   "cell_type": "code",
   "execution_count": 22,
   "id": "37fc4b60-f07b-4786-a785-7b45556ea001",
   "metadata": {},
   "outputs": [
    {
     "name": "stdout",
     "output_type": "stream",
     "text": [
      "Enter your name Kinzer Mir\n"
     ]
    },
    {
     "name": "stdout",
     "output_type": "stream",
     "text": [
      "Kinzer Mir\n"
     ]
    }
   ],
   "source": [
    "input_user : str = input(\"Enter your name\")\n",
    "print(input_user)\n",
    "# input is a function, through wich we can write value in run time. The value will stored in a variable."
   ]
  },
  {
   "cell_type": "code",
   "execution_count": 31,
   "id": "2eb3373b-db47-4a23-b10b-d7817e860e4d",
   "metadata": {},
   "outputs": [
    {
     "name": "stdout",
     "output_type": "stream",
     "text": [
      "Enter your name hanry\n",
      "Enter your password 321\n"
     ]
    },
    {
     "name": "stdout",
     "output_type": "stream",
     "text": [
      "Valid User\n"
     ]
    }
   ],
   "source": [
    "data_base : list[tuple[str,str]] = [ \n",
    "    (\"qasim\",\"123\"),\n",
    "    (\"hanry\",\"321\"),\n",
    "    (\"martin\",\"986\"),\n",
    "]\n",
    "\n",
    "input_user : str = input(\"Enter your name\")\n",
    "input_password : str = input (\"Enter your password\")\n",
    "\n",
    "for row in data_base :\n",
    "    \n",
    "    user, password = row  \n",
    "    if input_user == user and input_password == password :\n",
    "        print(\"Valid User\")\n",
    "        break\n",
    "else : # must write else condition outside the if \n",
    "        print(\"Not Found or Invalid User\")\n",
    "\n",
    "\n",
    "\n",
    "# On above code first we apply loop to iterate on each element then to get single element saperately we used un-zip function, for un-zipping we made two variables under the name user and password.\n",
    "# Later we made input and on input we applied if condition and compared with un-zipped variables.\n"
   ]
  },
  {
   "cell_type": "code",
   "execution_count": 32,
   "id": "d4664522-07f2-4c5b-aa11-8760f1193180",
   "metadata": {},
   "outputs": [
    {
     "name": "stdout",
     "output_type": "stream",
     "text": [
      "Enter your name asd\n",
      "Enter your password asd\n"
     ]
    },
    {
     "name": "stdout",
     "output_type": "stream",
     "text": [
      "Not Found or Invalid User\n"
     ]
    }
   ],
   "source": [
    "data_base : list[tuple[str,str]] = [ \n",
    "    (\"qasim\",\"123\"),\n",
    "    (\"hanry\",\"321\"),\n",
    "    (\"martin\",\"986\"),\n",
    "]\n",
    "\n",
    "input_user : str = input(\"Enter your name\")\n",
    "input_password : str = input (\"Enter your password\")\n",
    "\n",
    "for row in data_base :\n",
    "    \n",
    "    user, password = row  \n",
    "    if input_user == user and input_password == password :\n",
    "        print(\"Valid User\")\n",
    "        break\n",
    "else : # must write else condition outside if condition, bec when for loop iterate over elements and if he don't able to find element then he will go to else condition and if we found an element during iteration then for loop move to if condition.\n",
    "        print(\"Not Found or Invalid User\")\n",
    "\n",
    "\n",
    "\n",
    "# On above code first we apply loop to iterate on each element then to get single element saperately we used un-zip function, for un-zipping we made two variables under the name user and password.\n",
    "# Later we made input and on input we applied if condition and compared with un-zipped variables.\n"
   ]
  },
  {
   "cell_type": "code",
   "execution_count": 33,
   "id": "fbe97fb7-c708-40ef-87a6-6159dfc8225d",
   "metadata": {},
   "outputs": [
    {
     "ename": "IndentationError",
     "evalue": "expected an indented block after 'for' statement on line 7 (3805732758.py, line 8)",
     "output_type": "error",
     "traceback": [
      "\u001b[1;36m  Cell \u001b[1;32mIn[33], line 8\u001b[1;36m\u001b[0m\n\u001b[1;33m    user, password = row  # unzipping\u001b[0m\n\u001b[1;37m    ^\u001b[0m\n\u001b[1;31mIndentationError\u001b[0m\u001b[1;31m:\u001b[0m expected an indented block after 'for' statement on line 7\n"
     ]
    }
   ],
   "source": [
    "# Syntax error\n",
    "data_base : list[tuple[str,str]] = [ \n",
    "    (\"qasim\",\"123\"),\n",
    "]\n",
    "\n",
    "for row in data_base :\n",
    "user, password = row  # unzipping\n",
    "    print(user, password)"
   ]
  },
  {
   "cell_type": "code",
   "execution_count": 35,
   "id": "1cca5adc-6bfb-4f0e-bfbc-934cf8150030",
   "metadata": {},
   "outputs": [
    {
     "name": "stdout",
     "output_type": "stream",
     "text": [
      "Hanry, that was a great trick\n",
      "Martin, that was a great trick\n",
      "David, that was a great trick\n",
      "I cann't wait to see your next trick David\n"
     ]
    }
   ],
   "source": [
    "magicians : list[str] = [\"Hanry\", \"Martin\", \"David\"]\n",
    "\n",
    "for magician in magicians :\n",
    "    print(f\"{magician.title()}, that was a great trick\") # this is called local variable. It is access in particular block such as loop block or if block, meaning boundry ke andr bane oor boundry ke andr he access hu called local variable.\n",
    "# it will access the last element\n",
    "print(f\"I cann't wait to see your next trick {magician.title()}\") # this is called global variable. It can access out side the particular block."
   ]
  },
  {
   "cell_type": "code",
   "execution_count": 49,
   "id": "050cb1f5-8547-49b0-be94-aa8f7bad9c0f",
   "metadata": {},
   "outputs": [
    {
     "data": {
      "text/plain": [
       "[(0, 'Hanry'), (1, 'Martin'), (2, 'David')]"
      ]
     },
     "execution_count": 49,
     "metadata": {},
     "output_type": "execute_result"
    }
   ],
   "source": [
    "# it will show list(iteration) plus index numbers.\n",
    "magicians : list[str] = [\"Hanry\", \"Martin\", \"David\"]\n",
    "list(enumerate(magicians))"
   ]
  },
  {
   "cell_type": "code",
   "execution_count": 60,
   "id": "6d68c2bf-83dd-4dee-a334-071e5e9d3bf7",
   "metadata": {},
   "outputs": [
    {
     "name": "stdout",
     "output_type": "stream",
     "text": [
      "0 Hanry\n",
      "1 Martin\n",
      "2 David\n"
     ]
    }
   ],
   "source": [
    "# iteration through loop instead of list, showing index plus name, so for that we un-zipped into two variables.\n",
    "magicians = [\"Hanry\", \"Martin\", \"David\"]\n",
    "\n",
    "for index, name in enumerate(magicians):\n",
    "    print(index, name)"
   ]
  },
  {
   "cell_type": "code",
   "execution_count": 37,
   "id": "ef700113-e3d1-4030-aa48-0dd279a825ef",
   "metadata": {},
   "outputs": [
    {
     "ename": "IndentationError",
     "evalue": "unexpected indent (1559256344.py, line 2)",
     "output_type": "error",
     "traceback": [
      "\u001b[1;36m  Cell \u001b[1;32mIn[37], line 2\u001b[1;36m\u001b[0m\n\u001b[1;33m    print(message)\u001b[0m\n\u001b[1;37m    ^\u001b[0m\n\u001b[1;31mIndentationError\u001b[0m\u001b[1;31m:\u001b[0m unexpected indent\n"
     ]
    }
   ],
   "source": [
    "# when you do unecassary intendation you will have to faced error.\n",
    "message : str = \"How do you do\"\n",
    "    print(message)"
   ]
  },
  {
   "cell_type": "markdown",
   "id": "f62724eb-4f7f-4df3-8e18-bf17f9529f65",
   "metadata": {},
   "source": [
    "# Numbers with loop \n",
    "* `range(start,end,step)`"
   ]
  },
  {
   "cell_type": "code",
   "execution_count": 38,
   "id": "382f181d-1ad6-4419-8d91-85ba342fe16b",
   "metadata": {},
   "outputs": [
    {
     "data": {
      "text/plain": [
       "range(0, 10)"
      ]
     },
     "execution_count": 38,
     "metadata": {},
     "output_type": "execute_result"
    }
   ],
   "source": [
    "# range 10 means 0,1,2,3,4,5..10 but below it showes 0,10 be it's can't call directly, it's generated function isko chalana parta hai so for excecution we perform iteration through list\n",
    "range(10)"
   ]
  },
  {
   "cell_type": "code",
   "execution_count": 39,
   "id": "a90f4bd5-e4b7-4015-b998-005886073fb6",
   "metadata": {},
   "outputs": [
    {
     "data": {
      "text/plain": [
       "[0, 1, 2, 3, 4, 5, 6, 7, 8, 9]"
      ]
     },
     "execution_count": 39,
     "metadata": {},
     "output_type": "execute_result"
    }
   ],
   "source": [
    "# For iteration we used list function to iterate on each element \n",
    "list(range(10)) # by default starting = 0, and ending n-1 tak show krega "
   ]
  },
  {
   "cell_type": "code",
   "execution_count": 41,
   "id": "47824453-6371-47f7-b69c-40a7af4c9492",
   "metadata": {},
   "outputs": [
    {
     "data": {
      "text/plain": [
       "[2, 3, 4, 5, 6, 7, 8, 9]"
      ]
     },
     "execution_count": 41,
     "metadata": {},
     "output_type": "execute_result"
    }
   ],
   "source": [
    "list(range(2,10)) "
   ]
  },
  {
   "cell_type": "code",
   "execution_count": 42,
   "id": "35637949-52ea-4a37-ac45-3b015ff43a5f",
   "metadata": {},
   "outputs": [
    {
     "data": {
      "text/plain": [
       "[2, 4, 6, 8, 10, 12, 14, 16, 18, 20]"
      ]
     },
     "execution_count": 42,
     "metadata": {},
     "output_type": "execute_result"
    }
   ],
   "source": [
    "list(range(2,21,2)) # step 2 meaning 2 ka gap ay ga "
   ]
  },
  {
   "cell_type": "code",
   "execution_count": 43,
   "id": "0fe603f5-268c-44ca-a866-c8d9bc926f45",
   "metadata": {},
   "outputs": [
    {
     "data": {
      "text/plain": [
       "[2, 5, 8, 11, 14, 17, 20]"
      ]
     },
     "execution_count": 43,
     "metadata": {},
     "output_type": "execute_result"
    }
   ],
   "source": [
    "list(range(2,21,3)) # step 3 meaning 3 ka gap ay ga "
   ]
  },
  {
   "cell_type": "code",
   "execution_count": 45,
   "id": "45522961-74cc-4577-b488-0c9cea5b9700",
   "metadata": {},
   "outputs": [
    {
     "name": "stdout",
     "output_type": "stream",
     "text": [
      "2\n",
      "4\n",
      "6\n",
      "8\n",
      "10\n",
      "12\n",
      "14\n",
      "16\n",
      "18\n",
      "20\n"
     ]
    }
   ],
   "source": [
    "# for loop also applying iteration that's why i didn't apply list\n",
    "for n in range(2,21,2) :\n",
    "    print(n)"
   ]
  },
  {
   "cell_type": "code",
   "execution_count": 62,
   "id": "8f53149b-aba7-4104-b266-ea40c49a121e",
   "metadata": {},
   "outputs": [
    {
     "name": "stdout",
     "output_type": "stream",
     "text": [
      "2\n",
      "4\n",
      "6\n",
      "8\n",
      "10\n",
      "12\n",
      "14\n",
      "16\n",
      "18\n",
      "20\n"
     ]
    }
   ],
   "source": [
    "for n in range(2,21,2):\n",
    "    print(n)"
   ]
  },
  {
   "cell_type": "code",
   "execution_count": 68,
   "id": "9b7f4a75-381a-4149-a4cc-e87f5176ebf6",
   "metadata": {},
   "outputs": [
    {
     "name": "stdout",
     "output_type": "stream",
     "text": [
      "2 X 1 = 2\n",
      "2 X 2 = 4\n",
      "2 X 3 = 6\n",
      "2 X 4 = 8\n",
      "2 X 5 = 10\n",
      "2 X 6 = 12\n",
      "2 X 7 = 14\n",
      "2 X 8 = 16\n",
      "2 X 9 = 18\n",
      "2 X 10 = 20\n",
      "\n",
      "A Table of Two\n"
     ]
    }
   ],
   "source": [
    "# 2 Table with the help of range.\n",
    "for n in range(1,11): # start from 1 and ending at 10 (n-1)\n",
    "    print(f'{2} X {n} = {n*2}')\n",
    "print(\"\\nA Table of Two\")"
   ]
  },
  {
   "cell_type": "code",
   "execution_count": 72,
   "id": "bc323c2b-9361-473c-8ee1-66b5980fdfb8",
   "metadata": {},
   "outputs": [
    {
     "name": "stdout",
     "output_type": "stream",
     "text": [
      "[1, 4, 9, 16, 25, 36, 49, 64, 81, 100]\n"
     ]
    }
   ],
   "source": [
    "squares : list[int] = []\n",
    "for value in range(1,11):\n",
    "    square = value ** 2   # local variable\n",
    "    squares.append(square)  # add elements\n",
    "print(squares)\n",
    "\n",
    "# But to avoid so many steps we perform LIST COMPREHENSIVE."
   ]
  },
  {
   "cell_type": "markdown",
   "id": "08b353d9-116a-4044-b00e-a1bbec24b06d",
   "metadata": {},
   "source": [
    "# list Comprehensive.\n",
    "```\n",
    "for item in itmes :\n",
    "    loop_body\n",
    "```\n",
    "## Comprehensice Style\n",
    "```\n",
    "[loop_body for item in itmes]  \n",
    "```\n",
    "* body ko sb se pehle likh daina"
   ]
  },
  {
   "cell_type": "code",
   "execution_count": 77,
   "id": "e5a5a6a6-748c-4716-88b2-4f39e89bf7bc",
   "metadata": {},
   "outputs": [
    {
     "name": "stdout",
     "output_type": "stream",
     "text": [
      "1\n",
      "4\n",
      "9\n",
      "16\n",
      "25\n",
      "36\n",
      "49\n",
      "64\n",
      "81\n",
      "100\n"
     ]
    }
   ],
   "source": [
    "for i in range(1,11):\n",
    "    print(i ** 2)  \n",
    "# lengthy process"
   ]
  },
  {
   "cell_type": "code",
   "execution_count": 76,
   "id": "822dae03-5f6d-4e37-ad94-f53741e65c91",
   "metadata": {},
   "outputs": [
    {
     "data": {
      "text/plain": [
       "[1, 4, 9, 16, 25, 36, 49, 64, 81, 100]"
      ]
     },
     "execution_count": 76,
     "metadata": {},
     "output_type": "execute_result"
    }
   ],
   "source": [
    "# Comprehensive style \n",
    "[i ** 2 for i in range(1,11)]  # i**2 is body and according to comprehensive structure body comes first."
   ]
  },
  {
   "cell_type": "code",
   "execution_count": 79,
   "id": "6e64396a-a0a3-4864-bb45-8ef16a347f96",
   "metadata": {},
   "outputs": [
    {
     "data": {
      "text/plain": [
       "'line3'"
      ]
     },
     "execution_count": 79,
     "metadata": {},
     "output_type": "execute_result"
    }
   ],
   "source": [
    "# without print option it will return last element\n",
    "'line1'\n",
    "'line2'\n",
    "'line3'"
   ]
  },
  {
   "cell_type": "code",
   "execution_count": 80,
   "id": "8a78a234-76b6-4e08-9383-a1a7e9200ca8",
   "metadata": {},
   "outputs": [
    {
     "name": "stdout",
     "output_type": "stream",
     "text": [
      "line 1\n",
      "line 2\n",
      "line 3\n"
     ]
    }
   ],
   "source": [
    "# with print it will return all elements\n",
    "print(\"line 1\")\n",
    "print(\"line 2\")\n",
    "print(\"line 3\")"
   ]
  },
  {
   "cell_type": "code",
   "execution_count": 88,
   "id": "dc3041c0-e62c-4c93-a51f-8b18a6f8195b",
   "metadata": {},
   "outputs": [
    {
     "name": "stdout",
     "output_type": "stream",
     "text": [
      "[1, 2, 3, 4, 5, 6, 7, 8, 9]\n",
      "9\n",
      "1\n",
      "45\n",
      "1\n"
     ]
    }
   ],
   "source": [
    "numbers : list[int] = [1, 2, 3, 4, 5, 6, 7, 8, 9]\n",
    "print(numbers)\n",
    "print(max(numbers))\n",
    "print(min(numbers))\n",
    "print(sum(numbers))\n",
    "print(min(numbers))"
   ]
  },
  {
   "cell_type": "code",
   "execution_count": 94,
   "id": "a198e456-343f-46e8-9c00-f9992d73cc10",
   "metadata": {},
   "outputs": [
    {
     "name": "stdout",
     "output_type": "stream",
     "text": [
      "['pizza', 'carrot cake']\n",
      "['pizza', 'carrot cake']\n",
      "['pizza', 'carrot cake']\n",
      "['Banana Cake', 'carrot cake']\n"
     ]
    }
   ],
   "source": [
    "my_food : list[str] = [\"pizza\", \"carrot cake\"]\n",
    "friend_food = my_food[:]   # modified copy called deep copy, meaning slicing won't affect over orignal variable/\n",
    "print(my_food)\n",
    "print(friend_food)\n",
    "\n",
    "friend_food [0] = \"Banana Cake\"\n",
    "print(my_food)\n",
    "print(friend_food)"
   ]
  },
  {
   "cell_type": "markdown",
   "id": "77a4601d-d40b-4c41-a334-754751a9468f",
   "metadata": {},
   "source": [
    "# Tuples\n",
    "* immutable mtlb is me koi cheez append nahe ho sakte and nor update."
   ]
  },
  {
   "cell_type": "code",
   "execution_count": 100,
   "id": "99ca338a-6a06-4cc5-9021-dc26ed50fbdd",
   "metadata": {},
   "outputs": [
    {
     "name": "stdout",
     "output_type": "stream",
     "text": [
      "A\n",
      "('A', 'C')\n"
     ]
    }
   ],
   "source": [
    "# tuple start with round brackets ()\n",
    "names : tuple[str] = (\"A\", \"B\", \"C\")\n",
    "print(names[0])\n",
    "print(names[0:3:2])"
   ]
  },
  {
   "cell_type": "code",
   "execution_count": 101,
   "id": "f8a1401e-0efb-42ab-bec7-1c16de100993",
   "metadata": {},
   "outputs": [
    {
     "ename": "TypeError",
     "evalue": "'tuple' object does not support item assignment",
     "output_type": "error",
     "traceback": [
      "\u001b[1;31m---------------------------------------------------------------------------\u001b[0m",
      "\u001b[1;31mTypeError\u001b[0m                                 Traceback (most recent call last)",
      "Cell \u001b[1;32mIn[101], line 2\u001b[0m\n\u001b[0;32m      1\u001b[0m names : \u001b[38;5;28mtuple\u001b[39m[\u001b[38;5;28mstr\u001b[39m] \u001b[38;5;241m=\u001b[39m (\u001b[38;5;124m\"\u001b[39m\u001b[38;5;124mA\u001b[39m\u001b[38;5;124m\"\u001b[39m, \u001b[38;5;124m\"\u001b[39m\u001b[38;5;124mB\u001b[39m\u001b[38;5;124m\"\u001b[39m, \u001b[38;5;124m\"\u001b[39m\u001b[38;5;124mC\u001b[39m\u001b[38;5;124m\"\u001b[39m)\n\u001b[1;32m----> 2\u001b[0m \u001b[43mnames\u001b[49m\u001b[43m[\u001b[49m\u001b[38;5;241;43m0\u001b[39;49m\u001b[43m]\u001b[49m \u001b[38;5;241m=\u001b[39m \u001b[38;5;124m\"\u001b[39m\u001b[38;5;124mD\u001b[39m\u001b[38;5;124m\"\u001b[39m\n\u001b[0;32m      3\u001b[0m \u001b[38;5;28mprint\u001b[39m(names)\n",
      "\u001b[1;31mTypeError\u001b[0m: 'tuple' object does not support item assignment"
     ]
    }
   ],
   "source": [
    "# error cuz tuple is immutable.\n",
    "names : tuple[str] = (\"A\", \"B\", \"C\")\n",
    "names[0] = \"D\"\n",
    "print(names) "
   ]
  },
  {
   "cell_type": "code",
   "execution_count": 102,
   "id": "579ff8ac-5f32-4ffd-b13c-7d79ff6453ea",
   "metadata": {},
   "outputs": [
    {
     "name": "stdout",
     "output_type": "stream",
     "text": [
      "('A', True, [1, 2, 3])\n"
     ]
    }
   ],
   "source": [
    "from typing import Any\n",
    "data : tuple[Any] = (\"A\", True, [1,2,3])\n",
    "print(data)"
   ]
  },
  {
   "cell_type": "code",
   "execution_count": 113,
   "id": "40ef4b25-e82b-4a03-9c59-c666fb91b06b",
   "metadata": {},
   "outputs": [
    {
     "name": "stdout",
     "output_type": "stream",
     "text": [
      "[1, 2, 3]\n",
      "('A', 'B', [1, 2, 3, 20])\n"
     ]
    }
   ],
   "source": [
    "from typing import Any\n",
    "data : tuple[Any] = (\"A\", \"B\", [1,2,3])\n",
    "print(data[2])\n",
    "data[2].append(20)  # here we updata the object (which is inside tuple) not tuple. meaning you can update object in tuple not tuple.\n",
    "print(data)"
   ]
  },
  {
   "cell_type": "code",
   "execution_count": 1,
   "id": "d58d3303",
   "metadata": {},
   "outputs": [
    {
     "data": {
      "text/plain": [
       "[1, 1, 1, 2, 2, 3]"
      ]
     },
     "execution_count": 1,
     "metadata": {},
     "output_type": "execute_result"
    }
   ],
   "source": [
    "sorted([1,2,3,1,2,1])"
   ]
  }
 ],
 "metadata": {
  "kernelspec": {
   "display_name": "Python 3 (ipykernel)",
   "language": "python",
   "name": "python3"
  },
  "language_info": {
   "codemirror_mode": {
    "name": "ipython",
    "version": 3
   },
   "file_extension": ".py",
   "mimetype": "text/x-python",
   "name": "python",
   "nbconvert_exporter": "python",
   "pygments_lexer": "ipython3",
   "version": "3.12.4"
  }
 },
 "nbformat": 4,
 "nbformat_minor": 5
}
